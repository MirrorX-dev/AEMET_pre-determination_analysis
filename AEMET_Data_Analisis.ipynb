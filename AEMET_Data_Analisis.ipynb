{
 "cells": [
  {
   "attachments": {},
   "cell_type": "markdown",
   "id": "9447174d",
   "metadata": {},
   "source": [
    "## Analisis de datos meteorológicos\n",
    "#### Obtención de datos, AEMET, almacenados de forma independiente.\n",
    "Se procede a desarrollar una metodología y flujo de procesos para recopilar datos de AEMET: Agencia Estatal de Meteorología - AEMET. Gobierno de España. Almacenaré la información de forma independiente en Mongo Atlas (NoSQL, Clúster en la nube). Con la finalidad de realizar un análisis y poner en práctica NIFI para realizar todas las tareas. Desde Jupyter, junto al lenguaje de programación Python, podremos realizar el analisis de la información recopilada.\n",
    "\n",
    "##### Los siguientes DATOS fueron registrados y evaluados durante la DANA registrada en España (27/30 / 05/2023) | Jesús Blanco\n"
   ]
  },
  {
   "attachments": {},
   "cell_type": "markdown",
   "id": "9177040b",
   "metadata": {},
   "source": [
    "#### INSTALACIÓN DE LIBRERIAS PYTHON, ANALISIS DE DATOS"
   ]
  },
  {
   "cell_type": "code",
   "execution_count": 1,
   "id": "edb865ba",
   "metadata": {
    "scrolled": true
   },
   "outputs": [
    {
     "name": "stdout",
     "output_type": "stream",
     "text": [
      "Defaulting to user installation because normal site-packages is not writeable\n",
      "Requirement already satisfied: pymongo in c:\\users\\vespertino\\appdata\\roaming\\python\\python39\\site-packages (4.3.3)\n",
      "Requirement already satisfied: dnspython<3.0.0,>=1.16.0 in c:\\users\\vespertino\\appdata\\roaming\\python\\python39\\site-packages (from pymongo) (2.3.0)\n",
      "Defaulting to user installation because normal site-packages is not writeable\n",
      "Requirement already satisfied: matplotlib in c:\\programdata\\anaconda3\\lib\\site-packages (3.5.2)\n",
      "Requirement already satisfied: pillow>=6.2.0 in c:\\programdata\\anaconda3\\lib\\site-packages (from matplotlib) (9.2.0)\n",
      "Requirement already satisfied: cycler>=0.10 in c:\\programdata\\anaconda3\\lib\\site-packages (from matplotlib) (0.11.0)\n",
      "Requirement already satisfied: kiwisolver>=1.0.1 in c:\\programdata\\anaconda3\\lib\\site-packages (from matplotlib) (1.4.2)\n",
      "Requirement already satisfied: packaging>=20.0 in c:\\programdata\\anaconda3\\lib\\site-packages (from matplotlib) (21.3)\n",
      "Requirement already satisfied: numpy>=1.17 in c:\\programdata\\anaconda3\\lib\\site-packages (from matplotlib) (1.21.5)\n",
      "Requirement already satisfied: fonttools>=4.22.0 in c:\\programdata\\anaconda3\\lib\\site-packages (from matplotlib) (4.25.0)\n",
      "Requirement already satisfied: pyparsing>=2.2.1 in c:\\programdata\\anaconda3\\lib\\site-packages (from matplotlib) (3.0.9)\n",
      "Requirement already satisfied: python-dateutil>=2.7 in c:\\programdata\\anaconda3\\lib\\site-packages (from matplotlib) (2.8.2)\n",
      "Requirement already satisfied: six>=1.5 in c:\\programdata\\anaconda3\\lib\\site-packages (from python-dateutil>=2.7->matplotlib) (1.16.0)\n"
     ]
    }
   ],
   "source": [
    "!pip install pymongo\n",
    "!pip install matplotlib"
   ]
  },
  {
   "attachments": {},
   "cell_type": "markdown",
   "id": "306f9865",
   "metadata": {},
   "source": [
    "#### IMPORTACIÓN DE LIBRERIAS PYTHON, ANALISIS DE DATOS"
   ]
  },
  {
   "cell_type": "code",
   "execution_count": 34,
   "id": "73cc9aee",
   "metadata": {},
   "outputs": [],
   "source": [
    "import pymongo\n",
    "import pandas as pd\n",
    "import matplotlib.pyplot as plt\n",
    "import seaborn as sns\n",
    "import plotly.graph_objects as go\n",
    "import plotly.subplots as sp\n",
    "import random\n",
    "from collections import defaultdict\n",
    "from datetime import datetime\n",
    "from pymongo import MongoClient"
   ]
  },
  {
   "attachments": {},
   "cell_type": "markdown",
   "id": "cd4f3bd1",
   "metadata": {},
   "source": [
    "#### CONEXIÓN AL CLIENTE MONGODB (DATOS), BASE DE DATOS DE LA COLECCIÓN:"
   ]
  },
  {
   "cell_type": "code",
   "execution_count": 51,
   "id": "96c5fd62",
   "metadata": {},
   "outputs": [],
   "source": [
    "# Reemplaza <URI_de_conexión> con tu propio URI de conexión\n",
    "client = MongoClient(\"mongodb+srv://<USER>:<PASSWORD>@bgpd.pbgm2ds.mongodb.net/?\")"
   ]
  },
  {
   "cell_type": "code",
   "execution_count": 52,
   "id": "91c1bc2c",
   "metadata": {},
   "outputs": [],
   "source": [
    "# Selecciona la base de datos\n",
    "db = client['aemet_db']\n",
    "\n",
    "# Selecciona la colección\n",
    "collection = db['aemet_pred_28079_madrid']"
   ]
  },
  {
   "cell_type": "code",
   "execution_count": 53,
   "id": "1da8a394",
   "metadata": {},
   "outputs": [],
   "source": [
    "# Extrae todos los documentos de la colección\n",
    "documents = collection.find()\n",
    "\n",
    "# Convierte los documentos a un DataFrame de Pandas para facilitar su análisis\n",
    "df = pd.DataFrame(list(documents))"
   ]
  },
  {
   "attachments": {},
   "cell_type": "markdown",
   "id": "9d3dfd22",
   "metadata": {},
   "source": [
    "#### INTERPRETACIÓN DE LA INFORMACIÓN RECOPILADA (FORMATO JSON ANIDADO)"
   ]
  },
  {
   "cell_type": "code",
   "execution_count": 54,
   "id": "d747795d",
   "metadata": {},
   "outputs": [
    {
     "data": {
      "text/html": [
       "<div>\n",
       "<style scoped>\n",
       "    .dataframe tbody tr th:only-of-type {\n",
       "        vertical-align: middle;\n",
       "    }\n",
       "\n",
       "    .dataframe tbody tr th {\n",
       "        vertical-align: top;\n",
       "    }\n",
       "\n",
       "    .dataframe thead th {\n",
       "        text-align: right;\n",
       "    }\n",
       "</style>\n",
       "<table border=\"1\" class=\"dataframe\">\n",
       "  <thead>\n",
       "    <tr style=\"text-align: right;\">\n",
       "      <th></th>\n",
       "      <th>_id</th>\n",
       "      <th>origen</th>\n",
       "      <th>elaborado</th>\n",
       "      <th>nombre</th>\n",
       "      <th>provincia</th>\n",
       "      <th>prediccion</th>\n",
       "      <th>id</th>\n",
       "      <th>version</th>\n",
       "    </tr>\n",
       "  </thead>\n",
       "  <tbody>\n",
       "    <tr>\n",
       "      <th>count</th>\n",
       "      <td>60</td>\n",
       "      <td>60</td>\n",
       "      <td>60</td>\n",
       "      <td>60</td>\n",
       "      <td>60</td>\n",
       "      <td>60</td>\n",
       "      <td>60</td>\n",
       "      <td>60</td>\n",
       "    </tr>\n",
       "    <tr>\n",
       "      <th>unique</th>\n",
       "      <td>60</td>\n",
       "      <td>1</td>\n",
       "      <td>17</td>\n",
       "      <td>1</td>\n",
       "      <td>1</td>\n",
       "      <td>6</td>\n",
       "      <td>1</td>\n",
       "      <td>1</td>\n",
       "    </tr>\n",
       "    <tr>\n",
       "      <th>top</th>\n",
       "      <td>64707291379baf6cd7d15cb8</td>\n",
       "      <td>{'productor': 'Agencia Estatal de Meteorolog�a...</td>\n",
       "      <td>2023-05-29T16:12:11</td>\n",
       "      <td>Madrid</td>\n",
       "      <td>Madrid</td>\n",
       "      <td>{'dia': [{'estadoCielo': [{'value': '46', 'per...</td>\n",
       "      <td>28079</td>\n",
       "      <td>1.0</td>\n",
       "    </tr>\n",
       "    <tr>\n",
       "      <th>freq</th>\n",
       "      <td>1</td>\n",
       "      <td>60</td>\n",
       "      <td>16</td>\n",
       "      <td>60</td>\n",
       "      <td>60</td>\n",
       "      <td>19</td>\n",
       "      <td>60</td>\n",
       "      <td>60</td>\n",
       "    </tr>\n",
       "  </tbody>\n",
       "</table>\n",
       "</div>"
      ],
      "text/plain": [
       "                             _id  \\\n",
       "count                         60   \n",
       "unique                        60   \n",
       "top     64707291379baf6cd7d15cb8   \n",
       "freq                           1   \n",
       "\n",
       "                                                   origen  \\\n",
       "count                                                  60   \n",
       "unique                                                  1   \n",
       "top     {'productor': 'Agencia Estatal de Meteorolog�a...   \n",
       "freq                                                   60   \n",
       "\n",
       "                  elaborado  nombre provincia  \\\n",
       "count                    60      60        60   \n",
       "unique                   17       1         1   \n",
       "top     2023-05-29T16:12:11  Madrid    Madrid   \n",
       "freq                     16      60        60   \n",
       "\n",
       "                                               prediccion     id version  \n",
       "count                                                  60     60      60  \n",
       "unique                                                  6      1       1  \n",
       "top     {'dia': [{'estadoCielo': [{'value': '46', 'per...  28079     1.0  \n",
       "freq                                                   19     60      60  "
      ]
     },
     "execution_count": 54,
     "metadata": {},
     "output_type": "execute_result"
    }
   ],
   "source": [
    "df.describe()"
   ]
  },
  {
   "cell_type": "code",
   "execution_count": 55,
   "id": "a1d35a41",
   "metadata": {},
   "outputs": [
    {
     "name": "stdout",
     "output_type": "stream",
     "text": [
      "<class 'pandas.core.frame.DataFrame'>\n",
      "RangeIndex: 60 entries, 0 to 59\n",
      "Data columns (total 8 columns):\n",
      " #   Column      Non-Null Count  Dtype \n",
      "---  ------      --------------  ----- \n",
      " 0   _id         60 non-null     object\n",
      " 1   origen      60 non-null     object\n",
      " 2   elaborado   60 non-null     object\n",
      " 3   nombre      60 non-null     object\n",
      " 4   provincia   60 non-null     object\n",
      " 5   prediccion  60 non-null     object\n",
      " 6   id          60 non-null     object\n",
      " 7   version     60 non-null     object\n",
      "dtypes: object(8)\n",
      "memory usage: 3.9+ KB\n"
     ]
    }
   ],
   "source": [
    "df.info()"
   ]
  },
  {
   "cell_type": "code",
   "execution_count": 56,
   "id": "93f00e5b",
   "metadata": {
    "scrolled": false
   },
   "outputs": [
    {
     "data": {
      "text/html": [
       "<div>\n",
       "<style scoped>\n",
       "    .dataframe tbody tr th:only-of-type {\n",
       "        vertical-align: middle;\n",
       "    }\n",
       "\n",
       "    .dataframe tbody tr th {\n",
       "        vertical-align: top;\n",
       "    }\n",
       "\n",
       "    .dataframe thead th {\n",
       "        text-align: right;\n",
       "    }\n",
       "</style>\n",
       "<table border=\"1\" class=\"dataframe\">\n",
       "  <thead>\n",
       "    <tr style=\"text-align: right;\">\n",
       "      <th></th>\n",
       "      <th>_id</th>\n",
       "      <th>origen</th>\n",
       "      <th>elaborado</th>\n",
       "      <th>nombre</th>\n",
       "      <th>provincia</th>\n",
       "      <th>prediccion</th>\n",
       "      <th>id</th>\n",
       "      <th>version</th>\n",
       "    </tr>\n",
       "  </thead>\n",
       "  <tbody>\n",
       "    <tr>\n",
       "      <th>0</th>\n",
       "      <td>64707291379baf6cd7d15cb8</td>\n",
       "      <td>{'productor': 'Agencia Estatal de Meteorolog�a...</td>\n",
       "      <td>2023-05-26T07:19:47</td>\n",
       "      <td>Madrid</td>\n",
       "      <td>Madrid</td>\n",
       "      <td>{'dia': [{'estadoCielo': [{'value': '16n', 'pe...</td>\n",
       "      <td>28079</td>\n",
       "      <td>1.0</td>\n",
       "    </tr>\n",
       "    <tr>\n",
       "      <th>1</th>\n",
       "      <td>64707381379baf6cd7d15cb9</td>\n",
       "      <td>{'productor': 'Agencia Estatal de Meteorolog�a...</td>\n",
       "      <td>2023-05-26T07:19:47</td>\n",
       "      <td>Madrid</td>\n",
       "      <td>Madrid</td>\n",
       "      <td>{'dia': [{'estadoCielo': [{'value': '16n', 'pe...</td>\n",
       "      <td>28079</td>\n",
       "      <td>1.0</td>\n",
       "    </tr>\n",
       "    <tr>\n",
       "      <th>2</th>\n",
       "      <td>64708393379baf6cd7d15cbb</td>\n",
       "      <td>{'productor': 'Agencia Estatal de Meteorolog�a...</td>\n",
       "      <td>2023-05-26T09:45:07</td>\n",
       "      <td>Madrid</td>\n",
       "      <td>Madrid</td>\n",
       "      <td>{'dia': [{'estadoCielo': [{'value': '16n', 'pe...</td>\n",
       "      <td>28079</td>\n",
       "      <td>1.0</td>\n",
       "    </tr>\n",
       "    <tr>\n",
       "      <th>3</th>\n",
       "      <td>647087e7379baf6cd7d15cbd</td>\n",
       "      <td>{'productor': 'Agencia Estatal de Meteorolog�a...</td>\n",
       "      <td>2023-05-26T09:49:06</td>\n",
       "      <td>Madrid</td>\n",
       "      <td>Madrid</td>\n",
       "      <td>{'dia': [{'estadoCielo': [{'value': '16n', 'pe...</td>\n",
       "      <td>28079</td>\n",
       "      <td>1.0</td>\n",
       "    </tr>\n",
       "    <tr>\n",
       "      <th>4</th>\n",
       "      <td>6470898b379baf6cd7d15cbe</td>\n",
       "      <td>{'productor': 'Agencia Estatal de Meteorolog�a...</td>\n",
       "      <td>2023-05-26T09:59:04</td>\n",
       "      <td>Madrid</td>\n",
       "      <td>Madrid</td>\n",
       "      <td>{'dia': [{'estadoCielo': [{'value': '16n', 'pe...</td>\n",
       "      <td>28079</td>\n",
       "      <td>1.0</td>\n",
       "    </tr>\n",
       "  </tbody>\n",
       "</table>\n",
       "</div>"
      ],
      "text/plain": [
       "                        _id  \\\n",
       "0  64707291379baf6cd7d15cb8   \n",
       "1  64707381379baf6cd7d15cb9   \n",
       "2  64708393379baf6cd7d15cbb   \n",
       "3  647087e7379baf6cd7d15cbd   \n",
       "4  6470898b379baf6cd7d15cbe   \n",
       "\n",
       "                                              origen            elaborado  \\\n",
       "0  {'productor': 'Agencia Estatal de Meteorolog�a...  2023-05-26T07:19:47   \n",
       "1  {'productor': 'Agencia Estatal de Meteorolog�a...  2023-05-26T07:19:47   \n",
       "2  {'productor': 'Agencia Estatal de Meteorolog�a...  2023-05-26T09:45:07   \n",
       "3  {'productor': 'Agencia Estatal de Meteorolog�a...  2023-05-26T09:49:06   \n",
       "4  {'productor': 'Agencia Estatal de Meteorolog�a...  2023-05-26T09:59:04   \n",
       "\n",
       "   nombre provincia                                         prediccion     id  \\\n",
       "0  Madrid    Madrid  {'dia': [{'estadoCielo': [{'value': '16n', 'pe...  28079   \n",
       "1  Madrid    Madrid  {'dia': [{'estadoCielo': [{'value': '16n', 'pe...  28079   \n",
       "2  Madrid    Madrid  {'dia': [{'estadoCielo': [{'value': '16n', 'pe...  28079   \n",
       "3  Madrid    Madrid  {'dia': [{'estadoCielo': [{'value': '16n', 'pe...  28079   \n",
       "4  Madrid    Madrid  {'dia': [{'estadoCielo': [{'value': '16n', 'pe...  28079   \n",
       "\n",
       "  version  \n",
       "0     1.0  \n",
       "1     1.0  \n",
       "2     1.0  \n",
       "3     1.0  \n",
       "4     1.0  "
      ]
     },
     "execution_count": 56,
     "metadata": {},
     "output_type": "execute_result"
    }
   ],
   "source": [
    "df.head()"
   ]
  },
  {
   "cell_type": "code",
   "execution_count": 57,
   "id": "39bbe229",
   "metadata": {
    "scrolled": false
   },
   "outputs": [
    {
     "data": {
      "text/html": [
       "<div>\n",
       "<style scoped>\n",
       "    .dataframe tbody tr th:only-of-type {\n",
       "        vertical-align: middle;\n",
       "    }\n",
       "\n",
       "    .dataframe tbody tr th {\n",
       "        vertical-align: top;\n",
       "    }\n",
       "\n",
       "    .dataframe thead th {\n",
       "        text-align: right;\n",
       "    }\n",
       "</style>\n",
       "<table border=\"1\" class=\"dataframe\">\n",
       "  <thead>\n",
       "    <tr style=\"text-align: right;\">\n",
       "      <th></th>\n",
       "      <th>_id</th>\n",
       "      <th>origen</th>\n",
       "      <th>elaborado</th>\n",
       "      <th>nombre</th>\n",
       "      <th>provincia</th>\n",
       "      <th>prediccion</th>\n",
       "      <th>id</th>\n",
       "      <th>version</th>\n",
       "    </tr>\n",
       "  </thead>\n",
       "  <tbody>\n",
       "    <tr>\n",
       "      <th>55</th>\n",
       "      <td>6474df70e9849e47933d17ee</td>\n",
       "      <td>{'productor': 'Agencia Estatal de Meteorolog�a...</td>\n",
       "      <td>2023-05-29T16:12:11</td>\n",
       "      <td>Madrid</td>\n",
       "      <td>Madrid</td>\n",
       "      <td>{'dia': [{'estadoCielo': [{'value': '16', 'per...</td>\n",
       "      <td>28079</td>\n",
       "      <td>1.0</td>\n",
       "    </tr>\n",
       "    <tr>\n",
       "      <th>56</th>\n",
       "      <td>6474e024e9849e47933d1806</td>\n",
       "      <td>{'productor': 'Agencia Estatal de Meteorolog�a...</td>\n",
       "      <td>2023-05-29T16:12:11</td>\n",
       "      <td>Madrid</td>\n",
       "      <td>Madrid</td>\n",
       "      <td>{'dia': [{'estadoCielo': [{'value': '16', 'per...</td>\n",
       "      <td>28079</td>\n",
       "      <td>1.0</td>\n",
       "    </tr>\n",
       "    <tr>\n",
       "      <th>57</th>\n",
       "      <td>6474e0d8e9849e47933d181e</td>\n",
       "      <td>{'productor': 'Agencia Estatal de Meteorolog�a...</td>\n",
       "      <td>2023-05-29T16:12:11</td>\n",
       "      <td>Madrid</td>\n",
       "      <td>Madrid</td>\n",
       "      <td>{'dia': [{'estadoCielo': [{'value': '16', 'per...</td>\n",
       "      <td>28079</td>\n",
       "      <td>1.0</td>\n",
       "    </tr>\n",
       "    <tr>\n",
       "      <th>58</th>\n",
       "      <td>6475fd1131c3e86f1d6bb309</td>\n",
       "      <td>{'productor': 'Agencia Estatal de Meteorolog�a...</td>\n",
       "      <td>2023-05-30T12:33:07</td>\n",
       "      <td>Madrid</td>\n",
       "      <td>Madrid</td>\n",
       "      <td>{'dia': [{'estadoCielo': [{'value': '16', 'per...</td>\n",
       "      <td>28079</td>\n",
       "      <td>1.0</td>\n",
       "    </tr>\n",
       "    <tr>\n",
       "      <th>59</th>\n",
       "      <td>6475fdc531c3e86f1d6bb30b</td>\n",
       "      <td>{'productor': 'Agencia Estatal de Meteorolog�a...</td>\n",
       "      <td>2023-05-30T12:33:07</td>\n",
       "      <td>Madrid</td>\n",
       "      <td>Madrid</td>\n",
       "      <td>{'dia': [{'estadoCielo': [{'value': '16', 'per...</td>\n",
       "      <td>28079</td>\n",
       "      <td>1.0</td>\n",
       "    </tr>\n",
       "  </tbody>\n",
       "</table>\n",
       "</div>"
      ],
      "text/plain": [
       "                         _id  \\\n",
       "55  6474df70e9849e47933d17ee   \n",
       "56  6474e024e9849e47933d1806   \n",
       "57  6474e0d8e9849e47933d181e   \n",
       "58  6475fd1131c3e86f1d6bb309   \n",
       "59  6475fdc531c3e86f1d6bb30b   \n",
       "\n",
       "                                               origen            elaborado  \\\n",
       "55  {'productor': 'Agencia Estatal de Meteorolog�a...  2023-05-29T16:12:11   \n",
       "56  {'productor': 'Agencia Estatal de Meteorolog�a...  2023-05-29T16:12:11   \n",
       "57  {'productor': 'Agencia Estatal de Meteorolog�a...  2023-05-29T16:12:11   \n",
       "58  {'productor': 'Agencia Estatal de Meteorolog�a...  2023-05-30T12:33:07   \n",
       "59  {'productor': 'Agencia Estatal de Meteorolog�a...  2023-05-30T12:33:07   \n",
       "\n",
       "    nombre provincia                                         prediccion  \\\n",
       "55  Madrid    Madrid  {'dia': [{'estadoCielo': [{'value': '16', 'per...   \n",
       "56  Madrid    Madrid  {'dia': [{'estadoCielo': [{'value': '16', 'per...   \n",
       "57  Madrid    Madrid  {'dia': [{'estadoCielo': [{'value': '16', 'per...   \n",
       "58  Madrid    Madrid  {'dia': [{'estadoCielo': [{'value': '16', 'per...   \n",
       "59  Madrid    Madrid  {'dia': [{'estadoCielo': [{'value': '16', 'per...   \n",
       "\n",
       "       id version  \n",
       "55  28079     1.0  \n",
       "56  28079     1.0  \n",
       "57  28079     1.0  \n",
       "58  28079     1.0  \n",
       "59  28079     1.0  "
      ]
     },
     "execution_count": 57,
     "metadata": {},
     "output_type": "execute_result"
    }
   ],
   "source": [
    "df.tail()"
   ]
  },
  {
   "attachments": {},
   "cell_type": "markdown",
   "id": "6c3a130a",
   "metadata": {},
   "source": [
    "#### ITERACÍÓN DE DOCUMENTOS Y REGISTRO DE INFORMACIÓN EN DATAFRAMES"
   ]
  },
  {
   "attachments": {},
   "cell_type": "markdown",
   "id": "13fbb8d8",
   "metadata": {},
   "source": [
    "##### Resumen del pronóstico:\n",
    "##### Ejemplo de información recopilada anidada en formato JSON e interpretación:\n",
    "\n",
    "##### Fecha: 28 de mayo de 2023\n",
    "\n",
    "Temperatura a las 00:00: 16°C\n",
    "Temperatura a la 01:00: 15°C\n",
    "Hora de salida del sol: 06:48\n",
    "Hora de puesta del sol: 21:35\n",
    "\n",
    "\n",
    "##### Fecha: 29 de mayo de 2023\n",
    "\n",
    "Temperatura a las 00:00: 14°C\n",
    "Temperatura a la 01:00: 17°C\n",
    "Hora de salida del sol: 06:49\n",
    "Hora de puesta del sol: 21:35"
   ]
  },
  {
   "cell_type": "code",
   "execution_count": 58,
   "id": "af5d8f6d",
   "metadata": {},
   "outputs": [
    {
     "data": {
      "image/png": "[encoded data removed]",
      "text/plain": [
       "<Figure size 640x480 with 1 Axes>"
      ]
     },
     "metadata": {},
     "output_type": "display_data"
    }
   ],
   "source": [
    "# Obtener los documentos de la colección\n",
    "documentos = collection.find()\n",
    "\n",
    "# Diccionario para almacenar los valores de temperatura por fecha y hora\n",
    "valores_temperatura = defaultdict(list)\n",
    "\n",
    "# Recorrer los documentos y obtener los datos de temperatura\n",
    "for documento in documentos:\n",
    "    dia = documento['prediccion']['dia']\n",
    "    for info_dia in dia:\n",
    "        fecha = info_dia['fecha'].split('T')[0]\n",
    "        temperaturas = info_dia['temperatura']\n",
    "        for temperatura in temperaturas:\n",
    "            valor_temperatura = float(temperatura['value'])\n",
    "            periodo = temperatura['periodo']\n",
    "            hora = f'{int(periodo):02}:00'\n",
    "            valores_temperatura[(fecha, hora)].append(valor_temperatura)\n",
    "\n",
    "# Calcular el promedio de los valores de temperatura por fecha y hora\n",
    "fechas_horas = sorted(valores_temperatura.keys())\n",
    "promedios_temperatura = [sum(valores_temperatura[key]) / len(valores_temperatura[key]) for key in fechas_horas]\n",
    "\n",
    "# Reducir la cantidad de fechas y horas\n",
    "num_muestras = 20  # Número deseado de muestras\n",
    "indices_muestra = random.sample(range(len(fechas_horas)), num_muestras)\n",
    "fechas_horas_muestra = sorted([fechas_horas[i] for i in indices_muestra])\n",
    "promedios_temperatura_muestra = [promedios_temperatura[i] for i in indices_muestra]\n",
    "\n",
    "# Obtener las fechas y horas para la muestra\n",
    "fechas_muestra, horas_muestra = zip(*fechas_horas_muestra)\n",
    "\n",
    "# Configurar la figura y los ejes\n",
    "fig, ax = plt.subplots()\n",
    "\n",
    "# Graficar los datos\n",
    "ax.plot([f'{fecha} {hora}' for fecha, hora in zip(fechas_muestra, horas_muestra)], promedios_temperatura_muestra, marker='o')\n",
    "\n",
    "# Etiquetas de los ejes\n",
    "ax.set_xlabel('Fecha y Hora')\n",
    "ax.set_ylabel('Temperatura (Cº) promedia*')\n",
    "\n",
    "# Título del gráfico\n",
    "ax.set_title('Evolución fecha/hora (YYYY-MM-DD) de temperatura promedia')\n",
    "\n",
    "# Rotar las etiquetas del eje x para mayor legibilidad\n",
    "plt.xticks(rotation=45)\n",
    "\n",
    "# Mostrar la gráfica\n",
    "plt.show()"
   ]
  },
  {
   "attachments": {},
   "cell_type": "markdown",
   "id": "c4def5df",
   "metadata": {},
   "source": [
    "#### Datos obtenidos de la colección: AEMET Actuales (Prediciones Reales)."
   ]
  },
  {
   "cell_type": "code",
   "execution_count": 59,
   "id": "d508e71a",
   "metadata": {},
   "outputs": [],
   "source": [
    "# Reemplaza <URI_de_conexión> con tu propio URI de conexión\n",
    "client = MongoClient(\"mongodb+srv://<USER>:<PASSWORD>@bgpd.pbgm2ds.mongodb.net/?\")\n",
    "\n",
    "# Selecciona la base de datos\n",
    "db = client['aemet_db']\n",
    "\n",
    "#Cargar colección:\n",
    "collection = db['aemet_actual_3195_madrid_retiro']\n",
    "documents = collection.find()\n",
    "\n",
    "# Convierte los documentos a un DataFrame de Pandas para facilitar su análisis\n",
    "df2 = pd.DataFrame(list(documents))"
   ]
  },
  {
   "attachments": {},
   "cell_type": "markdown",
   "id": "1817e866",
   "metadata": {},
   "source": [
    "#### DATOS FILTRADOS EN UN NUEVO DATAFRAME /COLUMNA"
   ]
  },
  {
   "cell_type": "code",
   "execution_count": 60,
   "id": "4e950652",
   "metadata": {
    "scrolled": true
   },
   "outputs": [
    {
     "name": "stdout",
     "output_type": "stream",
     "text": [
      "                     prec   vv     dv   pres    hr    ta  tamax\n",
      "fint                                                           \n",
      "2023-05-22 15:00:00   0.0  3.1   96.0  934.0  27.0  22.3   22.9\n",
      "2023-05-22 16:00:00   0.0  2.4  101.0  934.0  27.0  21.8   22.3\n",
      "2023-05-22 17:00:00   0.0  3.9  128.0  934.1  39.0  20.4   21.9\n",
      "2023-05-22 18:00:00   0.0  4.0  133.0  934.4  39.0  20.1   20.5\n",
      "2023-05-22 19:00:00   0.0  1.0  127.0  934.8  43.0  19.4   20.0\n",
      "...                   ...  ...    ...    ...   ...   ...    ...\n",
      "2023-05-30 09:00:00   0.0  1.6   97.0  939.7  73.0  17.9   17.9\n",
      "2023-05-30 10:00:00   0.0  1.0   70.0  939.8  66.0  19.9   19.9\n",
      "2023-05-30 11:00:00   0.0  1.7  138.0  939.7  58.0  22.0   22.0\n",
      "2023-05-30 12:00:00   0.0  0.6  352.0  939.2  58.0  20.0   22.3\n",
      "2023-05-30 13:00:00   0.0  1.7  193.0  938.7  50.0  22.7   23.2\n",
      "\n",
      "[147 rows x 7 columns]\n"
     ]
    }
   ],
   "source": [
    "df2['fint'] = pd.to_datetime(df2['fint'])\n",
    "\n",
    "columns_to_exclude = ['idema', 'lon', 'alt', 'ubi', 'pres_nmar', 'tamin', 'tpr', 'rviento', 'dmax', 'lat', 'vmax']\n",
    "columns_to_exclude = [col for col in columns_to_exclude if col in df2.columns]\n",
    "\n",
    "df_excluded = df2.drop(columns_to_exclude, axis=1)\n",
    "\n",
    "df_avg = df_excluded.groupby('fint').mean()\n",
    "\n",
    "print(df_avg)"
   ]
  },
  {
   "attachments": {},
   "cell_type": "markdown",
   "id": "1c482399",
   "metadata": {},
   "source": [
    "#### Precipitación registrada real. Comprobación de datos anexados."
   ]
  },
  {
   "cell_type": "code",
   "execution_count": 61,
   "id": "d8e46062",
   "metadata": {
    "scrolled": false
   },
   "outputs": [
    {
     "data": {
      "image/png": "[encoded data removed]",
      "text/plain": [
       "<Figure size 640x480 with 1 Axes>"
      ]
     },
     "metadata": {},
     "output_type": "display_data"
    }
   ],
   "source": [
    "#Crear gráfico de línea para la columna 'prec'\n",
    "plt.plot(df_avg.index, df_avg['prec'], marker='o', linestyle='-', label='Precipitación')\n",
    "\n",
    "#Configurar etiquetas y título del gráfico\n",
    "plt.xlabel('Fecha')\n",
    "plt.ylabel('Promedio de Precipitación')\n",
    "plt.title('Promedio de Precipitación por Fecha')\n",
    "\n",
    "# Rotar las etiquetas del eje x para mejorar la legibilidad\n",
    "plt.xticks(rotation=45)\n",
    "\n",
    "# Mostrar la leyenda\n",
    "plt.legend()\n",
    "\n",
    "# Mostrar el gráfico\n",
    "plt.show()"
   ]
  },
  {
   "attachments": {},
   "cell_type": "markdown",
   "id": "26d116f2",
   "metadata": {},
   "source": [
    "#### DATOS: TEMPERATURA REGISTRADOS, REALES."
   ]
  },
  {
   "cell_type": "code",
   "execution_count": 69,
   "id": "ffffac97",
   "metadata": {
    "scrolled": false
   },
   "outputs": [
    {
     "data": {
      "application/vnd.plotly.v1+json": {
       "config": {
        "plotlyServerURL": "https://plot.ly"
       },
       "data": [
        {
         "mode": "lines+markers",
         "type": "scatter",
         "x": [
          "2023-05-22T15:00:00",
          "2023-05-22T16:00:00",
          "2023-05-22T17:00:00",
          "2023-05-22T18:00:00",
          "2023-05-22T19:00:00",
          "2023-05-22T20:00:00",
          "2023-05-22T21:00:00",
          "2023-05-22T22:00:00",
          "2023-05-22T23:00:00",
          "2023-05-23T00:00:00",
          "2023-05-23T01:00:00",
          "2023-05-23T02:00:00",
          "2023-05-23T03:00:00",
          "2023-05-23T04:00:00",
          "2023-05-23T05:00:00",
          "2023-05-23T06:00:00",
          "2023-05-23T07:00:00",
          "2023-05-23T08:00:00",
          "2023-05-23T09:00:00",
          "2023-05-23T10:00:00",
          "2023-05-23T11:00:00",
          "2023-05-23T12:00:00",
          "2023-05-23T13:00:00",
          "2023-05-23T14:00:00",
          "2023-05-24T16:00:00",
          "2023-05-24T17:00:00",
          "2023-05-24T18:00:00",
          "2023-05-24T19:00:00",
          "2023-05-24T20:00:00",
          "2023-05-24T21:00:00",
          "2023-05-24T22:00:00",
          "2023-05-24T23:00:00",
          "2023-05-25T00:00:00",
          "2023-05-25T01:00:00",
          "2023-05-25T02:00:00",
          "2023-05-25T03:00:00",
          "2023-05-25T04:00:00",
          "2023-05-25T05:00:00",
          "2023-05-25T06:00:00",
          "2023-05-25T07:00:00",
          "2023-05-25T08:00:00",
          "2023-05-25T09:00:00",
          "2023-05-25T10:00:00",
          "2023-05-25T11:00:00",
          "2023-05-25T12:00:00",
          "2023-05-25T13:00:00",
          "2023-05-25T14:00:00",
          "2023-05-25T15:00:00",
          "2023-05-25T16:00:00",
          "2023-05-25T17:00:00",
          "2023-05-25T18:00:00",
          "2023-05-25T19:00:00",
          "2023-05-25T20:00:00",
          "2023-05-25T21:00:00",
          "2023-05-25T22:00:00",
          "2023-05-26T16:00:00",
          "2023-05-26T17:00:00",
          "2023-05-26T18:00:00",
          "2023-05-26T19:00:00",
          "2023-05-26T20:00:00",
          "2023-05-26T21:00:00",
          "2023-05-26T22:00:00",
          "2023-05-26T23:00:00",
          "2023-05-27T00:00:00",
          "2023-05-27T01:00:00",
          "2023-05-27T02:00:00",
          "2023-05-27T03:00:00",
          "2023-05-27T04:00:00",
          "2023-05-27T05:00:00",
          "2023-05-27T06:00:00",
          "2023-05-27T07:00:00",
          "2023-05-27T08:00:00",
          "2023-05-27T09:00:00",
          "2023-05-27T10:00:00",
          "2023-05-27T11:00:00",
          "2023-05-27T12:00:00",
          "2023-05-27T13:00:00",
          "2023-05-27T14:00:00",
          "2023-05-27T15:00:00",
          "2023-05-27T16:00:00",
          "2023-05-27T17:00:00",
          "2023-05-27T18:00:00",
          "2023-05-27T19:00:00",
          "2023-05-27T20:00:00",
          "2023-05-27T21:00:00",
          "2023-05-27T22:00:00",
          "2023-05-27T23:00:00",
          "2023-05-28T00:00:00",
          "2023-05-28T01:00:00",
          "2023-05-28T02:00:00",
          "2023-05-28T03:00:00",
          "2023-05-28T04:00:00",
          "2023-05-28T05:00:00",
          "2023-05-28T06:00:00",
          "2023-05-28T07:00:00",
          "2023-05-28T08:00:00",
          "2023-05-28T09:00:00",
          "2023-05-28T10:00:00",
          "2023-05-28T11:00:00",
          "2023-05-28T12:00:00",
          "2023-05-28T13:00:00",
          "2023-05-28T14:00:00",
          "2023-05-28T17:00:00",
          "2023-05-28T18:00:00",
          "2023-05-28T19:00:00",
          "2023-05-28T20:00:00",
          "2023-05-28T21:00:00",
          "2023-05-28T22:00:00",
          "2023-05-28T23:00:00",
          "2023-05-29T00:00:00",
          "2023-05-29T01:00:00",
          "2023-05-29T02:00:00",
          "2023-05-29T03:00:00",
          "2023-05-29T04:00:00",
          "2023-05-29T05:00:00",
          "2023-05-29T06:00:00",
          "2023-05-29T07:00:00",
          "2023-05-29T08:00:00",
          "2023-05-29T09:00:00",
          "2023-05-29T10:00:00",
          "2023-05-29T11:00:00",
          "2023-05-29T12:00:00",
          "2023-05-29T13:00:00",
          "2023-05-29T14:00:00",
          "2023-05-29T15:00:00",
          "2023-05-29T16:00:00",
          "2023-05-29T17:00:00",
          "2023-05-29T18:00:00",
          "2023-05-29T19:00:00",
          "2023-05-29T20:00:00",
          "2023-05-29T21:00:00",
          "2023-05-29T22:00:00",
          "2023-05-29T23:00:00",
          "2023-05-30T00:00:00",
          "2023-05-30T01:00:00",
          "2023-05-30T02:00:00",
          "2023-05-30T03:00:00",
          "2023-05-30T04:00:00",
          "2023-05-30T05:00:00",
          "2023-05-30T06:00:00",
          "2023-05-30T07:00:00",
          "2023-05-30T08:00:00",
          "2023-05-30T09:00:00",
          "2023-05-30T10:00:00",
          "2023-05-30T11:00:00",
          "2023-05-30T12:00:00",
          "2023-05-30T13:00:00"
         ],
         "y": [
          22.3,
          21.8,
          20.4,
          20.1,
          19.4,
          18.6,
          15.5,
          14.7,
          14.7,
          14.9,
          15.8,
          15.5,
          15.1,
          14.9,
          14,
          14.4,
          15.2,
          16.1,
          18,
          19.9,
          22.3,
          22.4,
          24,
          24.4,
          21.5,
          19.1,
          19.3,
          19.4,
          18.7,
          18.4,
          17.6,
          16.7,
          16.1,
          15.5,
          14.8,
          14.9,
          14.8,
          14.5,
          14.4,
          15.2,
          17.3,
          18.9,
          20.3,
          21.3,
          22.9,
          25.1,
          18.2,
          21.5,
          20.2,
          20.1,
          20.3,
          19.2,
          17.1,
          15.800000000000002,
          15.1,
          17.2,
          16.9,
          16.1,
          16.1,
          16.2,
          15.5,
          15.300000000000002,
          15,
          14.800000000000002,
          14.6,
          14.199999999999998,
          14,
          13.6,
          13.5,
          13.6,
          14.9,
          16.1,
          17.1,
          19.1,
          19.7,
          19.9,
          21.399999999999995,
          21,
          18.3,
          18.6,
          18.8,
          18.9,
          18.5,
          17,
          16.8,
          13.6,
          13.4,
          13.4,
          13.5,
          13.300000000000002,
          13.300000000000002,
          13.4,
          13.4,
          13.5,
          13.4,
          13.6,
          14.199999999999998,
          15.199999999999998,
          15.800000000000002,
          16.4,
          16.8,
          17.2,
          17.4,
          14.8,
          14.2,
          13.6,
          13.3,
          13.1,
          12.7,
          12.6,
          12.9,
          13,
          12.9,
          13,
          12.8,
          12.9,
          13.6,
          15.7,
          16.6,
          18.7,
          20,
          21.9,
          20.9,
          22.8,
          22.7,
          22.2,
          15.9,
          14.7,
          13.6,
          13.6,
          13.6,
          13.6,
          13.4,
          13.1,
          12.9,
          12.8,
          12.8,
          12.5,
          12.6,
          13,
          13.6,
          16,
          17.9,
          19.9,
          22,
          20,
          22.7
         ]
        }
       ],
       "layout": {
        "template": {
         "data": {
          "bar": [
           {
            "error_x": {
             "color": "#2a3f5f"
            },
            "error_y": {
             "color": "#2a3f5f"
            },
            "marker": {
             "line": {
              "color": "#E5ECF6",
              "width": 0.5
             },
             "pattern": {
              "fillmode": "overlay",
              "size": 10,
              "solidity": 0.2
             }
            },
            "type": "bar"
           }
          ],
          "barpolar": [
           {
            "marker": {
             "line": {
              "color": "#E5ECF6",
              "width": 0.5
             },
             "pattern": {
              "fillmode": "overlay",
              "size": 10,
              "solidity": 0.2
             }
            },
            "type": "barpolar"
           }
          ],
          "carpet": [
           {
            "aaxis": {
             "endlinecolor": "#2a3f5f",
             "gridcolor": "white",
             "linecolor": "white",
             "minorgridcolor": "white",
             "startlinecolor": "#2a3f5f"
            },
            "baxis": {
             "endlinecolor": "#2a3f5f",
             "gridcolor": "white",
             "linecolor": "white",
             "minorgridcolor": "white",
             "startlinecolor": "#2a3f5f"
            },
            "type": "carpet"
           }
          ],
          "choropleth": [
           {
            "colorbar": {
             "outlinewidth": 0,
             "ticks": ""
            },
            "type": "choropleth"
           }
          ],
          "contour": [
           {
            "colorbar": {
             "outlinewidth": 0,
             "ticks": ""
            },
            "colorscale": [
             [
              0,
              "#0d0887"
             ],
             [
              0.1111111111111111,
              "#46039f"
             ],
             [
              0.2222222222222222,
              "#7201a8"
             ],
             [
              0.3333333333333333,
              "#9c179e"
             ],
             [
              0.4444444444444444,
              "#bd3786"
             ],
             [
              0.5555555555555556,
              "#d8576b"
             ],
             [
              0.6666666666666666,
              "#ed7953"
             ],
             [
              0.7777777777777778,
              "#fb9f3a"
             ],
             [
              0.8888888888888888,
              "#fdca26"
             ],
             [
              1,
              "#f0f921"
             ]
            ],
            "type": "contour"
           }
          ],
          "contourcarpet": [
           {
            "colorbar": {
             "outlinewidth": 0,
             "ticks": ""
            },
            "type": "contourcarpet"
           }
          ],
          "heatmap": [
           {
            "colorbar": {
             "outlinewidth": 0,
             "ticks": ""
            },
            "colorscale": [
             [
              0,
              "#0d0887"
             ],
             [
              0.1111111111111111,
              "#46039f"
             ],
             [
              0.2222222222222222,
              "#7201a8"
             ],
             [
              0.3333333333333333,
              "#9c179e"
             ],
             [
              0.4444444444444444,
              "#bd3786"
             ],
             [
              0.5555555555555556,
              "#d8576b"
             ],
             [
              0.6666666666666666,
              "#ed7953"
             ],
             [
              0.7777777777777778,
              "#fb9f3a"
             ],
             [
              0.8888888888888888,
              "#fdca26"
             ],
             [
              1,
              "#f0f921"
             ]
            ],
            "type": "heatmap"
           }
          ],
          "heatmapgl": [
           {
            "colorbar": {
             "outlinewidth": 0,
             "ticks": ""
            },
            "colorscale": [
             [
              0,
              "#0d0887"
             ],
             [
              0.1111111111111111,
              "#46039f"
             ],
             [
              0.2222222222222222,
              "#7201a8"
             ],
             [
              0.3333333333333333,
              "#9c179e"
             ],
             [
              0.4444444444444444,
              "#bd3786"
             ],
             [
              0.5555555555555556,
              "#d8576b"
             ],
             [
              0.6666666666666666,
              "#ed7953"
             ],
             [
              0.7777777777777778,
              "#fb9f3a"
             ],
             [
              0.8888888888888888,
              "#fdca26"
             ],
             [
              1,
              "#f0f921"
             ]
            ],
            "type": "heatmapgl"
           }
          ],
          "histogram": [
           {
            "marker": {
             "pattern": {
              "fillmode": "overlay",
              "size": 10,
              "solidity": 0.2
             }
            },
            "type": "histogram"
           }
          ],
          "histogram2d": [
           {
            "colorbar": {
             "outlinewidth": 0,
             "ticks": ""
            },
            "colorscale": [
             [
              0,
              "#0d0887"
             ],
             [
              0.1111111111111111,
              "#46039f"
             ],
             [
              0.2222222222222222,
              "#7201a8"
             ],
             [
              0.3333333333333333,
              "#9c179e"
             ],
             [
              0.4444444444444444,
              "#bd3786"
             ],
             [
              0.5555555555555556,
              "#d8576b"
             ],
             [
              0.6666666666666666,
              "#ed7953"
             ],
             [
              0.7777777777777778,
              "#fb9f3a"
             ],
             [
              0.8888888888888888,
              "#fdca26"
             ],
             [
              1,
              "#f0f921"
             ]
            ],
            "type": "histogram2d"
           }
          ],
          "histogram2dcontour": [
           {
            "colorbar": {
             "outlinewidth": 0,
             "ticks": ""
            },
            "colorscale": [
             [
              0,
              "#0d0887"
             ],
             [
              0.1111111111111111,
              "#46039f"
             ],
             [
              0.2222222222222222,
              "#7201a8"
             ],
             [
              0.3333333333333333,
              "#9c179e"
             ],
             [
              0.4444444444444444,
              "#bd3786"
             ],
             [
              0.5555555555555556,
              "#d8576b"
             ],
             [
              0.6666666666666666,
              "#ed7953"
             ],
             [
              0.7777777777777778,
              "#fb9f3a"
             ],
             [
              0.8888888888888888,
              "#fdca26"
             ],
             [
              1,
              "#f0f921"
             ]
            ],
            "type": "histogram2dcontour"
           }
          ],
          "mesh3d": [
           {
            "colorbar": {
             "outlinewidth": 0,
             "ticks": ""
            },
            "type": "mesh3d"
           }
          ],
          "parcoords": [
           {
            "line": {
             "colorbar": {
              "outlinewidth": 0,
              "ticks": ""
             }
            },
            "type": "parcoords"
           }
          ],
          "pie": [
           {
            "automargin": true,
            "type": "pie"
           }
          ],
          "scatter": [
           {
            "fillpattern": {
             "fillmode": "overlay",
             "size": 10,
             "solidity": 0.2
            },
            "type": "scatter"
           }
          ],
          "scatter3d": [
           {
            "line": {
             "colorbar": {
              "outlinewidth": 0,
              "ticks": ""
             }
            },
            "marker": {
             "colorbar": {
              "outlinewidth": 0,
              "ticks": ""
             }
            },
            "type": "scatter3d"
           }
          ],
          "scattercarpet": [
           {
            "marker": {
             "colorbar": {
              "outlinewidth": 0,
              "ticks": ""
             }
            },
            "type": "scattercarpet"
           }
          ],
          "scattergeo": [
           {
            "marker": {
             "colorbar": {
              "outlinewidth": 0,
              "ticks": ""
             }
            },
            "type": "scattergeo"
           }
          ],
          "scattergl": [
           {
            "marker": {
             "colorbar": {
              "outlinewidth": 0,
              "ticks": ""
             }
            },
            "type": "scattergl"
           }
          ],
          "scattermapbox": [
           {
            "marker": {
             "colorbar": {
              "outlinewidth": 0,
              "ticks": ""
             }
            },
            "type": "scattermapbox"
           }
          ],
          "scatterpolar": [
           {
            "marker": {
             "colorbar": {
              "outlinewidth": 0,
              "ticks": ""
             }
            },
            "type": "scatterpolar"
           }
          ],
          "scatterpolargl": [
           {
            "marker": {
             "colorbar": {
              "outlinewidth": 0,
              "ticks": ""
             }
            },
            "type": "scatterpolargl"
           }
          ],
          "scatterternary": [
           {
            "marker": {
             "colorbar": {
              "outlinewidth": 0,
              "ticks": ""
             }
            },
            "type": "scatterternary"
           }
          ],
          "surface": [
           {
            "colorbar": {
             "outlinewidth": 0,
             "ticks": ""
            },
            "colorscale": [
             [
              0,
              "#0d0887"
             ],
             [
              0.1111111111111111,
              "#46039f"
             ],
             [
              0.2222222222222222,
              "#7201a8"
             ],
             [
              0.3333333333333333,
              "#9c179e"
             ],
             [
              0.4444444444444444,
              "#bd3786"
             ],
             [
              0.5555555555555556,
              "#d8576b"
             ],
             [
              0.6666666666666666,
              "#ed7953"
             ],
             [
              0.7777777777777778,
              "#fb9f3a"
             ],
             [
              0.8888888888888888,
              "#fdca26"
             ],
             [
              1,
              "#f0f921"
             ]
            ],
            "type": "surface"
           }
          ],
          "table": [
           {
            "cells": {
             "fill": {
              "color": "#EBF0F8"
             },
             "line": {
              "color": "white"
             }
            },
            "header": {
             "fill": {
              "color": "#C8D4E3"
             },
             "line": {
              "color": "white"
             }
            },
            "type": "table"
           }
          ]
         },
         "layout": {
          "annotationdefaults": {
           "arrowcolor": "#2a3f5f",
           "arrowhead": 0,
           "arrowwidth": 1
          },
          "autotypenumbers": "strict",
          "coloraxis": {
           "colorbar": {
            "outlinewidth": 0,
            "ticks": ""
           }
          },
          "colorscale": {
           "diverging": [
            [
             0,
             "#8e0152"
            ],
            [
             0.1,
             "#c51b7d"
            ],
            [
             0.2,
             "#de77ae"
            ],
            [
             0.3,
             "#f1b6da"
            ],
            [
             0.4,
             "#fde0ef"
            ],
            [
             0.5,
             "#f7f7f7"
            ],
            [
             0.6,
             "#e6f5d0"
            ],
            [
             0.7,
             "#b8e186"
            ],
            [
             0.8,
             "#7fbc41"
            ],
            [
             0.9,
             "#4d9221"
            ],
            [
             1,
             "#276419"
            ]
           ],
           "sequential": [
            [
             0,
             "#0d0887"
            ],
            [
             0.1111111111111111,
             "#46039f"
            ],
            [
             0.2222222222222222,
             "#7201a8"
            ],
            [
             0.3333333333333333,
             "#9c179e"
            ],
            [
             0.4444444444444444,
             "#bd3786"
            ],
            [
             0.5555555555555556,
             "#d8576b"
            ],
            [
             0.6666666666666666,
             "#ed7953"
            ],
            [
             0.7777777777777778,
             "#fb9f3a"
            ],
            [
             0.8888888888888888,
             "#fdca26"
            ],
            [
             1,
             "#f0f921"
            ]
           ],
           "sequentialminus": [
            [
             0,
             "#0d0887"
            ],
            [
             0.1111111111111111,
             "#46039f"
            ],
            [
             0.2222222222222222,
             "#7201a8"
            ],
            [
             0.3333333333333333,
             "#9c179e"
            ],
            [
             0.4444444444444444,
             "#bd3786"
            ],
            [
             0.5555555555555556,
             "#d8576b"
            ],
            [
             0.6666666666666666,
             "#ed7953"
            ],
            [
             0.7777777777777778,
             "#fb9f3a"
            ],
            [
             0.8888888888888888,
             "#fdca26"
            ],
            [
             1,
             "#f0f921"
            ]
           ]
          },
          "colorway": [
           "#636efa",
           "#EF553B",
           "#00cc96",
           "#ab63fa",
           "#FFA15A",
           "#19d3f3",
           "#FF6692",
           "#B6E880",
           "#FF97FF",
           "#FECB52"
          ],
          "font": {
           "color": "#2a3f5f"
          },
          "geo": {
           "bgcolor": "white",
           "lakecolor": "white",
           "landcolor": "#E5ECF6",
           "showlakes": true,
           "showland": true,
           "subunitcolor": "white"
          },
          "hoverlabel": {
           "align": "left"
          },
          "hovermode": "closest",
          "mapbox": {
           "style": "light"
          },
          "paper_bgcolor": "white",
          "plot_bgcolor": "#E5ECF6",
          "polar": {
           "angularaxis": {
            "gridcolor": "white",
            "linecolor": "white",
            "ticks": ""
           },
           "bgcolor": "#E5ECF6",
           "radialaxis": {
            "gridcolor": "white",
            "linecolor": "white",
            "ticks": ""
           }
          },
          "scene": {
           "xaxis": {
            "backgroundcolor": "#E5ECF6",
            "gridcolor": "white",
            "gridwidth": 2,
            "linecolor": "white",
            "showbackground": true,
            "ticks": "",
            "zerolinecolor": "white"
           },
           "yaxis": {
            "backgroundcolor": "#E5ECF6",
            "gridcolor": "white",
            "gridwidth": 2,
            "linecolor": "white",
            "showbackground": true,
            "ticks": "",
            "zerolinecolor": "white"
           },
           "zaxis": {
            "backgroundcolor": "#E5ECF6",
            "gridcolor": "white",
            "gridwidth": 2,
            "linecolor": "white",
            "showbackground": true,
            "ticks": "",
            "zerolinecolor": "white"
           }
          },
          "shapedefaults": {
           "line": {
            "color": "#2a3f5f"
           }
          },
          "ternary": {
           "aaxis": {
            "gridcolor": "white",
            "linecolor": "white",
            "ticks": ""
           },
           "baxis": {
            "gridcolor": "white",
            "linecolor": "white",
            "ticks": ""
           },
           "bgcolor": "#E5ECF6",
           "caxis": {
            "gridcolor": "white",
            "linecolor": "white",
            "ticks": ""
           }
          },
          "title": {
           "x": 0.05
          },
          "xaxis": {
           "automargin": true,
           "gridcolor": "white",
           "linecolor": "white",
           "ticks": "",
           "title": {
            "standoff": 15
           },
           "zerolinecolor": "white",
           "zerolinewidth": 2
          },
          "yaxis": {
           "automargin": true,
           "gridcolor": "white",
           "linecolor": "white",
           "ticks": "",
           "title": {
            "standoff": 15
           },
           "zerolinecolor": "white",
           "zerolinewidth": 2
          }
         }
        },
        "title": {
         "text": "Temperatura Promedio por Fecha REAL"
        },
        "xaxis": {
         "tickangle": -45,
         "title": {
          "text": "Fecha"
         }
        },
        "yaxis": {
         "title": {
          "text": "Temperatura Promedia (°C)"
         }
        }
       }
      },
      "text/html": [
       "<div>                            <div id=\"0c4a511e-874e-46f0-9867-396729b8e247\" class=\"plotly-graph-div\" style=\"height:525px; width:100%;\"></div>            <script type=\"text/javascript\">                require([\"plotly\"], function(Plotly) {                    window.PLOTLYENV=window.PLOTLYENV || {};                                    if (document.getElementById(\"0c4a511e-874e-46f0-9867-396729b8e247\")) {                    Plotly.newPlot(                        \"0c4a511e-874e-46f0-9867-396729b8e247\",                        [{\"mode\":\"lines+markers\",\"x\":[\"2023-05-22T15:00:00\",\"2023-05-22T16:00:00\",\"2023-05-22T17:00:00\",\"2023-05-22T18:00:00\",\"2023-05-22T19:00:00\",\"2023-05-22T20:00:00\",\"2023-05-22T21:00:00\",\"2023-05-22T22:00:00\",\"2023-05-22T23:00:00\",\"2023-05-23T00:00:00\",\"2023-05-23T01:00:00\",\"2023-05-23T02:00:00\",\"2023-05-23T03:00:00\",\"2023-05-23T04:00:00\",\"2023-05-23T05:00:00\",\"2023-05-23T06:00:00\",\"2023-05-23T07:00:00\",\"2023-05-23T08:00:00\",\"2023-05-23T09:00:00\",\"2023-05-23T10:00:00\",\"2023-05-23T11:00:00\",\"2023-05-23T12:00:00\",\"2023-05-23T13:00:00\",\"2023-05-23T14:00:00\",\"2023-05-24T16:00:00\",\"2023-05-24T17:00:00\",\"2023-05-24T18:00:00\",\"2023-05-24T19:00:00\",\"2023-05-24T20:00:00\",\"2023-05-24T21:00:00\",\"2023-05-24T22:00:00\",\"2023-05-24T23:00:00\",\"2023-05-25T00:00:00\",\"2023-05-25T01:00:00\",\"2023-05-25T02:00:00\",\"2023-05-25T03:00:00\",\"2023-05-25T04:00:00\",\"2023-05-25T05:00:00\",\"2023-05-25T06:00:00\",\"2023-05-25T07:00:00\",\"2023-05-25T08:00:00\",\"2023-05-25T09:00:00\",\"2023-05-25T10:00:00\",\"2023-05-25T11:00:00\",\"2023-05-25T12:00:00\",\"2023-05-25T13:00:00\",\"2023-05-25T14:00:00\",\"2023-05-25T15:00:00\",\"2023-05-25T16:00:00\",\"2023-05-25T17:00:00\",\"2023-05-25T18:00:00\",\"2023-05-25T19:00:00\",\"2023-05-25T20:00:00\",\"2023-05-25T21:00:00\",\"2023-05-25T22:00:00\",\"2023-05-26T16:00:00\",\"2023-05-26T17:00:00\",\"2023-05-26T18:00:00\",\"2023-05-26T19:00:00\",\"2023-05-26T20:00:00\",\"2023-05-26T21:00:00\",\"2023-05-26T22:00:00\",\"2023-05-26T23:00:00\",\"2023-05-27T00:00:00\",\"2023-05-27T01:00:00\",\"2023-05-27T02:00:00\",\"2023-05-27T03:00:00\",\"2023-05-27T04:00:00\",\"2023-05-27T05:00:00\",\"2023-05-27T06:00:00\",\"2023-05-27T07:00:00\",\"2023-05-27T08:00:00\",\"2023-05-27T09:00:00\",\"2023-05-27T10:00:00\",\"2023-05-27T11:00:00\",\"2023-05-27T12:00:00\",\"2023-05-27T13:00:00\",\"2023-05-27T14:00:00\",\"2023-05-27T15:00:00\",\"2023-05-27T16:00:00\",\"2023-05-27T17:00:00\",\"2023-05-27T18:00:00\",\"2023-05-27T19:00:00\",\"2023-05-27T20:00:00\",\"2023-05-27T21:00:00\",\"2023-05-27T22:00:00\",\"2023-05-27T23:00:00\",\"2023-05-28T00:00:00\",\"2023-05-28T01:00:00\",\"2023-05-28T02:00:00\",\"2023-05-28T03:00:00\",\"2023-05-28T04:00:00\",\"2023-05-28T05:00:00\",\"2023-05-28T06:00:00\",\"2023-05-28T07:00:00\",\"2023-05-28T08:00:00\",\"2023-05-28T09:00:00\",\"2023-05-28T10:00:00\",\"2023-05-28T11:00:00\",\"2023-05-28T12:00:00\",\"2023-05-28T13:00:00\",\"2023-05-28T14:00:00\",\"2023-05-28T17:00:00\",\"2023-05-28T18:00:00\",\"2023-05-28T19:00:00\",\"2023-05-28T20:00:00\",\"2023-05-28T21:00:00\",\"2023-05-28T22:00:00\",\"2023-05-28T23:00:00\",\"2023-05-29T00:00:00\",\"2023-05-29T01:00:00\",\"2023-05-29T02:00:00\",\"2023-05-29T03:00:00\",\"2023-05-29T04:00:00\",\"2023-05-29T05:00:00\",\"2023-05-29T06:00:00\",\"2023-05-29T07:00:00\",\"2023-05-29T08:00:00\",\"2023-05-29T09:00:00\",\"2023-05-29T10:00:00\",\"2023-05-29T11:00:00\",\"2023-05-29T12:00:00\",\"2023-05-29T13:00:00\",\"2023-05-29T14:00:00\",\"2023-05-29T15:00:00\",\"2023-05-29T16:00:00\",\"2023-05-29T17:00:00\",\"2023-05-29T18:00:00\",\"2023-05-29T19:00:00\",\"2023-05-29T20:00:00\",\"2023-05-29T21:00:00\",\"2023-05-29T22:00:00\",\"2023-05-29T23:00:00\",\"2023-05-30T00:00:00\",\"2023-05-30T01:00:00\",\"2023-05-30T02:00:00\",\"2023-05-30T03:00:00\",\"2023-05-30T04:00:00\",\"2023-05-30T05:00:00\",\"2023-05-30T06:00:00\",\"2023-05-30T07:00:00\",\"2023-05-30T08:00:00\",\"2023-05-30T09:00:00\",\"2023-05-30T10:00:00\",\"2023-05-30T11:00:00\",\"2023-05-30T12:00:00\",\"2023-05-30T13:00:00\"],\"y\":[22.3,21.8,20.4,20.1,19.4,18.6,15.5,14.7,14.7,14.9,15.8,15.5,15.1,14.9,14.0,14.4,15.2,16.1,18.0,19.9,22.3,22.4,24.0,24.4,21.5,19.1,19.3,19.4,18.7,18.4,17.6,16.7,16.1,15.5,14.8,14.9,14.8,14.5,14.4,15.2,17.3,18.9,20.3,21.3,22.9,25.1,18.2,21.5,20.2,20.1,20.3,19.2,17.1,15.800000000000002,15.1,17.2,16.9,16.1,16.1,16.2,15.5,15.300000000000002,15.0,14.800000000000002,14.6,14.199999999999998,14.0,13.6,13.5,13.6,14.9,16.1,17.1,19.1,19.7,19.9,21.399999999999995,21.0,18.3,18.6,18.8,18.9,18.5,17.0,16.8,13.6,13.4,13.4,13.5,13.300000000000002,13.300000000000002,13.4,13.4,13.5,13.4,13.6,14.199999999999998,15.199999999999998,15.800000000000002,16.4,16.8,17.2,17.4,14.8,14.2,13.6,13.3,13.1,12.7,12.6,12.9,13.0,12.9,13.0,12.8,12.9,13.6,15.7,16.6,18.7,20.0,21.9,20.9,22.8,22.7,22.2,15.9,14.7,13.6,13.6,13.6,13.6,13.4,13.1,12.9,12.8,12.8,12.5,12.6,13.0,13.6,16.0,17.9,19.9,22.0,20.0,22.7],\"type\":\"scatter\"}],                        {\"template\":{\"data\":{\"histogram2dcontour\":[{\"type\":\"histogram2dcontour\",\"colorbar\":{\"outlinewidth\":0,\"ticks\":\"\"},\"colorscale\":[[0.0,\"#0d0887\"],[0.1111111111111111,\"#46039f\"],[0.2222222222222222,\"#7201a8\"],[0.3333333333333333,\"#9c179e\"],[0.4444444444444444,\"#bd3786\"],[0.5555555555555556,\"#d8576b\"],[0.6666666666666666,\"#ed7953\"],[0.7777777777777778,\"#fb9f3a\"],[0.8888888888888888,\"#fdca26\"],[1.0,\"#f0f921\"]]}],\"choropleth\":[{\"type\":\"choropleth\",\"colorbar\":{\"outlinewidth\":0,\"ticks\":\"\"}}],\"histogram2d\":[{\"type\":\"histogram2d\",\"colorbar\":{\"outlinewidth\":0,\"ticks\":\"\"},\"colorscale\":[[0.0,\"#0d0887\"],[0.1111111111111111,\"#46039f\"],[0.2222222222222222,\"#7201a8\"],[0.3333333333333333,\"#9c179e\"],[0.4444444444444444,\"#bd3786\"],[0.5555555555555556,\"#d8576b\"],[0.6666666666666666,\"#ed7953\"],[0.7777777777777778,\"#fb9f3a\"],[0.8888888888888888,\"#fdca26\"],[1.0,\"#f0f921\"]]}],\"heatmap\":[{\"type\":\"heatmap\",\"colorbar\":{\"outlinewidth\":0,\"ticks\":\"\"},\"colorscale\":[[0.0,\"#0d0887\"],[0.1111111111111111,\"#46039f\"],[0.2222222222222222,\"#7201a8\"],[0.3333333333333333,\"#9c179e\"],[0.4444444444444444,\"#bd3786\"],[0.5555555555555556,\"#d8576b\"],[0.6666666666666666,\"#ed7953\"],[0.7777777777777778,\"#fb9f3a\"],[0.8888888888888888,\"#fdca26\"],[1.0,\"#f0f921\"]]}],\"heatmapgl\":[{\"type\":\"heatmapgl\",\"colorbar\":{\"outlinewidth\":0,\"ticks\":\"\"},\"colorscale\":[[0.0,\"#0d0887\"],[0.1111111111111111,\"#46039f\"],[0.2222222222222222,\"#7201a8\"],[0.3333333333333333,\"#9c179e\"],[0.4444444444444444,\"#bd3786\"],[0.5555555555555556,\"#d8576b\"],[0.6666666666666666,\"#ed7953\"],[0.7777777777777778,\"#fb9f3a\"],[0.8888888888888888,\"#fdca26\"],[1.0,\"#f0f921\"]]}],\"contourcarpet\":[{\"type\":\"contourcarpet\",\"colorbar\":{\"outlinewidth\":0,\"ticks\":\"\"}}],\"contour\":[{\"type\":\"contour\",\"colorbar\":{\"outlinewidth\":0,\"ticks\":\"\"},\"colorscale\":[[0.0,\"#0d0887\"],[0.1111111111111111,\"#46039f\"],[0.2222222222222222,\"#7201a8\"],[0.3333333333333333,\"#9c179e\"],[0.4444444444444444,\"#bd3786\"],[0.5555555555555556,\"#d8576b\"],[0.6666666666666666,\"#ed7953\"],[0.7777777777777778,\"#fb9f3a\"],[0.8888888888888888,\"#fdca26\"],[1.0,\"#f0f921\"]]}],\"surface\":[{\"type\":\"surface\",\"colorbar\":{\"outlinewidth\":0,\"ticks\":\"\"},\"colorscale\":[[0.0,\"#0d0887\"],[0.1111111111111111,\"#46039f\"],[0.2222222222222222,\"#7201a8\"],[0.3333333333333333,\"#9c179e\"],[0.4444444444444444,\"#bd3786\"],[0.5555555555555556,\"#d8576b\"],[0.6666666666666666,\"#ed7953\"],[0.7777777777777778,\"#fb9f3a\"],[0.8888888888888888,\"#fdca26\"],[1.0,\"#f0f921\"]]}],\"mesh3d\":[{\"type\":\"mesh3d\",\"colorbar\":{\"outlinewidth\":0,\"ticks\":\"\"}}],\"scatter\":[{\"fillpattern\":{\"fillmode\":\"overlay\",\"size\":10,\"solidity\":0.2},\"type\":\"scatter\"}],\"parcoords\":[{\"type\":\"parcoords\",\"line\":{\"colorbar\":{\"outlinewidth\":0,\"ticks\":\"\"}}}],\"scatterpolargl\":[{\"type\":\"scatterpolargl\",\"marker\":{\"colorbar\":{\"outlinewidth\":0,\"ticks\":\"\"}}}],\"bar\":[{\"error_x\":{\"color\":\"#2a3f5f\"},\"error_y\":{\"color\":\"#2a3f5f\"},\"marker\":{\"line\":{\"color\":\"#E5ECF6\",\"width\":0.5},\"pattern\":{\"fillmode\":\"overlay\",\"size\":10,\"solidity\":0.2}},\"type\":\"bar\"}],\"scattergeo\":[{\"type\":\"scattergeo\",\"marker\":{\"colorbar\":{\"outlinewidth\":0,\"ticks\":\"\"}}}],\"scatterpolar\":[{\"type\":\"scatterpolar\",\"marker\":{\"colorbar\":{\"outlinewidth\":0,\"ticks\":\"\"}}}],\"histogram\":[{\"marker\":{\"pattern\":{\"fillmode\":\"overlay\",\"size\":10,\"solidity\":0.2}},\"type\":\"histogram\"}],\"scattergl\":[{\"type\":\"scattergl\",\"marker\":{\"colorbar\":{\"outlinewidth\":0,\"ticks\":\"\"}}}],\"scatter3d\":[{\"type\":\"scatter3d\",\"line\":{\"colorbar\":{\"outlinewidth\":0,\"ticks\":\"\"}},\"marker\":{\"colorbar\":{\"outlinewidth\":0,\"ticks\":\"\"}}}],\"scattermapbox\":[{\"type\":\"scattermapbox\",\"marker\":{\"colorbar\":{\"outlinewidth\":0,\"ticks\":\"\"}}}],\"scatterternary\":[{\"type\":\"scatterternary\",\"marker\":{\"colorbar\":{\"outlinewidth\":0,\"ticks\":\"\"}}}],\"scattercarpet\":[{\"type\":\"scattercarpet\",\"marker\":{\"colorbar\":{\"outlinewidth\":0,\"ticks\":\"\"}}}],\"carpet\":[{\"aaxis\":{\"endlinecolor\":\"#2a3f5f\",\"gridcolor\":\"white\",\"linecolor\":\"white\",\"minorgridcolor\":\"white\",\"startlinecolor\":\"#2a3f5f\"},\"baxis\":{\"endlinecolor\":\"#2a3f5f\",\"gridcolor\":\"white\",\"linecolor\":\"white\",\"minorgridcolor\":\"white\",\"startlinecolor\":\"#2a3f5f\"},\"type\":\"carpet\"}],\"table\":[{\"cells\":{\"fill\":{\"color\":\"#EBF0F8\"},\"line\":{\"color\":\"white\"}},\"header\":{\"fill\":{\"color\":\"#C8D4E3\"},\"line\":{\"color\":\"white\"}},\"type\":\"table\"}],\"barpolar\":[{\"marker\":{\"line\":{\"color\":\"#E5ECF6\",\"width\":0.5},\"pattern\":{\"fillmode\":\"overlay\",\"size\":10,\"solidity\":0.2}},\"type\":\"barpolar\"}],\"pie\":[{\"automargin\":true,\"type\":\"pie\"}]},\"layout\":{\"autotypenumbers\":\"strict\",\"colorway\":[\"#636efa\",\"#EF553B\",\"#00cc96\",\"#ab63fa\",\"#FFA15A\",\"#19d3f3\",\"#FF6692\",\"#B6E880\",\"#FF97FF\",\"#FECB52\"],\"font\":{\"color\":\"#2a3f5f\"},\"hovermode\":\"closest\",\"hoverlabel\":{\"align\":\"left\"},\"paper_bgcolor\":\"white\",\"plot_bgcolor\":\"#E5ECF6\",\"polar\":{\"bgcolor\":\"#E5ECF6\",\"angularaxis\":{\"gridcolor\":\"white\",\"linecolor\":\"white\",\"ticks\":\"\"},\"radialaxis\":{\"gridcolor\":\"white\",\"linecolor\":\"white\",\"ticks\":\"\"}},\"ternary\":{\"bgcolor\":\"#E5ECF6\",\"aaxis\":{\"gridcolor\":\"white\",\"linecolor\":\"white\",\"ticks\":\"\"},\"baxis\":{\"gridcolor\":\"white\",\"linecolor\":\"white\",\"ticks\":\"\"},\"caxis\":{\"gridcolor\":\"white\",\"linecolor\":\"white\",\"ticks\":\"\"}},\"coloraxis\":{\"colorbar\":{\"outlinewidth\":0,\"ticks\":\"\"}},\"colorscale\":{\"sequential\":[[0.0,\"#0d0887\"],[0.1111111111111111,\"#46039f\"],[0.2222222222222222,\"#7201a8\"],[0.3333333333333333,\"#9c179e\"],[0.4444444444444444,\"#bd3786\"],[0.5555555555555556,\"#d8576b\"],[0.6666666666666666,\"#ed7953\"],[0.7777777777777778,\"#fb9f3a\"],[0.8888888888888888,\"#fdca26\"],[1.0,\"#f0f921\"]],\"sequentialminus\":[[0.0,\"#0d0887\"],[0.1111111111111111,\"#46039f\"],[0.2222222222222222,\"#7201a8\"],[0.3333333333333333,\"#9c179e\"],[0.4444444444444444,\"#bd3786\"],[0.5555555555555556,\"#d8576b\"],[0.6666666666666666,\"#ed7953\"],[0.7777777777777778,\"#fb9f3a\"],[0.8888888888888888,\"#fdca26\"],[1.0,\"#f0f921\"]],\"diverging\":[[0,\"#8e0152\"],[0.1,\"#c51b7d\"],[0.2,\"#de77ae\"],[0.3,\"#f1b6da\"],[0.4,\"#fde0ef\"],[0.5,\"#f7f7f7\"],[0.6,\"#e6f5d0\"],[0.7,\"#b8e186\"],[0.8,\"#7fbc41\"],[0.9,\"#4d9221\"],[1,\"#276419\"]]},\"xaxis\":{\"gridcolor\":\"white\",\"linecolor\":\"white\",\"ticks\":\"\",\"title\":{\"standoff\":15},\"zerolinecolor\":\"white\",\"automargin\":true,\"zerolinewidth\":2},\"yaxis\":{\"gridcolor\":\"white\",\"linecolor\":\"white\",\"ticks\":\"\",\"title\":{\"standoff\":15},\"zerolinecolor\":\"white\",\"automargin\":true,\"zerolinewidth\":2},\"scene\":{\"xaxis\":{\"backgroundcolor\":\"#E5ECF6\",\"gridcolor\":\"white\",\"linecolor\":\"white\",\"showbackground\":true,\"ticks\":\"\",\"zerolinecolor\":\"white\",\"gridwidth\":2},\"yaxis\":{\"backgroundcolor\":\"#E5ECF6\",\"gridcolor\":\"white\",\"linecolor\":\"white\",\"showbackground\":true,\"ticks\":\"\",\"zerolinecolor\":\"white\",\"gridwidth\":2},\"zaxis\":{\"backgroundcolor\":\"#E5ECF6\",\"gridcolor\":\"white\",\"linecolor\":\"white\",\"showbackground\":true,\"ticks\":\"\",\"zerolinecolor\":\"white\",\"gridwidth\":2}},\"shapedefaults\":{\"line\":{\"color\":\"#2a3f5f\"}},\"annotationdefaults\":{\"arrowcolor\":\"#2a3f5f\",\"arrowhead\":0,\"arrowwidth\":1},\"geo\":{\"bgcolor\":\"white\",\"landcolor\":\"#E5ECF6\",\"subunitcolor\":\"white\",\"showland\":true,\"showlakes\":true,\"lakecolor\":\"white\"},\"title\":{\"x\":0.05},\"mapbox\":{\"style\":\"light\"}}},\"xaxis\":{\"title\":{\"text\":\"Fecha\"},\"tickangle\":-45},\"yaxis\":{\"title\":{\"text\":\"Temperatura Promedia (\\u00b0C)\"}},\"title\":{\"text\":\"Temperatura Promedio por Fecha REAL\"}},                        {\"responsive\": true}                    ).then(function(){\n",
       "                            \n",
       "var gd = document.getElementById('0c4a511e-874e-46f0-9867-396729b8e247');\n",
       "var x = new MutationObserver(function (mutations, observer) {{\n",
       "        var display = window.getComputedStyle(gd).display;\n",
       "        if (!display || display === 'none') {{\n",
       "            console.log([gd, 'removed!']);\n",
       "            Plotly.purge(gd);\n",
       "            observer.disconnect();\n",
       "        }}\n",
       "}});\n",
       "\n",
       "// Listen for the removal of the full notebook cells\n",
       "var notebookContainer = gd.closest('#notebook-container');\n",
       "if (notebookContainer) {{\n",
       "    x.observe(notebookContainer, {childList: true});\n",
       "}}\n",
       "\n",
       "// Listen for the clearing of the current output cell\n",
       "var outputEl = gd.closest('.output');\n",
       "if (outputEl) {{\n",
       "    x.observe(outputEl, {childList: true});\n",
       "}}\n",
       "\n",
       "                        })                };                });            </script>        </div>"
      ]
     },
     "metadata": {},
     "output_type": "display_data"
    }
   ],
   "source": [
    "# Crear un gráfico de línea interactiva con la temperatura promedio\n",
    "fig = go.Figure(data=go.Scatter(x=df_avg.index, y=df_avg['ta'], mode='lines+markers'))\n",
    "\n",
    "# Configurar etiquetas y título del gráfico\n",
    "fig.update_layout(xaxis_title='Fecha', yaxis_title='Temperatura Promedia (°C)', title='Temperatura Promedio por Fecha REAL')\n",
    "\n",
    "# Rotar las etiquetas del eje x para mejorar la legibilidad\n",
    "fig.update_layout(xaxis_tickangle=-45)\n",
    "\n",
    "# Mostrar el gráfico\n",
    "fig.show()"
   ]
  },
  {
   "attachments": {},
   "cell_type": "markdown",
   "id": "551ead21",
   "metadata": {},
   "source": [
    "#### DATOS: TEMPERATURA REGISTRADOS, PREDICCIÓN."
   ]
  },
  {
   "cell_type": "code",
   "execution_count": 66,
   "id": "bea26348",
   "metadata": {
    "scrolled": true
   },
   "outputs": [
    {
     "data": {
      "application/vnd.plotly.v1+json": {
       "config": {
        "plotlyServerURL": "https://plot.ly"
       },
       "data": [
        {
         "mode": "markers+lines",
         "type": "scatter",
         "x": [
          "2023-05-26 03:00",
          "2023-05-26 04:00",
          "2023-05-26 06:00",
          "2023-05-26 07:00",
          "2023-05-26 08:00",
          "2023-05-26 11:00",
          "2023-05-26 12:00",
          "2023-05-26 17:00",
          "2023-05-26 20:00",
          "2023-05-26 21:00",
          "2023-05-26 23:00",
          "2023-05-27 01:00",
          "2023-05-27 03:00",
          "2023-05-27 04:00",
          "2023-05-27 08:00",
          "2023-05-27 09:00",
          "2023-05-27 10:00",
          "2023-05-27 12:00",
          "2023-05-27 13:00",
          "2023-05-27 14:00",
          "2023-05-27 15:00",
          "2023-05-27 16:00",
          "2023-05-27 17:00",
          "2023-05-27 19:00",
          "2023-05-27 21:00",
          "2023-05-27 22:00",
          "2023-05-28 03:00",
          "2023-05-28 06:00",
          "2023-05-28 08:00",
          "2023-05-28 15:00",
          "2023-05-28 16:00",
          "2023-05-28 17:00",
          "2023-05-28 18:00",
          "2023-05-28 19:00",
          "2023-05-28 21:00",
          "2023-05-29 00:00",
          "2023-05-29 02:00",
          "2023-05-29 03:00",
          "2023-05-29 04:00",
          "2023-05-29 05:00",
          "2023-05-29 06:00",
          "2023-05-29 07:00",
          "2023-05-29 08:00",
          "2023-05-29 09:00",
          "2023-05-29 12:00",
          "2023-05-29 16:00",
          "2023-05-29 20:00",
          "2023-05-30 01:00",
          "2023-05-30 05:00",
          "2023-05-30 06:00",
          "2023-05-30 07:00",
          "2023-05-30 08:00",
          "2023-05-30 09:00",
          "2023-05-30 10:00",
          "2023-05-30 19:00",
          "2023-05-30 21:00",
          "2023-05-31 01:00",
          "2023-05-31 03:00",
          "2023-05-31 05:00",
          "2023-05-31 06:00",
          "2023-05-31 09:00",
          "2023-05-31 12:00",
          "2023-05-31 14:00",
          "2023-05-31 15:00",
          "2023-05-31 19:00",
          "2023-05-31 21:00",
          "2023-05-31 23:00",
          "2023-06-01 02:00",
          "2023-06-01 04:00",
          "2023-06-01 05:00"
         ],
         "y": [
          15,
          16.727272727272727,
          17.61111111111111,
          14,
          15,
          20,
          17.805555555555557,
          16,
          16.22222222222222,
          14,
          16,
          12.88888888888889,
          16,
          15.805555555555555,
          14,
          19.53846153846154,
          13.461538461538462,
          14,
          14.272727272727273,
          14,
          21,
          19.61111111111111,
          13,
          14,
          13.538461538461538,
          14,
          13.545454545454545,
          18,
          14,
          20,
          14,
          14,
          14,
          17.923076923076923,
          14,
          15,
          18.923076923076923,
          13,
          15,
          14,
          17,
          17.38888888888889,
          13,
          16,
          18,
          21,
          18.194444444444443,
          13.461538461538462,
          14,
          15,
          18.805555555555557,
          16.923076923076923,
          15,
          13,
          15.461538461538462,
          13.545454545454545,
          15,
          19.384615384615383,
          13.461538461538462,
          15,
          13.545454545454545,
          18,
          14,
          18.923076923076923,
          16.805555555555557,
          19,
          18,
          14.272727272727273,
          16,
          14
         ]
        }
       ],
       "layout": {
        "template": {
         "data": {
          "bar": [
           {
            "error_x": {
             "color": "#2a3f5f"
            },
            "error_y": {
             "color": "#2a3f5f"
            },
            "marker": {
             "line": {
              "color": "#E5ECF6",
              "width": 0.5
             },
             "pattern": {
              "fillmode": "overlay",
              "size": 10,
              "solidity": 0.2
             }
            },
            "type": "bar"
           }
          ],
          "barpolar": [
           {
            "marker": {
             "line": {
              "color": "#E5ECF6",
              "width": 0.5
             },
             "pattern": {
              "fillmode": "overlay",
              "size": 10,
              "solidity": 0.2
             }
            },
            "type": "barpolar"
           }
          ],
          "carpet": [
           {
            "aaxis": {
             "endlinecolor": "#2a3f5f",
             "gridcolor": "white",
             "linecolor": "white",
             "minorgridcolor": "white",
             "startlinecolor": "#2a3f5f"
            },
            "baxis": {
             "endlinecolor": "#2a3f5f",
             "gridcolor": "white",
             "linecolor": "white",
             "minorgridcolor": "white",
             "startlinecolor": "#2a3f5f"
            },
            "type": "carpet"
           }
          ],
          "choropleth": [
           {
            "colorbar": {
             "outlinewidth": 0,
             "ticks": ""
            },
            "type": "choropleth"
           }
          ],
          "contour": [
           {
            "colorbar": {
             "outlinewidth": 0,
             "ticks": ""
            },
            "colorscale": [
             [
              0,
              "#0d0887"
             ],
             [
              0.1111111111111111,
              "#46039f"
             ],
             [
              0.2222222222222222,
              "#7201a8"
             ],
             [
              0.3333333333333333,
              "#9c179e"
             ],
             [
              0.4444444444444444,
              "#bd3786"
             ],
             [
              0.5555555555555556,
              "#d8576b"
             ],
             [
              0.6666666666666666,
              "#ed7953"
             ],
             [
              0.7777777777777778,
              "#fb9f3a"
             ],
             [
              0.8888888888888888,
              "#fdca26"
             ],
             [
              1,
              "#f0f921"
             ]
            ],
            "type": "contour"
           }
          ],
          "contourcarpet": [
           {
            "colorbar": {
             "outlinewidth": 0,
             "ticks": ""
            },
            "type": "contourcarpet"
           }
          ],
          "heatmap": [
           {
            "colorbar": {
             "outlinewidth": 0,
             "ticks": ""
            },
            "colorscale": [
             [
              0,
              "#0d0887"
             ],
             [
              0.1111111111111111,
              "#46039f"
             ],
             [
              0.2222222222222222,
              "#7201a8"
             ],
             [
              0.3333333333333333,
              "#9c179e"
             ],
             [
              0.4444444444444444,
              "#bd3786"
             ],
             [
              0.5555555555555556,
              "#d8576b"
             ],
             [
              0.6666666666666666,
              "#ed7953"
             ],
             [
              0.7777777777777778,
              "#fb9f3a"
             ],
             [
              0.8888888888888888,
              "#fdca26"
             ],
             [
              1,
              "#f0f921"
             ]
            ],
            "type": "heatmap"
           }
          ],
          "heatmapgl": [
           {
            "colorbar": {
             "outlinewidth": 0,
             "ticks": ""
            },
            "colorscale": [
             [
              0,
              "#0d0887"
             ],
             [
              0.1111111111111111,
              "#46039f"
             ],
             [
              0.2222222222222222,
              "#7201a8"
             ],
             [
              0.3333333333333333,
              "#9c179e"
             ],
             [
              0.4444444444444444,
              "#bd3786"
             ],
             [
              0.5555555555555556,
              "#d8576b"
             ],
             [
              0.6666666666666666,
              "#ed7953"
             ],
             [
              0.7777777777777778,
              "#fb9f3a"
             ],
             [
              0.8888888888888888,
              "#fdca26"
             ],
             [
              1,
              "#f0f921"
             ]
            ],
            "type": "heatmapgl"
           }
          ],
          "histogram": [
           {
            "marker": {
             "pattern": {
              "fillmode": "overlay",
              "size": 10,
              "solidity": 0.2
             }
            },
            "type": "histogram"
           }
          ],
          "histogram2d": [
           {
            "colorbar": {
             "outlinewidth": 0,
             "ticks": ""
            },
            "colorscale": [
             [
              0,
              "#0d0887"
             ],
             [
              0.1111111111111111,
              "#46039f"
             ],
             [
              0.2222222222222222,
              "#7201a8"
             ],
             [
              0.3333333333333333,
              "#9c179e"
             ],
             [
              0.4444444444444444,
              "#bd3786"
             ],
             [
              0.5555555555555556,
              "#d8576b"
             ],
             [
              0.6666666666666666,
              "#ed7953"
             ],
             [
              0.7777777777777778,
              "#fb9f3a"
             ],
             [
              0.8888888888888888,
              "#fdca26"
             ],
             [
              1,
              "#f0f921"
             ]
            ],
            "type": "histogram2d"
           }
          ],
          "histogram2dcontour": [
           {
            "colorbar": {
             "outlinewidth": 0,
             "ticks": ""
            },
            "colorscale": [
             [
              0,
              "#0d0887"
             ],
             [
              0.1111111111111111,
              "#46039f"
             ],
             [
              0.2222222222222222,
              "#7201a8"
             ],
             [
              0.3333333333333333,
              "#9c179e"
             ],
             [
              0.4444444444444444,
              "#bd3786"
             ],
             [
              0.5555555555555556,
              "#d8576b"
             ],
             [
              0.6666666666666666,
              "#ed7953"
             ],
             [
              0.7777777777777778,
              "#fb9f3a"
             ],
             [
              0.8888888888888888,
              "#fdca26"
             ],
             [
              1,
              "#f0f921"
             ]
            ],
            "type": "histogram2dcontour"
           }
          ],
          "mesh3d": [
           {
            "colorbar": {
             "outlinewidth": 0,
             "ticks": ""
            },
            "type": "mesh3d"
           }
          ],
          "parcoords": [
           {
            "line": {
             "colorbar": {
              "outlinewidth": 0,
              "ticks": ""
             }
            },
            "type": "parcoords"
           }
          ],
          "pie": [
           {
            "automargin": true,
            "type": "pie"
           }
          ],
          "scatter": [
           {
            "fillpattern": {
             "fillmode": "overlay",
             "size": 10,
             "solidity": 0.2
            },
            "type": "scatter"
           }
          ],
          "scatter3d": [
           {
            "line": {
             "colorbar": {
              "outlinewidth": 0,
              "ticks": ""
             }
            },
            "marker": {
             "colorbar": {
              "outlinewidth": 0,
              "ticks": ""
             }
            },
            "type": "scatter3d"
           }
          ],
          "scattercarpet": [
           {
            "marker": {
             "colorbar": {
              "outlinewidth": 0,
              "ticks": ""
             }
            },
            "type": "scattercarpet"
           }
          ],
          "scattergeo": [
           {
            "marker": {
             "colorbar": {
              "outlinewidth": 0,
              "ticks": ""
             }
            },
            "type": "scattergeo"
           }
          ],
          "scattergl": [
           {
            "marker": {
             "colorbar": {
              "outlinewidth": 0,
              "ticks": ""
             }
            },
            "type": "scattergl"
           }
          ],
          "scattermapbox": [
           {
            "marker": {
             "colorbar": {
              "outlinewidth": 0,
              "ticks": ""
             }
            },
            "type": "scattermapbox"
           }
          ],
          "scatterpolar": [
           {
            "marker": {
             "colorbar": {
              "outlinewidth": 0,
              "ticks": ""
             }
            },
            "type": "scatterpolar"
           }
          ],
          "scatterpolargl": [
           {
            "marker": {
             "colorbar": {
              "outlinewidth": 0,
              "ticks": ""
             }
            },
            "type": "scatterpolargl"
           }
          ],
          "scatterternary": [
           {
            "marker": {
             "colorbar": {
              "outlinewidth": 0,
              "ticks": ""
             }
            },
            "type": "scatterternary"
           }
          ],
          "surface": [
           {
            "colorbar": {
             "outlinewidth": 0,
             "ticks": ""
            },
            "colorscale": [
             [
              0,
              "#0d0887"
             ],
             [
              0.1111111111111111,
              "#46039f"
             ],
             [
              0.2222222222222222,
              "#7201a8"
             ],
             [
              0.3333333333333333,
              "#9c179e"
             ],
             [
              0.4444444444444444,
              "#bd3786"
             ],
             [
              0.5555555555555556,
              "#d8576b"
             ],
             [
              0.6666666666666666,
              "#ed7953"
             ],
             [
              0.7777777777777778,
              "#fb9f3a"
             ],
             [
              0.8888888888888888,
              "#fdca26"
             ],
             [
              1,
              "#f0f921"
             ]
            ],
            "type": "surface"
           }
          ],
          "table": [
           {
            "cells": {
             "fill": {
              "color": "#EBF0F8"
             },
             "line": {
              "color": "white"
             }
            },
            "header": {
             "fill": {
              "color": "#C8D4E3"
             },
             "line": {
              "color": "white"
             }
            },
            "type": "table"
           }
          ]
         },
         "layout": {
          "annotationdefaults": {
           "arrowcolor": "#2a3f5f",
           "arrowhead": 0,
           "arrowwidth": 1
          },
          "autotypenumbers": "strict",
          "coloraxis": {
           "colorbar": {
            "outlinewidth": 0,
            "ticks": ""
           }
          },
          "colorscale": {
           "diverging": [
            [
             0,
             "#8e0152"
            ],
            [
             0.1,
             "#c51b7d"
            ],
            [
             0.2,
             "#de77ae"
            ],
            [
             0.3,
             "#f1b6da"
            ],
            [
             0.4,
             "#fde0ef"
            ],
            [
             0.5,
             "#f7f7f7"
            ],
            [
             0.6,
             "#e6f5d0"
            ],
            [
             0.7,
             "#b8e186"
            ],
            [
             0.8,
             "#7fbc41"
            ],
            [
             0.9,
             "#4d9221"
            ],
            [
             1,
             "#276419"
            ]
           ],
           "sequential": [
            [
             0,
             "#0d0887"
            ],
            [
             0.1111111111111111,
             "#46039f"
            ],
            [
             0.2222222222222222,
             "#7201a8"
            ],
            [
             0.3333333333333333,
             "#9c179e"
            ],
            [
             0.4444444444444444,
             "#bd3786"
            ],
            [
             0.5555555555555556,
             "#d8576b"
            ],
            [
             0.6666666666666666,
             "#ed7953"
            ],
            [
             0.7777777777777778,
             "#fb9f3a"
            ],
            [
             0.8888888888888888,
             "#fdca26"
            ],
            [
             1,
             "#f0f921"
            ]
           ],
           "sequentialminus": [
            [
             0,
             "#0d0887"
            ],
            [
             0.1111111111111111,
             "#46039f"
            ],
            [
             0.2222222222222222,
             "#7201a8"
            ],
            [
             0.3333333333333333,
             "#9c179e"
            ],
            [
             0.4444444444444444,
             "#bd3786"
            ],
            [
             0.5555555555555556,
             "#d8576b"
            ],
            [
             0.6666666666666666,
             "#ed7953"
            ],
            [
             0.7777777777777778,
             "#fb9f3a"
            ],
            [
             0.8888888888888888,
             "#fdca26"
            ],
            [
             1,
             "#f0f921"
            ]
           ]
          },
          "colorway": [
           "#636efa",
           "#EF553B",
           "#00cc96",
           "#ab63fa",
           "#FFA15A",
           "#19d3f3",
           "#FF6692",
           "#B6E880",
           "#FF97FF",
           "#FECB52"
          ],
          "font": {
           "color": "#2a3f5f"
          },
          "geo": {
           "bgcolor": "white",
           "lakecolor": "white",
           "landcolor": "#E5ECF6",
           "showlakes": true,
           "showland": true,
           "subunitcolor": "white"
          },
          "hoverlabel": {
           "align": "left"
          },
          "hovermode": "closest",
          "mapbox": {
           "style": "light"
          },
          "paper_bgcolor": "white",
          "plot_bgcolor": "#E5ECF6",
          "polar": {
           "angularaxis": {
            "gridcolor": "white",
            "linecolor": "white",
            "ticks": ""
           },
           "bgcolor": "#E5ECF6",
           "radialaxis": {
            "gridcolor": "white",
            "linecolor": "white",
            "ticks": ""
           }
          },
          "scene": {
           "xaxis": {
            "backgroundcolor": "#E5ECF6",
            "gridcolor": "white",
            "gridwidth": 2,
            "linecolor": "white",
            "showbackground": true,
            "ticks": "",
            "zerolinecolor": "white"
           },
           "yaxis": {
            "backgroundcolor": "#E5ECF6",
            "gridcolor": "white",
            "gridwidth": 2,
            "linecolor": "white",
            "showbackground": true,
            "ticks": "",
            "zerolinecolor": "white"
           },
           "zaxis": {
            "backgroundcolor": "#E5ECF6",
            "gridcolor": "white",
            "gridwidth": 2,
            "linecolor": "white",
            "showbackground": true,
            "ticks": "",
            "zerolinecolor": "white"
           }
          },
          "shapedefaults": {
           "line": {
            "color": "#2a3f5f"
           }
          },
          "ternary": {
           "aaxis": {
            "gridcolor": "white",
            "linecolor": "white",
            "ticks": ""
           },
           "baxis": {
            "gridcolor": "white",
            "linecolor": "white",
            "ticks": ""
           },
           "bgcolor": "#E5ECF6",
           "caxis": {
            "gridcolor": "white",
            "linecolor": "white",
            "ticks": ""
           }
          },
          "title": {
           "x": 0.05
          },
          "xaxis": {
           "automargin": true,
           "gridcolor": "white",
           "linecolor": "white",
           "ticks": "",
           "title": {
            "standoff": 15
           },
           "zerolinecolor": "white",
           "zerolinewidth": 2
          },
          "yaxis": {
           "automargin": true,
           "gridcolor": "white",
           "linecolor": "white",
           "ticks": "",
           "title": {
            "standoff": 15
           },
           "zerolinecolor": "white",
           "zerolinewidth": 2
          }
         }
        },
        "title": {
         "text": "Evolución fecha/hora (YYYY-MM-DD) de temperatura PREDECIDA PROMEDIA"
        },
        "xaxis": {
         "title": {
          "text": "Fecha y Hora"
         }
        },
        "yaxis": {
         "title": {
          "text": "Temperatura (Cº) promedio"
         }
        }
       }
      },
      "text/html": [
       "<div>                            <div id=\"68913def-d529-493d-b6c0-d3200c9c0b25\" class=\"plotly-graph-div\" style=\"height:525px; width:100%;\"></div>            <script type=\"text/javascript\">                require([\"plotly\"], function(Plotly) {                    window.PLOTLYENV=window.PLOTLYENV || {};                                    if (document.getElementById(\"68913def-d529-493d-b6c0-d3200c9c0b25\")) {                    Plotly.newPlot(                        \"68913def-d529-493d-b6c0-d3200c9c0b25\",                        [{\"mode\":\"markers+lines\",\"x\":[\"2023-05-26 03:00\",\"2023-05-26 04:00\",\"2023-05-26 06:00\",\"2023-05-26 07:00\",\"2023-05-26 08:00\",\"2023-05-26 11:00\",\"2023-05-26 12:00\",\"2023-05-26 17:00\",\"2023-05-26 20:00\",\"2023-05-26 21:00\",\"2023-05-26 23:00\",\"2023-05-27 01:00\",\"2023-05-27 03:00\",\"2023-05-27 04:00\",\"2023-05-27 08:00\",\"2023-05-27 09:00\",\"2023-05-27 10:00\",\"2023-05-27 12:00\",\"2023-05-27 13:00\",\"2023-05-27 14:00\",\"2023-05-27 15:00\",\"2023-05-27 16:00\",\"2023-05-27 17:00\",\"2023-05-27 19:00\",\"2023-05-27 21:00\",\"2023-05-27 22:00\",\"2023-05-28 03:00\",\"2023-05-28 06:00\",\"2023-05-28 08:00\",\"2023-05-28 15:00\",\"2023-05-28 16:00\",\"2023-05-28 17:00\",\"2023-05-28 18:00\",\"2023-05-28 19:00\",\"2023-05-28 21:00\",\"2023-05-29 00:00\",\"2023-05-29 02:00\",\"2023-05-29 03:00\",\"2023-05-29 04:00\",\"2023-05-29 05:00\",\"2023-05-29 06:00\",\"2023-05-29 07:00\",\"2023-05-29 08:00\",\"2023-05-29 09:00\",\"2023-05-29 12:00\",\"2023-05-29 16:00\",\"2023-05-29 20:00\",\"2023-05-30 01:00\",\"2023-05-30 05:00\",\"2023-05-30 06:00\",\"2023-05-30 07:00\",\"2023-05-30 08:00\",\"2023-05-30 09:00\",\"2023-05-30 10:00\",\"2023-05-30 19:00\",\"2023-05-30 21:00\",\"2023-05-31 01:00\",\"2023-05-31 03:00\",\"2023-05-31 05:00\",\"2023-05-31 06:00\",\"2023-05-31 09:00\",\"2023-05-31 12:00\",\"2023-05-31 14:00\",\"2023-05-31 15:00\",\"2023-05-31 19:00\",\"2023-05-31 21:00\",\"2023-05-31 23:00\",\"2023-06-01 02:00\",\"2023-06-01 04:00\",\"2023-06-01 05:00\"],\"y\":[15.0,16.727272727272727,17.61111111111111,14.0,15.0,20.0,17.805555555555557,16.0,16.22222222222222,14.0,16.0,12.88888888888889,16.0,15.805555555555555,14.0,19.53846153846154,13.461538461538462,14.0,14.272727272727273,14.0,21.0,19.61111111111111,13.0,14.0,13.538461538461538,14.0,13.545454545454545,18.0,14.0,20.0,14.0,14.0,14.0,17.923076923076923,14.0,15.0,18.923076923076923,13.0,15.0,14.0,17.0,17.38888888888889,13.0,16.0,18.0,21.0,18.194444444444443,13.461538461538462,14.0,15.0,18.805555555555557,16.923076923076923,15.0,13.0,15.461538461538462,13.545454545454545,15.0,19.384615384615383,13.461538461538462,15.0,13.545454545454545,18.0,14.0,18.923076923076923,16.805555555555557,19.0,18.0,14.272727272727273,16.0,14.0],\"type\":\"scatter\"}],                        {\"template\":{\"data\":{\"histogram2dcontour\":[{\"type\":\"histogram2dcontour\",\"colorbar\":{\"outlinewidth\":0,\"ticks\":\"\"},\"colorscale\":[[0.0,\"#0d0887\"],[0.1111111111111111,\"#46039f\"],[0.2222222222222222,\"#7201a8\"],[0.3333333333333333,\"#9c179e\"],[0.4444444444444444,\"#bd3786\"],[0.5555555555555556,\"#d8576b\"],[0.6666666666666666,\"#ed7953\"],[0.7777777777777778,\"#fb9f3a\"],[0.8888888888888888,\"#fdca26\"],[1.0,\"#f0f921\"]]}],\"choropleth\":[{\"type\":\"choropleth\",\"colorbar\":{\"outlinewidth\":0,\"ticks\":\"\"}}],\"histogram2d\":[{\"type\":\"histogram2d\",\"colorbar\":{\"outlinewidth\":0,\"ticks\":\"\"},\"colorscale\":[[0.0,\"#0d0887\"],[0.1111111111111111,\"#46039f\"],[0.2222222222222222,\"#7201a8\"],[0.3333333333333333,\"#9c179e\"],[0.4444444444444444,\"#bd3786\"],[0.5555555555555556,\"#d8576b\"],[0.6666666666666666,\"#ed7953\"],[0.7777777777777778,\"#fb9f3a\"],[0.8888888888888888,\"#fdca26\"],[1.0,\"#f0f921\"]]}],\"heatmap\":[{\"type\":\"heatmap\",\"colorbar\":{\"outlinewidth\":0,\"ticks\":\"\"},\"colorscale\":[[0.0,\"#0d0887\"],[0.1111111111111111,\"#46039f\"],[0.2222222222222222,\"#7201a8\"],[0.3333333333333333,\"#9c179e\"],[0.4444444444444444,\"#bd3786\"],[0.5555555555555556,\"#d8576b\"],[0.6666666666666666,\"#ed7953\"],[0.7777777777777778,\"#fb9f3a\"],[0.8888888888888888,\"#fdca26\"],[1.0,\"#f0f921\"]]}],\"heatmapgl\":[{\"type\":\"heatmapgl\",\"colorbar\":{\"outlinewidth\":0,\"ticks\":\"\"},\"colorscale\":[[0.0,\"#0d0887\"],[0.1111111111111111,\"#46039f\"],[0.2222222222222222,\"#7201a8\"],[0.3333333333333333,\"#9c179e\"],[0.4444444444444444,\"#bd3786\"],[0.5555555555555556,\"#d8576b\"],[0.6666666666666666,\"#ed7953\"],[0.7777777777777778,\"#fb9f3a\"],[0.8888888888888888,\"#fdca26\"],[1.0,\"#f0f921\"]]}],\"contourcarpet\":[{\"type\":\"contourcarpet\",\"colorbar\":{\"outlinewidth\":0,\"ticks\":\"\"}}],\"contour\":[{\"type\":\"contour\",\"colorbar\":{\"outlinewidth\":0,\"ticks\":\"\"},\"colorscale\":[[0.0,\"#0d0887\"],[0.1111111111111111,\"#46039f\"],[0.2222222222222222,\"#7201a8\"],[0.3333333333333333,\"#9c179e\"],[0.4444444444444444,\"#bd3786\"],[0.5555555555555556,\"#d8576b\"],[0.6666666666666666,\"#ed7953\"],[0.7777777777777778,\"#fb9f3a\"],[0.8888888888888888,\"#fdca26\"],[1.0,\"#f0f921\"]]}],\"surface\":[{\"type\":\"surface\",\"colorbar\":{\"outlinewidth\":0,\"ticks\":\"\"},\"colorscale\":[[0.0,\"#0d0887\"],[0.1111111111111111,\"#46039f\"],[0.2222222222222222,\"#7201a8\"],[0.3333333333333333,\"#9c179e\"],[0.4444444444444444,\"#bd3786\"],[0.5555555555555556,\"#d8576b\"],[0.6666666666666666,\"#ed7953\"],[0.7777777777777778,\"#fb9f3a\"],[0.8888888888888888,\"#fdca26\"],[1.0,\"#f0f921\"]]}],\"mesh3d\":[{\"type\":\"mesh3d\",\"colorbar\":{\"outlinewidth\":0,\"ticks\":\"\"}}],\"scatter\":[{\"fillpattern\":{\"fillmode\":\"overlay\",\"size\":10,\"solidity\":0.2},\"type\":\"scatter\"}],\"parcoords\":[{\"type\":\"parcoords\",\"line\":{\"colorbar\":{\"outlinewidth\":0,\"ticks\":\"\"}}}],\"scatterpolargl\":[{\"type\":\"scatterpolargl\",\"marker\":{\"colorbar\":{\"outlinewidth\":0,\"ticks\":\"\"}}}],\"bar\":[{\"error_x\":{\"color\":\"#2a3f5f\"},\"error_y\":{\"color\":\"#2a3f5f\"},\"marker\":{\"line\":{\"color\":\"#E5ECF6\",\"width\":0.5},\"pattern\":{\"fillmode\":\"overlay\",\"size\":10,\"solidity\":0.2}},\"type\":\"bar\"}],\"scattergeo\":[{\"type\":\"scattergeo\",\"marker\":{\"colorbar\":{\"outlinewidth\":0,\"ticks\":\"\"}}}],\"scatterpolar\":[{\"type\":\"scatterpolar\",\"marker\":{\"colorbar\":{\"outlinewidth\":0,\"ticks\":\"\"}}}],\"histogram\":[{\"marker\":{\"pattern\":{\"fillmode\":\"overlay\",\"size\":10,\"solidity\":0.2}},\"type\":\"histogram\"}],\"scattergl\":[{\"type\":\"scattergl\",\"marker\":{\"colorbar\":{\"outlinewidth\":0,\"ticks\":\"\"}}}],\"scatter3d\":[{\"type\":\"scatter3d\",\"line\":{\"colorbar\":{\"outlinewidth\":0,\"ticks\":\"\"}},\"marker\":{\"colorbar\":{\"outlinewidth\":0,\"ticks\":\"\"}}}],\"scattermapbox\":[{\"type\":\"scattermapbox\",\"marker\":{\"colorbar\":{\"outlinewidth\":0,\"ticks\":\"\"}}}],\"scatterternary\":[{\"type\":\"scatterternary\",\"marker\":{\"colorbar\":{\"outlinewidth\":0,\"ticks\":\"\"}}}],\"scattercarpet\":[{\"type\":\"scattercarpet\",\"marker\":{\"colorbar\":{\"outlinewidth\":0,\"ticks\":\"\"}}}],\"carpet\":[{\"aaxis\":{\"endlinecolor\":\"#2a3f5f\",\"gridcolor\":\"white\",\"linecolor\":\"white\",\"minorgridcolor\":\"white\",\"startlinecolor\":\"#2a3f5f\"},\"baxis\":{\"endlinecolor\":\"#2a3f5f\",\"gridcolor\":\"white\",\"linecolor\":\"white\",\"minorgridcolor\":\"white\",\"startlinecolor\":\"#2a3f5f\"},\"type\":\"carpet\"}],\"table\":[{\"cells\":{\"fill\":{\"color\":\"#EBF0F8\"},\"line\":{\"color\":\"white\"}},\"header\":{\"fill\":{\"color\":\"#C8D4E3\"},\"line\":{\"color\":\"white\"}},\"type\":\"table\"}],\"barpolar\":[{\"marker\":{\"line\":{\"color\":\"#E5ECF6\",\"width\":0.5},\"pattern\":{\"fillmode\":\"overlay\",\"size\":10,\"solidity\":0.2}},\"type\":\"barpolar\"}],\"pie\":[{\"automargin\":true,\"type\":\"pie\"}]},\"layout\":{\"autotypenumbers\":\"strict\",\"colorway\":[\"#636efa\",\"#EF553B\",\"#00cc96\",\"#ab63fa\",\"#FFA15A\",\"#19d3f3\",\"#FF6692\",\"#B6E880\",\"#FF97FF\",\"#FECB52\"],\"font\":{\"color\":\"#2a3f5f\"},\"hovermode\":\"closest\",\"hoverlabel\":{\"align\":\"left\"},\"paper_bgcolor\":\"white\",\"plot_bgcolor\":\"#E5ECF6\",\"polar\":{\"bgcolor\":\"#E5ECF6\",\"angularaxis\":{\"gridcolor\":\"white\",\"linecolor\":\"white\",\"ticks\":\"\"},\"radialaxis\":{\"gridcolor\":\"white\",\"linecolor\":\"white\",\"ticks\":\"\"}},\"ternary\":{\"bgcolor\":\"#E5ECF6\",\"aaxis\":{\"gridcolor\":\"white\",\"linecolor\":\"white\",\"ticks\":\"\"},\"baxis\":{\"gridcolor\":\"white\",\"linecolor\":\"white\",\"ticks\":\"\"},\"caxis\":{\"gridcolor\":\"white\",\"linecolor\":\"white\",\"ticks\":\"\"}},\"coloraxis\":{\"colorbar\":{\"outlinewidth\":0,\"ticks\":\"\"}},\"colorscale\":{\"sequential\":[[0.0,\"#0d0887\"],[0.1111111111111111,\"#46039f\"],[0.2222222222222222,\"#7201a8\"],[0.3333333333333333,\"#9c179e\"],[0.4444444444444444,\"#bd3786\"],[0.5555555555555556,\"#d8576b\"],[0.6666666666666666,\"#ed7953\"],[0.7777777777777778,\"#fb9f3a\"],[0.8888888888888888,\"#fdca26\"],[1.0,\"#f0f921\"]],\"sequentialminus\":[[0.0,\"#0d0887\"],[0.1111111111111111,\"#46039f\"],[0.2222222222222222,\"#7201a8\"],[0.3333333333333333,\"#9c179e\"],[0.4444444444444444,\"#bd3786\"],[0.5555555555555556,\"#d8576b\"],[0.6666666666666666,\"#ed7953\"],[0.7777777777777778,\"#fb9f3a\"],[0.8888888888888888,\"#fdca26\"],[1.0,\"#f0f921\"]],\"diverging\":[[0,\"#8e0152\"],[0.1,\"#c51b7d\"],[0.2,\"#de77ae\"],[0.3,\"#f1b6da\"],[0.4,\"#fde0ef\"],[0.5,\"#f7f7f7\"],[0.6,\"#e6f5d0\"],[0.7,\"#b8e186\"],[0.8,\"#7fbc41\"],[0.9,\"#4d9221\"],[1,\"#276419\"]]},\"xaxis\":{\"gridcolor\":\"white\",\"linecolor\":\"white\",\"ticks\":\"\",\"title\":{\"standoff\":15},\"zerolinecolor\":\"white\",\"automargin\":true,\"zerolinewidth\":2},\"yaxis\":{\"gridcolor\":\"white\",\"linecolor\":\"white\",\"ticks\":\"\",\"title\":{\"standoff\":15},\"zerolinecolor\":\"white\",\"automargin\":true,\"zerolinewidth\":2},\"scene\":{\"xaxis\":{\"backgroundcolor\":\"#E5ECF6\",\"gridcolor\":\"white\",\"linecolor\":\"white\",\"showbackground\":true,\"ticks\":\"\",\"zerolinecolor\":\"white\",\"gridwidth\":2},\"yaxis\":{\"backgroundcolor\":\"#E5ECF6\",\"gridcolor\":\"white\",\"linecolor\":\"white\",\"showbackground\":true,\"ticks\":\"\",\"zerolinecolor\":\"white\",\"gridwidth\":2},\"zaxis\":{\"backgroundcolor\":\"#E5ECF6\",\"gridcolor\":\"white\",\"linecolor\":\"white\",\"showbackground\":true,\"ticks\":\"\",\"zerolinecolor\":\"white\",\"gridwidth\":2}},\"shapedefaults\":{\"line\":{\"color\":\"#2a3f5f\"}},\"annotationdefaults\":{\"arrowcolor\":\"#2a3f5f\",\"arrowhead\":0,\"arrowwidth\":1},\"geo\":{\"bgcolor\":\"white\",\"landcolor\":\"#E5ECF6\",\"subunitcolor\":\"white\",\"showland\":true,\"showlakes\":true,\"lakecolor\":\"white\"},\"title\":{\"x\":0.05},\"mapbox\":{\"style\":\"light\"}}},\"xaxis\":{\"title\":{\"text\":\"Fecha y Hora\"}},\"yaxis\":{\"title\":{\"text\":\"Temperatura (C\\u00ba) promedio\"}},\"title\":{\"text\":\"Evoluci\\u00f3n fecha/hora (YYYY-MM-DD) de temperatura PREDECIDA PROMEDIA\"}},                        {\"responsive\": true}                    ).then(function(){\n",
       "                            \n",
       "var gd = document.getElementById('68913def-d529-493d-b6c0-d3200c9c0b25');\n",
       "var x = new MutationObserver(function (mutations, observer) {{\n",
       "        var display = window.getComputedStyle(gd).display;\n",
       "        if (!display || display === 'none') {{\n",
       "            console.log([gd, 'removed!']);\n",
       "            Plotly.purge(gd);\n",
       "            observer.disconnect();\n",
       "        }}\n",
       "}});\n",
       "\n",
       "// Listen for the removal of the full notebook cells\n",
       "var notebookContainer = gd.closest('#notebook-container');\n",
       "if (notebookContainer) {{\n",
       "    x.observe(notebookContainer, {childList: true});\n",
       "}}\n",
       "\n",
       "// Listen for the clearing of the current output cell\n",
       "var outputEl = gd.closest('.output');\n",
       "if (outputEl) {{\n",
       "    x.observe(outputEl, {childList: true});\n",
       "}}\n",
       "\n",
       "                        })                };                });            </script>        </div>"
      ]
     },
     "metadata": {},
     "output_type": "display_data"
    }
   ],
   "source": [
    "# Aumentar muestrar dedicadas a la cantidad de fechas y horas\n",
    "num_muestras = 70  # Número deseado de muestras\n",
    "indices_muestra = random.sample(range(len(fechas_horas)), num_muestras)\n",
    "fechas_horas_muestra = sorted([fechas_horas[i] for i in indices_muestra])\n",
    "promedios_temperatura_muestra = [promedios_temperatura[i] for i in indices_muestra]\n",
    "\n",
    "# Obtener las fechas y horas para la muestra\n",
    "fechas_muestra, horas_muestra = zip(*fechas_horas_muestra)\n",
    "\n",
    "\n",
    "# Crear la figura y agregar los datos\n",
    "fig = go.Figure(data=go.Scatter(x=[f'{fecha} {hora}' for fecha, hora in zip(fechas_muestra, horas_muestra)],\n",
    "                               y=promedios_temperatura_muestra,\n",
    "                               mode='markers+lines'))\n",
    "\n",
    "# Configurar las etiquetas de los ejes\n",
    "fig.update_xaxes(title='Fecha y Hora')\n",
    "fig.update_yaxes(title='Temperatura (Cº) promedio')\n",
    "\n",
    "# Configurar el título del gráfico\n",
    "fig.update_layout(title='Evolución fecha/hora (YYYY-MM-DD) de temperatura PREDECIDA PROMEDIA')\n",
    "\n",
    "# Mostrar la gráfica\n",
    "fig.show()"
   ]
  },
  {
   "attachments": {},
   "cell_type": "markdown",
   "id": "6825c20c",
   "metadata": {},
   "source": [
    "#### Comparación de predicción meteo y toma de datos reales registrados.\n",
    "Podemos observar un fenomeno en la gráfica respecto a los picos de temperaturas y descenso en picado de las mismas debido a la variedad de datos registrados en el promedio que ofrecen sus respectivas horas."
   ]
  },
  {
   "cell_type": "code",
   "execution_count": 70,
   "id": "105d1d25",
   "metadata": {
    "scrolled": false
   },
   "outputs": [
    {
     "data": {
      "application/vnd.plotly.v1+json": {
       "config": {
        "plotlyServerURL": "https://plot.ly"
       },
       "data": [
        {
         "mode": "lines+markers",
         "name": "Temperatura registrada real",
         "type": "scatter",
         "x": [
          "2023-05-22T15:00:00",
          "2023-05-22T16:00:00",
          "2023-05-22T17:00:00",
          "2023-05-22T18:00:00",
          "2023-05-22T19:00:00",
          "2023-05-22T20:00:00",
          "2023-05-22T21:00:00",
          "2023-05-22T22:00:00",
          "2023-05-22T23:00:00",
          "2023-05-23T00:00:00",
          "2023-05-23T01:00:00",
          "2023-05-23T02:00:00",
          "2023-05-23T03:00:00",
          "2023-05-23T04:00:00",
          "2023-05-23T05:00:00",
          "2023-05-23T06:00:00",
          "2023-05-23T07:00:00",
          "2023-05-23T08:00:00",
          "2023-05-23T09:00:00",
          "2023-05-23T10:00:00",
          "2023-05-23T11:00:00",
          "2023-05-23T12:00:00",
          "2023-05-23T13:00:00",
          "2023-05-23T14:00:00",
          "2023-05-24T16:00:00",
          "2023-05-24T17:00:00",
          "2023-05-24T18:00:00",
          "2023-05-24T19:00:00",
          "2023-05-24T20:00:00",
          "2023-05-24T21:00:00",
          "2023-05-24T22:00:00",
          "2023-05-24T23:00:00",
          "2023-05-25T00:00:00",
          "2023-05-25T01:00:00",
          "2023-05-25T02:00:00",
          "2023-05-25T03:00:00",
          "2023-05-25T04:00:00",
          "2023-05-25T05:00:00",
          "2023-05-25T06:00:00",
          "2023-05-25T07:00:00",
          "2023-05-25T08:00:00",
          "2023-05-25T09:00:00",
          "2023-05-25T10:00:00",
          "2023-05-25T11:00:00",
          "2023-05-25T12:00:00",
          "2023-05-25T13:00:00",
          "2023-05-25T14:00:00",
          "2023-05-25T15:00:00",
          "2023-05-25T16:00:00",
          "2023-05-25T17:00:00",
          "2023-05-25T18:00:00",
          "2023-05-25T19:00:00",
          "2023-05-25T20:00:00",
          "2023-05-25T21:00:00",
          "2023-05-25T22:00:00",
          "2023-05-26T16:00:00",
          "2023-05-26T17:00:00",
          "2023-05-26T18:00:00",
          "2023-05-26T19:00:00",
          "2023-05-26T20:00:00",
          "2023-05-26T21:00:00",
          "2023-05-26T22:00:00",
          "2023-05-26T23:00:00",
          "2023-05-27T00:00:00",
          "2023-05-27T01:00:00",
          "2023-05-27T02:00:00",
          "2023-05-27T03:00:00",
          "2023-05-27T04:00:00",
          "2023-05-27T05:00:00",
          "2023-05-27T06:00:00",
          "2023-05-27T07:00:00",
          "2023-05-27T08:00:00",
          "2023-05-27T09:00:00",
          "2023-05-27T10:00:00",
          "2023-05-27T11:00:00",
          "2023-05-27T12:00:00",
          "2023-05-27T13:00:00",
          "2023-05-27T14:00:00",
          "2023-05-27T15:00:00",
          "2023-05-27T16:00:00",
          "2023-05-27T17:00:00",
          "2023-05-27T18:00:00",
          "2023-05-27T19:00:00",
          "2023-05-27T20:00:00",
          "2023-05-27T21:00:00",
          "2023-05-27T22:00:00",
          "2023-05-27T23:00:00",
          "2023-05-28T00:00:00",
          "2023-05-28T01:00:00",
          "2023-05-28T02:00:00",
          "2023-05-28T03:00:00",
          "2023-05-28T04:00:00",
          "2023-05-28T05:00:00",
          "2023-05-28T06:00:00",
          "2023-05-28T07:00:00",
          "2023-05-28T08:00:00",
          "2023-05-28T09:00:00",
          "2023-05-28T10:00:00",
          "2023-05-28T11:00:00",
          "2023-05-28T12:00:00",
          "2023-05-28T13:00:00",
          "2023-05-28T14:00:00",
          "2023-05-28T17:00:00",
          "2023-05-28T18:00:00",
          "2023-05-28T19:00:00",
          "2023-05-28T20:00:00",
          "2023-05-28T21:00:00",
          "2023-05-28T22:00:00",
          "2023-05-28T23:00:00",
          "2023-05-29T00:00:00",
          "2023-05-29T01:00:00",
          "2023-05-29T02:00:00",
          "2023-05-29T03:00:00",
          "2023-05-29T04:00:00",
          "2023-05-29T05:00:00",
          "2023-05-29T06:00:00",
          "2023-05-29T07:00:00",
          "2023-05-29T08:00:00",
          "2023-05-29T09:00:00",
          "2023-05-29T10:00:00",
          "2023-05-29T11:00:00",
          "2023-05-29T12:00:00",
          "2023-05-29T13:00:00",
          "2023-05-29T14:00:00",
          "2023-05-29T15:00:00",
          "2023-05-29T16:00:00",
          "2023-05-29T17:00:00",
          "2023-05-29T18:00:00",
          "2023-05-29T19:00:00",
          "2023-05-29T20:00:00",
          "2023-05-29T21:00:00",
          "2023-05-29T22:00:00",
          "2023-05-29T23:00:00",
          "2023-05-30T00:00:00",
          "2023-05-30T01:00:00",
          "2023-05-30T02:00:00",
          "2023-05-30T03:00:00",
          "2023-05-30T04:00:00",
          "2023-05-30T05:00:00",
          "2023-05-30T06:00:00",
          "2023-05-30T07:00:00",
          "2023-05-30T08:00:00",
          "2023-05-30T09:00:00",
          "2023-05-30T10:00:00",
          "2023-05-30T11:00:00",
          "2023-05-30T12:00:00",
          "2023-05-30T13:00:00"
         ],
         "y": [
          22.3,
          21.8,
          20.4,
          20.1,
          19.4,
          18.6,
          15.5,
          14.7,
          14.7,
          14.9,
          15.8,
          15.5,
          15.1,
          14.9,
          14,
          14.4,
          15.2,
          16.1,
          18,
          19.9,
          22.3,
          22.4,
          24,
          24.4,
          21.5,
          19.1,
          19.3,
          19.4,
          18.7,
          18.4,
          17.6,
          16.7,
          16.1,
          15.5,
          14.8,
          14.9,
          14.8,
          14.5,
          14.4,
          15.2,
          17.3,
          18.9,
          20.3,
          21.3,
          22.9,
          25.1,
          18.2,
          21.5,
          20.2,
          20.1,
          20.3,
          19.2,
          17.1,
          15.800000000000002,
          15.1,
          17.2,
          16.9,
          16.1,
          16.1,
          16.2,
          15.5,
          15.300000000000002,
          15,
          14.800000000000002,
          14.6,
          14.199999999999998,
          14,
          13.6,
          13.5,
          13.6,
          14.9,
          16.1,
          17.1,
          19.1,
          19.7,
          19.9,
          21.399999999999995,
          21,
          18.3,
          18.6,
          18.8,
          18.9,
          18.5,
          17,
          16.8,
          13.6,
          13.4,
          13.4,
          13.5,
          13.300000000000002,
          13.300000000000002,
          13.4,
          13.4,
          13.5,
          13.4,
          13.6,
          14.199999999999998,
          15.199999999999998,
          15.800000000000002,
          16.4,
          16.8,
          17.2,
          17.4,
          14.8,
          14.2,
          13.6,
          13.3,
          13.1,
          12.7,
          12.6,
          12.9,
          13,
          12.9,
          13,
          12.8,
          12.9,
          13.6,
          15.7,
          16.6,
          18.7,
          20,
          21.9,
          20.9,
          22.8,
          22.7,
          22.2,
          15.9,
          14.7,
          13.6,
          13.6,
          13.6,
          13.6,
          13.4,
          13.1,
          12.9,
          12.8,
          12.8,
          12.5,
          12.6,
          13,
          13.6,
          16,
          17.9,
          19.9,
          22,
          20,
          22.7
         ]
        },
        {
         "mode": "markers+lines",
         "name": "Temperatura predecida",
         "type": "scatter",
         "x": [
          "2023-05-26 03:00",
          "2023-05-26 06:00",
          "2023-05-26 09:00",
          "2023-05-26 10:00",
          "2023-05-26 12:00",
          "2023-05-26 14:00",
          "2023-05-26 15:00",
          "2023-05-26 17:00",
          "2023-05-26 23:00",
          "2023-05-27 00:00",
          "2023-05-27 03:00",
          "2023-05-27 04:00",
          "2023-05-27 05:00",
          "2023-05-27 09:00",
          "2023-05-27 10:00",
          "2023-05-27 11:00",
          "2023-05-27 13:00",
          "2023-05-27 14:00",
          "2023-05-27 15:00",
          "2023-05-27 16:00",
          "2023-05-27 19:00",
          "2023-05-27 20:00",
          "2023-05-27 22:00",
          "2023-05-28 01:00",
          "2023-05-28 02:00",
          "2023-05-28 04:00",
          "2023-05-28 06:00",
          "2023-05-28 08:00",
          "2023-05-28 12:00",
          "2023-05-28 17:00",
          "2023-05-28 18:00",
          "2023-05-28 20:00",
          "2023-05-28 21:00",
          "2023-05-29 00:00",
          "2023-05-29 01:00",
          "2023-05-29 04:00",
          "2023-05-29 05:00",
          "2023-05-29 06:00",
          "2023-05-29 08:00",
          "2023-05-29 09:00",
          "2023-05-29 10:00",
          "2023-05-29 13:00",
          "2023-05-29 14:00",
          "2023-05-29 16:00",
          "2023-05-29 20:00",
          "2023-05-29 23:00",
          "2023-05-30 00:00",
          "2023-05-30 02:00",
          "2023-05-30 03:00",
          "2023-05-30 04:00",
          "2023-05-30 06:00",
          "2023-05-30 17:00",
          "2023-05-30 18:00",
          "2023-05-30 19:00",
          "2023-05-30 23:00",
          "2023-05-31 02:00",
          "2023-05-31 03:00",
          "2023-05-31 04:00",
          "2023-05-31 05:00",
          "2023-05-31 06:00",
          "2023-05-31 11:00",
          "2023-05-31 12:00",
          "2023-05-31 17:00",
          "2023-05-31 18:00",
          "2023-05-31 19:00",
          "2023-06-01 02:00",
          "2023-06-01 03:00",
          "2023-06-01 04:00",
          "2023-06-01 05:00",
          "2023-06-01 07:00"
         ],
         "y": [
          15,
          13,
          15,
          15,
          15,
          13,
          14,
          14,
          18.61111111111111,
          14,
          13.461538461538462,
          19,
          16.923076923076923,
          18.194444444444443,
          14,
          14,
          14.73076923076923,
          14,
          22,
          18.805555555555557,
          13.461538461538462,
          16.727272727272727,
          15,
          14,
          12.88888888888889,
          15,
          16,
          15.461538461538462,
          13.272727272727273,
          13.272727272727273,
          15,
          16.22222222222222,
          15,
          14,
          19,
          19,
          18,
          14,
          13.545454545454545,
          15.805555555555555,
          13,
          14.272727272727273,
          16,
          15,
          19.61111111111111,
          16,
          15,
          15,
          20,
          16,
          14,
          14,
          16.805555555555557,
          15,
          17.384615384615383,
          16.805555555555557,
          13,
          18.11111111111111,
          21,
          14,
          18.923076923076923,
          18,
          14,
          14.272727272727273,
          20.272727272727273,
          18.88888888888889,
          17.38888888888889,
          17.46153846153846,
          19.384615384615383,
          20
         ]
        }
       ],
       "layout": {
        "template": {
         "data": {
          "bar": [
           {
            "error_x": {
             "color": "#2a3f5f"
            },
            "error_y": {
             "color": "#2a3f5f"
            },
            "marker": {
             "line": {
              "color": "#E5ECF6",
              "width": 0.5
             },
             "pattern": {
              "fillmode": "overlay",
              "size": 10,
              "solidity": 0.2
             }
            },
            "type": "bar"
           }
          ],
          "barpolar": [
           {
            "marker": {
             "line": {
              "color": "#E5ECF6",
              "width": 0.5
             },
             "pattern": {
              "fillmode": "overlay",
              "size": 10,
              "solidity": 0.2
             }
            },
            "type": "barpolar"
           }
          ],
          "carpet": [
           {
            "aaxis": {
             "endlinecolor": "#2a3f5f",
             "gridcolor": "white",
             "linecolor": "white",
             "minorgridcolor": "white",
             "startlinecolor": "#2a3f5f"
            },
            "baxis": {
             "endlinecolor": "#2a3f5f",
             "gridcolor": "white",
             "linecolor": "white",
             "minorgridcolor": "white",
             "startlinecolor": "#2a3f5f"
            },
            "type": "carpet"
           }
          ],
          "choropleth": [
           {
            "colorbar": {
             "outlinewidth": 0,
             "ticks": ""
            },
            "type": "choropleth"
           }
          ],
          "contour": [
           {
            "colorbar": {
             "outlinewidth": 0,
             "ticks": ""
            },
            "colorscale": [
             [
              0,
              "#0d0887"
             ],
             [
              0.1111111111111111,
              "#46039f"
             ],
             [
              0.2222222222222222,
              "#7201a8"
             ],
             [
              0.3333333333333333,
              "#9c179e"
             ],
             [
              0.4444444444444444,
              "#bd3786"
             ],
             [
              0.5555555555555556,
              "#d8576b"
             ],
             [
              0.6666666666666666,
              "#ed7953"
             ],
             [
              0.7777777777777778,
              "#fb9f3a"
             ],
             [
              0.8888888888888888,
              "#fdca26"
             ],
             [
              1,
              "#f0f921"
             ]
            ],
            "type": "contour"
           }
          ],
          "contourcarpet": [
           {
            "colorbar": {
             "outlinewidth": 0,
             "ticks": ""
            },
            "type": "contourcarpet"
           }
          ],
          "heatmap": [
           {
            "colorbar": {
             "outlinewidth": 0,
             "ticks": ""
            },
            "colorscale": [
             [
              0,
              "#0d0887"
             ],
             [
              0.1111111111111111,
              "#46039f"
             ],
             [
              0.2222222222222222,
              "#7201a8"
             ],
             [
              0.3333333333333333,
              "#9c179e"
             ],
             [
              0.4444444444444444,
              "#bd3786"
             ],
             [
              0.5555555555555556,
              "#d8576b"
             ],
             [
              0.6666666666666666,
              "#ed7953"
             ],
             [
              0.7777777777777778,
              "#fb9f3a"
             ],
             [
              0.8888888888888888,
              "#fdca26"
             ],
             [
              1,
              "#f0f921"
             ]
            ],
            "type": "heatmap"
           }
          ],
          "heatmapgl": [
           {
            "colorbar": {
             "outlinewidth": 0,
             "ticks": ""
            },
            "colorscale": [
             [
              0,
              "#0d0887"
             ],
             [
              0.1111111111111111,
              "#46039f"
             ],
             [
              0.2222222222222222,
              "#7201a8"
             ],
             [
              0.3333333333333333,
              "#9c179e"
             ],
             [
              0.4444444444444444,
              "#bd3786"
             ],
             [
              0.5555555555555556,
              "#d8576b"
             ],
             [
              0.6666666666666666,
              "#ed7953"
             ],
             [
              0.7777777777777778,
              "#fb9f3a"
             ],
             [
              0.8888888888888888,
              "#fdca26"
             ],
             [
              1,
              "#f0f921"
             ]
            ],
            "type": "heatmapgl"
           }
          ],
          "histogram": [
           {
            "marker": {
             "pattern": {
              "fillmode": "overlay",
              "size": 10,
              "solidity": 0.2
             }
            },
            "type": "histogram"
           }
          ],
          "histogram2d": [
           {
            "colorbar": {
             "outlinewidth": 0,
             "ticks": ""
            },
            "colorscale": [
             [
              0,
              "#0d0887"
             ],
             [
              0.1111111111111111,
              "#46039f"
             ],
             [
              0.2222222222222222,
              "#7201a8"
             ],
             [
              0.3333333333333333,
              "#9c179e"
             ],
             [
              0.4444444444444444,
              "#bd3786"
             ],
             [
              0.5555555555555556,
              "#d8576b"
             ],
             [
              0.6666666666666666,
              "#ed7953"
             ],
             [
              0.7777777777777778,
              "#fb9f3a"
             ],
             [
              0.8888888888888888,
              "#fdca26"
             ],
             [
              1,
              "#f0f921"
             ]
            ],
            "type": "histogram2d"
           }
          ],
          "histogram2dcontour": [
           {
            "colorbar": {
             "outlinewidth": 0,
             "ticks": ""
            },
            "colorscale": [
             [
              0,
              "#0d0887"
             ],
             [
              0.1111111111111111,
              "#46039f"
             ],
             [
              0.2222222222222222,
              "#7201a8"
             ],
             [
              0.3333333333333333,
              "#9c179e"
             ],
             [
              0.4444444444444444,
              "#bd3786"
             ],
             [
              0.5555555555555556,
              "#d8576b"
             ],
             [
              0.6666666666666666,
              "#ed7953"
             ],
             [
              0.7777777777777778,
              "#fb9f3a"
             ],
             [
              0.8888888888888888,
              "#fdca26"
             ],
             [
              1,
              "#f0f921"
             ]
            ],
            "type": "histogram2dcontour"
           }
          ],
          "mesh3d": [
           {
            "colorbar": {
             "outlinewidth": 0,
             "ticks": ""
            },
            "type": "mesh3d"
           }
          ],
          "parcoords": [
           {
            "line": {
             "colorbar": {
              "outlinewidth": 0,
              "ticks": ""
             }
            },
            "type": "parcoords"
           }
          ],
          "pie": [
           {
            "automargin": true,
            "type": "pie"
           }
          ],
          "scatter": [
           {
            "fillpattern": {
             "fillmode": "overlay",
             "size": 10,
             "solidity": 0.2
            },
            "type": "scatter"
           }
          ],
          "scatter3d": [
           {
            "line": {
             "colorbar": {
              "outlinewidth": 0,
              "ticks": ""
             }
            },
            "marker": {
             "colorbar": {
              "outlinewidth": 0,
              "ticks": ""
             }
            },
            "type": "scatter3d"
           }
          ],
          "scattercarpet": [
           {
            "marker": {
             "colorbar": {
              "outlinewidth": 0,
              "ticks": ""
             }
            },
            "type": "scattercarpet"
           }
          ],
          "scattergeo": [
           {
            "marker": {
             "colorbar": {
              "outlinewidth": 0,
              "ticks": ""
             }
            },
            "type": "scattergeo"
           }
          ],
          "scattergl": [
           {
            "marker": {
             "colorbar": {
              "outlinewidth": 0,
              "ticks": ""
             }
            },
            "type": "scattergl"
           }
          ],
          "scattermapbox": [
           {
            "marker": {
             "colorbar": {
              "outlinewidth": 0,
              "ticks": ""
             }
            },
            "type": "scattermapbox"
           }
          ],
          "scatterpolar": [
           {
            "marker": {
             "colorbar": {
              "outlinewidth": 0,
              "ticks": ""
             }
            },
            "type": "scatterpolar"
           }
          ],
          "scatterpolargl": [
           {
            "marker": {
             "colorbar": {
              "outlinewidth": 0,
              "ticks": ""
             }
            },
            "type": "scatterpolargl"
           }
          ],
          "scatterternary": [
           {
            "marker": {
             "colorbar": {
              "outlinewidth": 0,
              "ticks": ""
             }
            },
            "type": "scatterternary"
           }
          ],
          "surface": [
           {
            "colorbar": {
             "outlinewidth": 0,
             "ticks": ""
            },
            "colorscale": [
             [
              0,
              "#0d0887"
             ],
             [
              0.1111111111111111,
              "#46039f"
             ],
             [
              0.2222222222222222,
              "#7201a8"
             ],
             [
              0.3333333333333333,
              "#9c179e"
             ],
             [
              0.4444444444444444,
              "#bd3786"
             ],
             [
              0.5555555555555556,
              "#d8576b"
             ],
             [
              0.6666666666666666,
              "#ed7953"
             ],
             [
              0.7777777777777778,
              "#fb9f3a"
             ],
             [
              0.8888888888888888,
              "#fdca26"
             ],
             [
              1,
              "#f0f921"
             ]
            ],
            "type": "surface"
           }
          ],
          "table": [
           {
            "cells": {
             "fill": {
              "color": "#EBF0F8"
             },
             "line": {
              "color": "white"
             }
            },
            "header": {
             "fill": {
              "color": "#C8D4E3"
             },
             "line": {
              "color": "white"
             }
            },
            "type": "table"
           }
          ]
         },
         "layout": {
          "annotationdefaults": {
           "arrowcolor": "#2a3f5f",
           "arrowhead": 0,
           "arrowwidth": 1
          },
          "autotypenumbers": "strict",
          "coloraxis": {
           "colorbar": {
            "outlinewidth": 0,
            "ticks": ""
           }
          },
          "colorscale": {
           "diverging": [
            [
             0,
             "#8e0152"
            ],
            [
             0.1,
             "#c51b7d"
            ],
            [
             0.2,
             "#de77ae"
            ],
            [
             0.3,
             "#f1b6da"
            ],
            [
             0.4,
             "#fde0ef"
            ],
            [
             0.5,
             "#f7f7f7"
            ],
            [
             0.6,
             "#e6f5d0"
            ],
            [
             0.7,
             "#b8e186"
            ],
            [
             0.8,
             "#7fbc41"
            ],
            [
             0.9,
             "#4d9221"
            ],
            [
             1,
             "#276419"
            ]
           ],
           "sequential": [
            [
             0,
             "#0d0887"
            ],
            [
             0.1111111111111111,
             "#46039f"
            ],
            [
             0.2222222222222222,
             "#7201a8"
            ],
            [
             0.3333333333333333,
             "#9c179e"
            ],
            [
             0.4444444444444444,
             "#bd3786"
            ],
            [
             0.5555555555555556,
             "#d8576b"
            ],
            [
             0.6666666666666666,
             "#ed7953"
            ],
            [
             0.7777777777777778,
             "#fb9f3a"
            ],
            [
             0.8888888888888888,
             "#fdca26"
            ],
            [
             1,
             "#f0f921"
            ]
           ],
           "sequentialminus": [
            [
             0,
             "#0d0887"
            ],
            [
             0.1111111111111111,
             "#46039f"
            ],
            [
             0.2222222222222222,
             "#7201a8"
            ],
            [
             0.3333333333333333,
             "#9c179e"
            ],
            [
             0.4444444444444444,
             "#bd3786"
            ],
            [
             0.5555555555555556,
             "#d8576b"
            ],
            [
             0.6666666666666666,
             "#ed7953"
            ],
            [
             0.7777777777777778,
             "#fb9f3a"
            ],
            [
             0.8888888888888888,
             "#fdca26"
            ],
            [
             1,
             "#f0f921"
            ]
           ]
          },
          "colorway": [
           "#636efa",
           "#EF553B",
           "#00cc96",
           "#ab63fa",
           "#FFA15A",
           "#19d3f3",
           "#FF6692",
           "#B6E880",
           "#FF97FF",
           "#FECB52"
          ],
          "font": {
           "color": "#2a3f5f"
          },
          "geo": {
           "bgcolor": "white",
           "lakecolor": "white",
           "landcolor": "#E5ECF6",
           "showlakes": true,
           "showland": true,
           "subunitcolor": "white"
          },
          "hoverlabel": {
           "align": "left"
          },
          "hovermode": "closest",
          "mapbox": {
           "style": "light"
          },
          "paper_bgcolor": "white",
          "plot_bgcolor": "#E5ECF6",
          "polar": {
           "angularaxis": {
            "gridcolor": "white",
            "linecolor": "white",
            "ticks": ""
           },
           "bgcolor": "#E5ECF6",
           "radialaxis": {
            "gridcolor": "white",
            "linecolor": "white",
            "ticks": ""
           }
          },
          "scene": {
           "xaxis": {
            "backgroundcolor": "#E5ECF6",
            "gridcolor": "white",
            "gridwidth": 2,
            "linecolor": "white",
            "showbackground": true,
            "ticks": "",
            "zerolinecolor": "white"
           },
           "yaxis": {
            "backgroundcolor": "#E5ECF6",
            "gridcolor": "white",
            "gridwidth": 2,
            "linecolor": "white",
            "showbackground": true,
            "ticks": "",
            "zerolinecolor": "white"
           },
           "zaxis": {
            "backgroundcolor": "#E5ECF6",
            "gridcolor": "white",
            "gridwidth": 2,
            "linecolor": "white",
            "showbackground": true,
            "ticks": "",
            "zerolinecolor": "white"
           }
          },
          "shapedefaults": {
           "line": {
            "color": "#2a3f5f"
           }
          },
          "ternary": {
           "aaxis": {
            "gridcolor": "white",
            "linecolor": "white",
            "ticks": ""
           },
           "baxis": {
            "gridcolor": "white",
            "linecolor": "white",
            "ticks": ""
           },
           "bgcolor": "#E5ECF6",
           "caxis": {
            "gridcolor": "white",
            "linecolor": "white",
            "ticks": ""
           }
          },
          "title": {
           "x": 0.05
          },
          "xaxis": {
           "automargin": true,
           "gridcolor": "white",
           "linecolor": "white",
           "ticks": "",
           "title": {
            "standoff": 15
           },
           "zerolinecolor": "white",
           "zerolinewidth": 2
          },
          "yaxis": {
           "automargin": true,
           "gridcolor": "white",
           "linecolor": "white",
           "ticks": "",
           "title": {
            "standoff": 15
           },
           "zerolinecolor": "white",
           "zerolinewidth": 2
          }
         }
        },
        "title": {
         "text": "Comparación y evaluación de las temperaturas registrada (Reales/Predecidas)"
        },
        "xaxis": {
         "tickangle": -45,
         "title": {
          "text": "Fecha y Hora"
         }
        },
        "yaxis": {
         "title": {
          "text": "Temperatura (Cº) promedio"
         }
        }
       }
      },
      "text/html": [
       "<div>                            <div id=\"dd492b48-261b-45c0-9828-e48a86f6cba0\" class=\"plotly-graph-div\" style=\"height:525px; width:100%;\"></div>            <script type=\"text/javascript\">                require([\"plotly\"], function(Plotly) {                    window.PLOTLYENV=window.PLOTLYENV || {};                                    if (document.getElementById(\"dd492b48-261b-45c0-9828-e48a86f6cba0\")) {                    Plotly.newPlot(                        \"dd492b48-261b-45c0-9828-e48a86f6cba0\",                        [{\"mode\":\"lines+markers\",\"name\":\"Temperatura registrada real\",\"x\":[\"2023-05-22T15:00:00\",\"2023-05-22T16:00:00\",\"2023-05-22T17:00:00\",\"2023-05-22T18:00:00\",\"2023-05-22T19:00:00\",\"2023-05-22T20:00:00\",\"2023-05-22T21:00:00\",\"2023-05-22T22:00:00\",\"2023-05-22T23:00:00\",\"2023-05-23T00:00:00\",\"2023-05-23T01:00:00\",\"2023-05-23T02:00:00\",\"2023-05-23T03:00:00\",\"2023-05-23T04:00:00\",\"2023-05-23T05:00:00\",\"2023-05-23T06:00:00\",\"2023-05-23T07:00:00\",\"2023-05-23T08:00:00\",\"2023-05-23T09:00:00\",\"2023-05-23T10:00:00\",\"2023-05-23T11:00:00\",\"2023-05-23T12:00:00\",\"2023-05-23T13:00:00\",\"2023-05-23T14:00:00\",\"2023-05-24T16:00:00\",\"2023-05-24T17:00:00\",\"2023-05-24T18:00:00\",\"2023-05-24T19:00:00\",\"2023-05-24T20:00:00\",\"2023-05-24T21:00:00\",\"2023-05-24T22:00:00\",\"2023-05-24T23:00:00\",\"2023-05-25T00:00:00\",\"2023-05-25T01:00:00\",\"2023-05-25T02:00:00\",\"2023-05-25T03:00:00\",\"2023-05-25T04:00:00\",\"2023-05-25T05:00:00\",\"2023-05-25T06:00:00\",\"2023-05-25T07:00:00\",\"2023-05-25T08:00:00\",\"2023-05-25T09:00:00\",\"2023-05-25T10:00:00\",\"2023-05-25T11:00:00\",\"2023-05-25T12:00:00\",\"2023-05-25T13:00:00\",\"2023-05-25T14:00:00\",\"2023-05-25T15:00:00\",\"2023-05-25T16:00:00\",\"2023-05-25T17:00:00\",\"2023-05-25T18:00:00\",\"2023-05-25T19:00:00\",\"2023-05-25T20:00:00\",\"2023-05-25T21:00:00\",\"2023-05-25T22:00:00\",\"2023-05-26T16:00:00\",\"2023-05-26T17:00:00\",\"2023-05-26T18:00:00\",\"2023-05-26T19:00:00\",\"2023-05-26T20:00:00\",\"2023-05-26T21:00:00\",\"2023-05-26T22:00:00\",\"2023-05-26T23:00:00\",\"2023-05-27T00:00:00\",\"2023-05-27T01:00:00\",\"2023-05-27T02:00:00\",\"2023-05-27T03:00:00\",\"2023-05-27T04:00:00\",\"2023-05-27T05:00:00\",\"2023-05-27T06:00:00\",\"2023-05-27T07:00:00\",\"2023-05-27T08:00:00\",\"2023-05-27T09:00:00\",\"2023-05-27T10:00:00\",\"2023-05-27T11:00:00\",\"2023-05-27T12:00:00\",\"2023-05-27T13:00:00\",\"2023-05-27T14:00:00\",\"2023-05-27T15:00:00\",\"2023-05-27T16:00:00\",\"2023-05-27T17:00:00\",\"2023-05-27T18:00:00\",\"2023-05-27T19:00:00\",\"2023-05-27T20:00:00\",\"2023-05-27T21:00:00\",\"2023-05-27T22:00:00\",\"2023-05-27T23:00:00\",\"2023-05-28T00:00:00\",\"2023-05-28T01:00:00\",\"2023-05-28T02:00:00\",\"2023-05-28T03:00:00\",\"2023-05-28T04:00:00\",\"2023-05-28T05:00:00\",\"2023-05-28T06:00:00\",\"2023-05-28T07:00:00\",\"2023-05-28T08:00:00\",\"2023-05-28T09:00:00\",\"2023-05-28T10:00:00\",\"2023-05-28T11:00:00\",\"2023-05-28T12:00:00\",\"2023-05-28T13:00:00\",\"2023-05-28T14:00:00\",\"2023-05-28T17:00:00\",\"2023-05-28T18:00:00\",\"2023-05-28T19:00:00\",\"2023-05-28T20:00:00\",\"2023-05-28T21:00:00\",\"2023-05-28T22:00:00\",\"2023-05-28T23:00:00\",\"2023-05-29T00:00:00\",\"2023-05-29T01:00:00\",\"2023-05-29T02:00:00\",\"2023-05-29T03:00:00\",\"2023-05-29T04:00:00\",\"2023-05-29T05:00:00\",\"2023-05-29T06:00:00\",\"2023-05-29T07:00:00\",\"2023-05-29T08:00:00\",\"2023-05-29T09:00:00\",\"2023-05-29T10:00:00\",\"2023-05-29T11:00:00\",\"2023-05-29T12:00:00\",\"2023-05-29T13:00:00\",\"2023-05-29T14:00:00\",\"2023-05-29T15:00:00\",\"2023-05-29T16:00:00\",\"2023-05-29T17:00:00\",\"2023-05-29T18:00:00\",\"2023-05-29T19:00:00\",\"2023-05-29T20:00:00\",\"2023-05-29T21:00:00\",\"2023-05-29T22:00:00\",\"2023-05-29T23:00:00\",\"2023-05-30T00:00:00\",\"2023-05-30T01:00:00\",\"2023-05-30T02:00:00\",\"2023-05-30T03:00:00\",\"2023-05-30T04:00:00\",\"2023-05-30T05:00:00\",\"2023-05-30T06:00:00\",\"2023-05-30T07:00:00\",\"2023-05-30T08:00:00\",\"2023-05-30T09:00:00\",\"2023-05-30T10:00:00\",\"2023-05-30T11:00:00\",\"2023-05-30T12:00:00\",\"2023-05-30T13:00:00\"],\"y\":[22.3,21.8,20.4,20.1,19.4,18.6,15.5,14.7,14.7,14.9,15.8,15.5,15.1,14.9,14.0,14.4,15.2,16.1,18.0,19.9,22.3,22.4,24.0,24.4,21.5,19.1,19.3,19.4,18.7,18.4,17.6,16.7,16.1,15.5,14.8,14.9,14.8,14.5,14.4,15.2,17.3,18.9,20.3,21.3,22.9,25.1,18.2,21.5,20.2,20.1,20.3,19.2,17.1,15.800000000000002,15.1,17.2,16.9,16.1,16.1,16.2,15.5,15.300000000000002,15.0,14.800000000000002,14.6,14.199999999999998,14.0,13.6,13.5,13.6,14.9,16.1,17.1,19.1,19.7,19.9,21.399999999999995,21.0,18.3,18.6,18.8,18.9,18.5,17.0,16.8,13.6,13.4,13.4,13.5,13.300000000000002,13.300000000000002,13.4,13.4,13.5,13.4,13.6,14.199999999999998,15.199999999999998,15.800000000000002,16.4,16.8,17.2,17.4,14.8,14.2,13.6,13.3,13.1,12.7,12.6,12.9,13.0,12.9,13.0,12.8,12.9,13.6,15.7,16.6,18.7,20.0,21.9,20.9,22.8,22.7,22.2,15.9,14.7,13.6,13.6,13.6,13.6,13.4,13.1,12.9,12.8,12.8,12.5,12.6,13.0,13.6,16.0,17.9,19.9,22.0,20.0,22.7],\"type\":\"scatter\"},{\"mode\":\"markers+lines\",\"name\":\"Temperatura predecida\",\"x\":[\"2023-05-26 03:00\",\"2023-05-26 06:00\",\"2023-05-26 09:00\",\"2023-05-26 10:00\",\"2023-05-26 12:00\",\"2023-05-26 14:00\",\"2023-05-26 15:00\",\"2023-05-26 17:00\",\"2023-05-26 23:00\",\"2023-05-27 00:00\",\"2023-05-27 03:00\",\"2023-05-27 04:00\",\"2023-05-27 05:00\",\"2023-05-27 09:00\",\"2023-05-27 10:00\",\"2023-05-27 11:00\",\"2023-05-27 13:00\",\"2023-05-27 14:00\",\"2023-05-27 15:00\",\"2023-05-27 16:00\",\"2023-05-27 19:00\",\"2023-05-27 20:00\",\"2023-05-27 22:00\",\"2023-05-28 01:00\",\"2023-05-28 02:00\",\"2023-05-28 04:00\",\"2023-05-28 06:00\",\"2023-05-28 08:00\",\"2023-05-28 12:00\",\"2023-05-28 17:00\",\"2023-05-28 18:00\",\"2023-05-28 20:00\",\"2023-05-28 21:00\",\"2023-05-29 00:00\",\"2023-05-29 01:00\",\"2023-05-29 04:00\",\"2023-05-29 05:00\",\"2023-05-29 06:00\",\"2023-05-29 08:00\",\"2023-05-29 09:00\",\"2023-05-29 10:00\",\"2023-05-29 13:00\",\"2023-05-29 14:00\",\"2023-05-29 16:00\",\"2023-05-29 20:00\",\"2023-05-29 23:00\",\"2023-05-30 00:00\",\"2023-05-30 02:00\",\"2023-05-30 03:00\",\"2023-05-30 04:00\",\"2023-05-30 06:00\",\"2023-05-30 17:00\",\"2023-05-30 18:00\",\"2023-05-30 19:00\",\"2023-05-30 23:00\",\"2023-05-31 02:00\",\"2023-05-31 03:00\",\"2023-05-31 04:00\",\"2023-05-31 05:00\",\"2023-05-31 06:00\",\"2023-05-31 11:00\",\"2023-05-31 12:00\",\"2023-05-31 17:00\",\"2023-05-31 18:00\",\"2023-05-31 19:00\",\"2023-06-01 02:00\",\"2023-06-01 03:00\",\"2023-06-01 04:00\",\"2023-06-01 05:00\",\"2023-06-01 07:00\"],\"y\":[15.0,13.0,15.0,15.0,15.0,13.0,14.0,14.0,18.61111111111111,14.0,13.461538461538462,19.0,16.923076923076923,18.194444444444443,14.0,14.0,14.73076923076923,14.0,22.0,18.805555555555557,13.461538461538462,16.727272727272727,15.0,14.0,12.88888888888889,15.0,16.0,15.461538461538462,13.272727272727273,13.272727272727273,15.0,16.22222222222222,15.0,14.0,19.0,19.0,18.0,14.0,13.545454545454545,15.805555555555555,13.0,14.272727272727273,16.0,15.0,19.61111111111111,16.0,15.0,15.0,20.0,16.0,14.0,14.0,16.805555555555557,15.0,17.384615384615383,16.805555555555557,13.0,18.11111111111111,21.0,14.0,18.923076923076923,18.0,14.0,14.272727272727273,20.272727272727273,18.88888888888889,17.38888888888889,17.46153846153846,19.384615384615383,20.0],\"type\":\"scatter\"}],                        {\"template\":{\"data\":{\"histogram2dcontour\":[{\"type\":\"histogram2dcontour\",\"colorbar\":{\"outlinewidth\":0,\"ticks\":\"\"},\"colorscale\":[[0.0,\"#0d0887\"],[0.1111111111111111,\"#46039f\"],[0.2222222222222222,\"#7201a8\"],[0.3333333333333333,\"#9c179e\"],[0.4444444444444444,\"#bd3786\"],[0.5555555555555556,\"#d8576b\"],[0.6666666666666666,\"#ed7953\"],[0.7777777777777778,\"#fb9f3a\"],[0.8888888888888888,\"#fdca26\"],[1.0,\"#f0f921\"]]}],\"choropleth\":[{\"type\":\"choropleth\",\"colorbar\":{\"outlinewidth\":0,\"ticks\":\"\"}}],\"histogram2d\":[{\"type\":\"histogram2d\",\"colorbar\":{\"outlinewidth\":0,\"ticks\":\"\"},\"colorscale\":[[0.0,\"#0d0887\"],[0.1111111111111111,\"#46039f\"],[0.2222222222222222,\"#7201a8\"],[0.3333333333333333,\"#9c179e\"],[0.4444444444444444,\"#bd3786\"],[0.5555555555555556,\"#d8576b\"],[0.6666666666666666,\"#ed7953\"],[0.7777777777777778,\"#fb9f3a\"],[0.8888888888888888,\"#fdca26\"],[1.0,\"#f0f921\"]]}],\"heatmap\":[{\"type\":\"heatmap\",\"colorbar\":{\"outlinewidth\":0,\"ticks\":\"\"},\"colorscale\":[[0.0,\"#0d0887\"],[0.1111111111111111,\"#46039f\"],[0.2222222222222222,\"#7201a8\"],[0.3333333333333333,\"#9c179e\"],[0.4444444444444444,\"#bd3786\"],[0.5555555555555556,\"#d8576b\"],[0.6666666666666666,\"#ed7953\"],[0.7777777777777778,\"#fb9f3a\"],[0.8888888888888888,\"#fdca26\"],[1.0,\"#f0f921\"]]}],\"heatmapgl\":[{\"type\":\"heatmapgl\",\"colorbar\":{\"outlinewidth\":0,\"ticks\":\"\"},\"colorscale\":[[0.0,\"#0d0887\"],[0.1111111111111111,\"#46039f\"],[0.2222222222222222,\"#7201a8\"],[0.3333333333333333,\"#9c179e\"],[0.4444444444444444,\"#bd3786\"],[0.5555555555555556,\"#d8576b\"],[0.6666666666666666,\"#ed7953\"],[0.7777777777777778,\"#fb9f3a\"],[0.8888888888888888,\"#fdca26\"],[1.0,\"#f0f921\"]]}],\"contourcarpet\":[{\"type\":\"contourcarpet\",\"colorbar\":{\"outlinewidth\":0,\"ticks\":\"\"}}],\"contour\":[{\"type\":\"contour\",\"colorbar\":{\"outlinewidth\":0,\"ticks\":\"\"},\"colorscale\":[[0.0,\"#0d0887\"],[0.1111111111111111,\"#46039f\"],[0.2222222222222222,\"#7201a8\"],[0.3333333333333333,\"#9c179e\"],[0.4444444444444444,\"#bd3786\"],[0.5555555555555556,\"#d8576b\"],[0.6666666666666666,\"#ed7953\"],[0.7777777777777778,\"#fb9f3a\"],[0.8888888888888888,\"#fdca26\"],[1.0,\"#f0f921\"]]}],\"surface\":[{\"type\":\"surface\",\"colorbar\":{\"outlinewidth\":0,\"ticks\":\"\"},\"colorscale\":[[0.0,\"#0d0887\"],[0.1111111111111111,\"#46039f\"],[0.2222222222222222,\"#7201a8\"],[0.3333333333333333,\"#9c179e\"],[0.4444444444444444,\"#bd3786\"],[0.5555555555555556,\"#d8576b\"],[0.6666666666666666,\"#ed7953\"],[0.7777777777777778,\"#fb9f3a\"],[0.8888888888888888,\"#fdca26\"],[1.0,\"#f0f921\"]]}],\"mesh3d\":[{\"type\":\"mesh3d\",\"colorbar\":{\"outlinewidth\":0,\"ticks\":\"\"}}],\"scatter\":[{\"fillpattern\":{\"fillmode\":\"overlay\",\"size\":10,\"solidity\":0.2},\"type\":\"scatter\"}],\"parcoords\":[{\"type\":\"parcoords\",\"line\":{\"colorbar\":{\"outlinewidth\":0,\"ticks\":\"\"}}}],\"scatterpolargl\":[{\"type\":\"scatterpolargl\",\"marker\":{\"colorbar\":{\"outlinewidth\":0,\"ticks\":\"\"}}}],\"bar\":[{\"error_x\":{\"color\":\"#2a3f5f\"},\"error_y\":{\"color\":\"#2a3f5f\"},\"marker\":{\"line\":{\"color\":\"#E5ECF6\",\"width\":0.5},\"pattern\":{\"fillmode\":\"overlay\",\"size\":10,\"solidity\":0.2}},\"type\":\"bar\"}],\"scattergeo\":[{\"type\":\"scattergeo\",\"marker\":{\"colorbar\":{\"outlinewidth\":0,\"ticks\":\"\"}}}],\"scatterpolar\":[{\"type\":\"scatterpolar\",\"marker\":{\"colorbar\":{\"outlinewidth\":0,\"ticks\":\"\"}}}],\"histogram\":[{\"marker\":{\"pattern\":{\"fillmode\":\"overlay\",\"size\":10,\"solidity\":0.2}},\"type\":\"histogram\"}],\"scattergl\":[{\"type\":\"scattergl\",\"marker\":{\"colorbar\":{\"outlinewidth\":0,\"ticks\":\"\"}}}],\"scatter3d\":[{\"type\":\"scatter3d\",\"line\":{\"colorbar\":{\"outlinewidth\":0,\"ticks\":\"\"}},\"marker\":{\"colorbar\":{\"outlinewidth\":0,\"ticks\":\"\"}}}],\"scattermapbox\":[{\"type\":\"scattermapbox\",\"marker\":{\"colorbar\":{\"outlinewidth\":0,\"ticks\":\"\"}}}],\"scatterternary\":[{\"type\":\"scatterternary\",\"marker\":{\"colorbar\":{\"outlinewidth\":0,\"ticks\":\"\"}}}],\"scattercarpet\":[{\"type\":\"scattercarpet\",\"marker\":{\"colorbar\":{\"outlinewidth\":0,\"ticks\":\"\"}}}],\"carpet\":[{\"aaxis\":{\"endlinecolor\":\"#2a3f5f\",\"gridcolor\":\"white\",\"linecolor\":\"white\",\"minorgridcolor\":\"white\",\"startlinecolor\":\"#2a3f5f\"},\"baxis\":{\"endlinecolor\":\"#2a3f5f\",\"gridcolor\":\"white\",\"linecolor\":\"white\",\"minorgridcolor\":\"white\",\"startlinecolor\":\"#2a3f5f\"},\"type\":\"carpet\"}],\"table\":[{\"cells\":{\"fill\":{\"color\":\"#EBF0F8\"},\"line\":{\"color\":\"white\"}},\"header\":{\"fill\":{\"color\":\"#C8D4E3\"},\"line\":{\"color\":\"white\"}},\"type\":\"table\"}],\"barpolar\":[{\"marker\":{\"line\":{\"color\":\"#E5ECF6\",\"width\":0.5},\"pattern\":{\"fillmode\":\"overlay\",\"size\":10,\"solidity\":0.2}},\"type\":\"barpolar\"}],\"pie\":[{\"automargin\":true,\"type\":\"pie\"}]},\"layout\":{\"autotypenumbers\":\"strict\",\"colorway\":[\"#636efa\",\"#EF553B\",\"#00cc96\",\"#ab63fa\",\"#FFA15A\",\"#19d3f3\",\"#FF6692\",\"#B6E880\",\"#FF97FF\",\"#FECB52\"],\"font\":{\"color\":\"#2a3f5f\"},\"hovermode\":\"closest\",\"hoverlabel\":{\"align\":\"left\"},\"paper_bgcolor\":\"white\",\"plot_bgcolor\":\"#E5ECF6\",\"polar\":{\"bgcolor\":\"#E5ECF6\",\"angularaxis\":{\"gridcolor\":\"white\",\"linecolor\":\"white\",\"ticks\":\"\"},\"radialaxis\":{\"gridcolor\":\"white\",\"linecolor\":\"white\",\"ticks\":\"\"}},\"ternary\":{\"bgcolor\":\"#E5ECF6\",\"aaxis\":{\"gridcolor\":\"white\",\"linecolor\":\"white\",\"ticks\":\"\"},\"baxis\":{\"gridcolor\":\"white\",\"linecolor\":\"white\",\"ticks\":\"\"},\"caxis\":{\"gridcolor\":\"white\",\"linecolor\":\"white\",\"ticks\":\"\"}},\"coloraxis\":{\"colorbar\":{\"outlinewidth\":0,\"ticks\":\"\"}},\"colorscale\":{\"sequential\":[[0.0,\"#0d0887\"],[0.1111111111111111,\"#46039f\"],[0.2222222222222222,\"#7201a8\"],[0.3333333333333333,\"#9c179e\"],[0.4444444444444444,\"#bd3786\"],[0.5555555555555556,\"#d8576b\"],[0.6666666666666666,\"#ed7953\"],[0.7777777777777778,\"#fb9f3a\"],[0.8888888888888888,\"#fdca26\"],[1.0,\"#f0f921\"]],\"sequentialminus\":[[0.0,\"#0d0887\"],[0.1111111111111111,\"#46039f\"],[0.2222222222222222,\"#7201a8\"],[0.3333333333333333,\"#9c179e\"],[0.4444444444444444,\"#bd3786\"],[0.5555555555555556,\"#d8576b\"],[0.6666666666666666,\"#ed7953\"],[0.7777777777777778,\"#fb9f3a\"],[0.8888888888888888,\"#fdca26\"],[1.0,\"#f0f921\"]],\"diverging\":[[0,\"#8e0152\"],[0.1,\"#c51b7d\"],[0.2,\"#de77ae\"],[0.3,\"#f1b6da\"],[0.4,\"#fde0ef\"],[0.5,\"#f7f7f7\"],[0.6,\"#e6f5d0\"],[0.7,\"#b8e186\"],[0.8,\"#7fbc41\"],[0.9,\"#4d9221\"],[1,\"#276419\"]]},\"xaxis\":{\"gridcolor\":\"white\",\"linecolor\":\"white\",\"ticks\":\"\",\"title\":{\"standoff\":15},\"zerolinecolor\":\"white\",\"automargin\":true,\"zerolinewidth\":2},\"yaxis\":{\"gridcolor\":\"white\",\"linecolor\":\"white\",\"ticks\":\"\",\"title\":{\"standoff\":15},\"zerolinecolor\":\"white\",\"automargin\":true,\"zerolinewidth\":2},\"scene\":{\"xaxis\":{\"backgroundcolor\":\"#E5ECF6\",\"gridcolor\":\"white\",\"linecolor\":\"white\",\"showbackground\":true,\"ticks\":\"\",\"zerolinecolor\":\"white\",\"gridwidth\":2},\"yaxis\":{\"backgroundcolor\":\"#E5ECF6\",\"gridcolor\":\"white\",\"linecolor\":\"white\",\"showbackground\":true,\"ticks\":\"\",\"zerolinecolor\":\"white\",\"gridwidth\":2},\"zaxis\":{\"backgroundcolor\":\"#E5ECF6\",\"gridcolor\":\"white\",\"linecolor\":\"white\",\"showbackground\":true,\"ticks\":\"\",\"zerolinecolor\":\"white\",\"gridwidth\":2}},\"shapedefaults\":{\"line\":{\"color\":\"#2a3f5f\"}},\"annotationdefaults\":{\"arrowcolor\":\"#2a3f5f\",\"arrowhead\":0,\"arrowwidth\":1},\"geo\":{\"bgcolor\":\"white\",\"landcolor\":\"#E5ECF6\",\"subunitcolor\":\"white\",\"showland\":true,\"showlakes\":true,\"lakecolor\":\"white\"},\"title\":{\"x\":0.05},\"mapbox\":{\"style\":\"light\"}}},\"xaxis\":{\"title\":{\"text\":\"Fecha y Hora\"},\"tickangle\":-45},\"yaxis\":{\"title\":{\"text\":\"Temperatura (C\\u00ba) promedio\"}},\"title\":{\"text\":\"Comparaci\\u00f3n y evaluaci\\u00f3n de las temperaturas registrada (Reales/Predecidas)\"}},                        {\"responsive\": true}                    ).then(function(){\n",
       "                            \n",
       "var gd = document.getElementById('dd492b48-261b-45c0-9828-e48a86f6cba0');\n",
       "var x = new MutationObserver(function (mutations, observer) {{\n",
       "        var display = window.getComputedStyle(gd).display;\n",
       "        if (!display || display === 'none') {{\n",
       "            console.log([gd, 'removed!']);\n",
       "            Plotly.purge(gd);\n",
       "            observer.disconnect();\n",
       "        }}\n",
       "}});\n",
       "\n",
       "// Listen for the removal of the full notebook cells\n",
       "var notebookContainer = gd.closest('#notebook-container');\n",
       "if (notebookContainer) {{\n",
       "    x.observe(notebookContainer, {childList: true});\n",
       "}}\n",
       "\n",
       "// Listen for the clearing of the current output cell\n",
       "var outputEl = gd.closest('.output');\n",
       "if (outputEl) {{\n",
       "    x.observe(outputEl, {childList: true});\n",
       "}}\n",
       "\n",
       "                        })                };                });            </script>        </div>"
      ]
     },
     "metadata": {},
     "output_type": "display_data"
    }
   ],
   "source": [
    "# Crear un gráfico de línea interactiva con la temperatura promedio\n",
    "fig = go.Figure(\n",
    "    data=go.Scatter(\n",
    "        x=df_avg.index, \n",
    "        y=df_avg['ta'], \n",
    "        mode='lines+markers',\n",
    "        name='Temperatura registrada real'\n",
    "    )\n",
    ")\n",
    "\n",
    "# Aumentar muestrar dedicadas a la cantidad de fechas y horas\n",
    "num_muestras = 70  # Número deseado de muestras\n",
    "indices_muestra = random.sample(range(len(fechas_horas)), num_muestras)\n",
    "fechas_horas_muestra = sorted([fechas_horas[i] for i in indices_muestra])\n",
    "promedios_temperatura_muestra = [promedios_temperatura[i] for i in indices_muestra]\n",
    "\n",
    "# Obtener las fechas y horas para la muestra\n",
    "fechas_muestra, horas_muestra = zip(*fechas_horas_muestra)\n",
    "\n",
    "\n",
    "# Agregar los datos de la evolución de temperatura promedio por fecha y hora\n",
    "fig.add_trace(\n",
    "    go.Scatter(\n",
    "        x=[f'{fecha} {hora}' for fecha, hora in zip(fechas_muestra, horas_muestra)],\n",
    "        y=promedios_temperatura_muestra,\n",
    "        mode='markers+lines',\n",
    "        name='Temperatura predecida'\n",
    "    )\n",
    ")\n",
    "\n",
    "# Configurar etiquetas y título del gráfico\n",
    "fig.update_layout(\n",
    "    xaxis_title='Fecha y Hora', \n",
    "    yaxis_title='Temperatura (Cº) promedio', \n",
    "    title='Comparación y evaluación de las temperaturas registrada (Reales/Predecidas)'\n",
    ")\n",
    "\n",
    "# Rotar las etiquetas del eje x para mejorar la legibilidad\n",
    "fig.update_layout(xaxis_tickangle=-45)\n",
    "\n",
    "# Mostrar el gráfico\n",
    "fig.show()"
   ]
  },
  {
   "attachments": {},
   "cell_type": "markdown",
   "id": "b69c4024",
   "metadata": {},
   "source": [
    "#### Gráfica datos registrados, predecidos y precipitación registrada"
   ]
  },
  {
   "cell_type": "code",
   "execution_count": 65,
   "id": "6f71b396",
   "metadata": {},
   "outputs": [
    {
     "data": {
      "application/vnd.plotly.v1+json": {
       "config": {
        "plotlyServerURL": "https://plot.ly"
       },
       "data": [
        {
         "mode": "lines+markers",
         "name": "Temperatura registrada real",
         "type": "scatter",
         "x": [
          "2023-05-22T15:00:00",
          "2023-05-22T16:00:00",
          "2023-05-22T17:00:00",
          "2023-05-22T18:00:00",
          "2023-05-22T19:00:00",
          "2023-05-22T20:00:00",
          "2023-05-22T21:00:00",
          "2023-05-22T22:00:00",
          "2023-05-22T23:00:00",
          "2023-05-23T00:00:00",
          "2023-05-23T01:00:00",
          "2023-05-23T02:00:00",
          "2023-05-23T03:00:00",
          "2023-05-23T04:00:00",
          "2023-05-23T05:00:00",
          "2023-05-23T06:00:00",
          "2023-05-23T07:00:00",
          "2023-05-23T08:00:00",
          "2023-05-23T09:00:00",
          "2023-05-23T10:00:00",
          "2023-05-23T11:00:00",
          "2023-05-23T12:00:00",
          "2023-05-23T13:00:00",
          "2023-05-23T14:00:00",
          "2023-05-24T16:00:00",
          "2023-05-24T17:00:00",
          "2023-05-24T18:00:00",
          "2023-05-24T19:00:00",
          "2023-05-24T20:00:00",
          "2023-05-24T21:00:00",
          "2023-05-24T22:00:00",
          "2023-05-24T23:00:00",
          "2023-05-25T00:00:00",
          "2023-05-25T01:00:00",
          "2023-05-25T02:00:00",
          "2023-05-25T03:00:00",
          "2023-05-25T04:00:00",
          "2023-05-25T05:00:00",
          "2023-05-25T06:00:00",
          "2023-05-25T07:00:00",
          "2023-05-25T08:00:00",
          "2023-05-25T09:00:00",
          "2023-05-25T10:00:00",
          "2023-05-25T11:00:00",
          "2023-05-25T12:00:00",
          "2023-05-25T13:00:00",
          "2023-05-25T14:00:00",
          "2023-05-25T15:00:00",
          "2023-05-25T16:00:00",
          "2023-05-25T17:00:00",
          "2023-05-25T18:00:00",
          "2023-05-25T19:00:00",
          "2023-05-25T20:00:00",
          "2023-05-25T21:00:00",
          "2023-05-25T22:00:00",
          "2023-05-26T16:00:00",
          "2023-05-26T17:00:00",
          "2023-05-26T18:00:00",
          "2023-05-26T19:00:00",
          "2023-05-26T20:00:00",
          "2023-05-26T21:00:00",
          "2023-05-26T22:00:00",
          "2023-05-26T23:00:00",
          "2023-05-27T00:00:00",
          "2023-05-27T01:00:00",
          "2023-05-27T02:00:00",
          "2023-05-27T03:00:00",
          "2023-05-27T04:00:00",
          "2023-05-27T05:00:00",
          "2023-05-27T06:00:00",
          "2023-05-27T07:00:00",
          "2023-05-27T08:00:00",
          "2023-05-27T09:00:00",
          "2023-05-27T10:00:00",
          "2023-05-27T11:00:00",
          "2023-05-27T12:00:00",
          "2023-05-27T13:00:00",
          "2023-05-27T14:00:00",
          "2023-05-27T15:00:00",
          "2023-05-27T16:00:00",
          "2023-05-27T17:00:00",
          "2023-05-27T18:00:00",
          "2023-05-27T19:00:00",
          "2023-05-27T20:00:00",
          "2023-05-27T21:00:00",
          "2023-05-27T22:00:00",
          "2023-05-27T23:00:00",
          "2023-05-28T00:00:00",
          "2023-05-28T01:00:00",
          "2023-05-28T02:00:00",
          "2023-05-28T03:00:00",
          "2023-05-28T04:00:00",
          "2023-05-28T05:00:00",
          "2023-05-28T06:00:00",
          "2023-05-28T07:00:00",
          "2023-05-28T08:00:00",
          "2023-05-28T09:00:00",
          "2023-05-28T10:00:00",
          "2023-05-28T11:00:00",
          "2023-05-28T12:00:00",
          "2023-05-28T13:00:00",
          "2023-05-28T14:00:00",
          "2023-05-28T17:00:00",
          "2023-05-28T18:00:00",
          "2023-05-28T19:00:00",
          "2023-05-28T20:00:00",
          "2023-05-28T21:00:00",
          "2023-05-28T22:00:00",
          "2023-05-28T23:00:00",
          "2023-05-29T00:00:00",
          "2023-05-29T01:00:00",
          "2023-05-29T02:00:00",
          "2023-05-29T03:00:00",
          "2023-05-29T04:00:00",
          "2023-05-29T05:00:00",
          "2023-05-29T06:00:00",
          "2023-05-29T07:00:00",
          "2023-05-29T08:00:00",
          "2023-05-29T09:00:00",
          "2023-05-29T10:00:00",
          "2023-05-29T11:00:00",
          "2023-05-29T12:00:00",
          "2023-05-29T13:00:00",
          "2023-05-29T14:00:00",
          "2023-05-29T15:00:00",
          "2023-05-29T16:00:00",
          "2023-05-29T17:00:00",
          "2023-05-29T18:00:00",
          "2023-05-29T19:00:00",
          "2023-05-29T20:00:00",
          "2023-05-29T21:00:00",
          "2023-05-29T22:00:00",
          "2023-05-29T23:00:00",
          "2023-05-30T00:00:00",
          "2023-05-30T01:00:00",
          "2023-05-30T02:00:00",
          "2023-05-30T03:00:00",
          "2023-05-30T04:00:00",
          "2023-05-30T05:00:00",
          "2023-05-30T06:00:00",
          "2023-05-30T07:00:00",
          "2023-05-30T08:00:00",
          "2023-05-30T09:00:00",
          "2023-05-30T10:00:00",
          "2023-05-30T11:00:00",
          "2023-05-30T12:00:00",
          "2023-05-30T13:00:00"
         ],
         "xaxis": "x",
         "y": [
          22.3,
          21.8,
          20.4,
          20.1,
          19.4,
          18.6,
          15.5,
          14.7,
          14.7,
          14.9,
          15.8,
          15.5,
          15.1,
          14.9,
          14,
          14.4,
          15.2,
          16.1,
          18,
          19.9,
          22.3,
          22.4,
          24,
          24.4,
          21.5,
          19.1,
          19.3,
          19.4,
          18.7,
          18.4,
          17.6,
          16.7,
          16.1,
          15.5,
          14.8,
          14.9,
          14.8,
          14.5,
          14.4,
          15.2,
          17.3,
          18.9,
          20.3,
          21.3,
          22.9,
          25.1,
          18.2,
          21.5,
          20.2,
          20.1,
          20.3,
          19.2,
          17.1,
          15.800000000000002,
          15.1,
          17.2,
          16.9,
          16.1,
          16.1,
          16.2,
          15.5,
          15.300000000000002,
          15,
          14.800000000000002,
          14.6,
          14.199999999999998,
          14,
          13.6,
          13.5,
          13.6,
          14.9,
          16.1,
          17.1,
          19.1,
          19.7,
          19.9,
          21.399999999999995,
          21,
          18.3,
          18.6,
          18.8,
          18.9,
          18.5,
          17,
          16.8,
          13.6,
          13.4,
          13.4,
          13.5,
          13.300000000000002,
          13.300000000000002,
          13.4,
          13.4,
          13.5,
          13.4,
          13.6,
          14.199999999999998,
          15.199999999999998,
          15.800000000000002,
          16.4,
          16.8,
          17.2,
          17.4,
          14.8,
          14.2,
          13.6,
          13.3,
          13.1,
          12.7,
          12.6,
          12.9,
          13,
          12.9,
          13,
          12.8,
          12.9,
          13.6,
          15.7,
          16.6,
          18.7,
          20,
          21.9,
          20.9,
          22.8,
          22.7,
          22.2,
          15.9,
          14.7,
          13.6,
          13.6,
          13.6,
          13.6,
          13.4,
          13.1,
          12.9,
          12.8,
          12.8,
          12.5,
          12.6,
          13,
          13.6,
          16,
          17.9,
          19.9,
          22,
          20,
          22.7
         ],
         "yaxis": "y"
        },
        {
         "mode": "markers+lines",
         "name": "Temperatura predecida",
         "type": "scatter",
         "x": [
          "2023-05-26 05:00",
          "2023-05-26 10:00",
          "2023-05-26 11:00",
          "2023-05-26 12:00",
          "2023-05-26 16:00",
          "2023-05-26 18:00",
          "2023-05-26 19:00",
          "2023-05-26 22:00",
          "2023-05-26 23:00",
          "2023-05-27 00:00",
          "2023-05-27 01:00",
          "2023-05-27 04:00",
          "2023-05-27 07:00",
          "2023-05-27 13:00",
          "2023-05-27 14:00",
          "2023-05-27 15:00",
          "2023-05-27 16:00",
          "2023-05-27 17:00",
          "2023-05-27 18:00",
          "2023-05-27 21:00",
          "2023-05-28 00:00",
          "2023-05-28 03:00",
          "2023-05-28 07:00",
          "2023-05-28 09:00",
          "2023-05-28 13:00",
          "2023-05-28 15:00",
          "2023-05-28 17:00",
          "2023-05-28 18:00",
          "2023-05-28 19:00",
          "2023-05-28 20:00",
          "2023-05-28 21:00",
          "2023-05-29 00:00",
          "2023-05-29 04:00",
          "2023-05-29 05:00",
          "2023-05-29 06:00",
          "2023-05-29 07:00",
          "2023-05-29 08:00",
          "2023-05-29 09:00",
          "2023-05-29 10:00",
          "2023-05-29 13:00",
          "2023-05-29 14:00",
          "2023-05-29 16:00",
          "2023-05-29 17:00",
          "2023-05-29 18:00",
          "2023-05-29 21:00",
          "2023-05-29 22:00",
          "2023-05-30 01:00",
          "2023-05-30 03:00",
          "2023-05-30 04:00",
          "2023-05-30 10:00",
          "2023-05-30 12:00",
          "2023-05-30 13:00",
          "2023-05-30 14:00",
          "2023-05-30 15:00",
          "2023-05-30 17:00",
          "2023-05-30 18:00",
          "2023-05-31 03:00",
          "2023-05-31 04:00",
          "2023-05-31 05:00",
          "2023-05-31 07:00",
          "2023-05-31 13:00",
          "2023-05-31 14:00",
          "2023-05-31 19:00",
          "2023-05-31 20:00",
          "2023-05-31 21:00",
          "2023-06-01 00:00",
          "2023-06-01 01:00",
          "2023-06-01 03:00",
          "2023-06-01 04:00",
          "2023-06-01 05:00"
         ],
         "xaxis": "x",
         "y": [
          17.38888888888889,
          15,
          14,
          21,
          15.461538461538462,
          18.727272727272727,
          14,
          15,
          13.461538461538462,
          18.805555555555557,
          15,
          20,
          18,
          19,
          19.384615384615383,
          16,
          15,
          15.805555555555555,
          16,
          19.53846153846154,
          17,
          13,
          17.923076923076923,
          13,
          16,
          13,
          19,
          19,
          14,
          15,
          12,
          16,
          14.272727272727273,
          12.88888888888889,
          13.272727272727273,
          15,
          18,
          18.11111111111111,
          19,
          19,
          18,
          17.61111111111111,
          14.272727272727273,
          16,
          13.461538461538462,
          15,
          19,
          18.923076923076923,
          13.461538461538462,
          20,
          14,
          14,
          20,
          13.73076923076923,
          13.272727272727273,
          15,
          21,
          18.194444444444443,
          17.11111111111111,
          17.384615384615383,
          18.46153846153846,
          19,
          15,
          20.272727272727273,
          15,
          14,
          16.923076923076923,
          15,
          18,
          18.88888888888889
         ],
         "yaxis": "y"
        },
        {
         "mode": "markers+lines",
         "name": "Precipitación de lluvia",
         "type": "scatter",
         "x": [
          "2023-05-22T15:00:00",
          "2023-05-22T16:00:00",
          "2023-05-22T17:00:00",
          "2023-05-22T18:00:00",
          "2023-05-22T19:00:00",
          "2023-05-22T20:00:00",
          "2023-05-22T21:00:00",
          "2023-05-22T22:00:00",
          "2023-05-22T23:00:00",
          "2023-05-23T00:00:00",
          "2023-05-23T01:00:00",
          "2023-05-23T02:00:00",
          "2023-05-23T03:00:00",
          "2023-05-23T04:00:00",
          "2023-05-23T05:00:00",
          "2023-05-23T06:00:00",
          "2023-05-23T07:00:00",
          "2023-05-23T08:00:00",
          "2023-05-23T09:00:00",
          "2023-05-23T10:00:00",
          "2023-05-23T11:00:00",
          "2023-05-23T12:00:00",
          "2023-05-23T13:00:00",
          "2023-05-23T14:00:00",
          "2023-05-24T16:00:00",
          "2023-05-24T17:00:00",
          "2023-05-24T18:00:00",
          "2023-05-24T19:00:00",
          "2023-05-24T20:00:00",
          "2023-05-24T21:00:00",
          "2023-05-24T22:00:00",
          "2023-05-24T23:00:00",
          "2023-05-25T00:00:00",
          "2023-05-25T01:00:00",
          "2023-05-25T02:00:00",
          "2023-05-25T03:00:00",
          "2023-05-25T04:00:00",
          "2023-05-25T05:00:00",
          "2023-05-25T06:00:00",
          "2023-05-25T07:00:00",
          "2023-05-25T08:00:00",
          "2023-05-25T09:00:00",
          "2023-05-25T10:00:00",
          "2023-05-25T11:00:00",
          "2023-05-25T12:00:00",
          "2023-05-25T13:00:00",
          "2023-05-25T14:00:00",
          "2023-05-25T15:00:00",
          "2023-05-25T16:00:00",
          "2023-05-25T17:00:00",
          "2023-05-25T18:00:00",
          "2023-05-25T19:00:00",
          "2023-05-25T20:00:00",
          "2023-05-25T21:00:00",
          "2023-05-25T22:00:00",
          "2023-05-26T16:00:00",
          "2023-05-26T17:00:00",
          "2023-05-26T18:00:00",
          "2023-05-26T19:00:00",
          "2023-05-26T20:00:00",
          "2023-05-26T21:00:00",
          "2023-05-26T22:00:00",
          "2023-05-26T23:00:00",
          "2023-05-27T00:00:00",
          "2023-05-27T01:00:00",
          "2023-05-27T02:00:00",
          "2023-05-27T03:00:00",
          "2023-05-27T04:00:00",
          "2023-05-27T05:00:00",
          "2023-05-27T06:00:00",
          "2023-05-27T07:00:00",
          "2023-05-27T08:00:00",
          "2023-05-27T09:00:00",
          "2023-05-27T10:00:00",
          "2023-05-27T11:00:00",
          "2023-05-27T12:00:00",
          "2023-05-27T13:00:00",
          "2023-05-27T14:00:00",
          "2023-05-27T15:00:00",
          "2023-05-27T16:00:00",
          "2023-05-27T17:00:00",
          "2023-05-27T18:00:00",
          "2023-05-27T19:00:00",
          "2023-05-27T20:00:00",
          "2023-05-27T21:00:00",
          "2023-05-27T22:00:00",
          "2023-05-27T23:00:00",
          "2023-05-28T00:00:00",
          "2023-05-28T01:00:00",
          "2023-05-28T02:00:00",
          "2023-05-28T03:00:00",
          "2023-05-28T04:00:00",
          "2023-05-28T05:00:00",
          "2023-05-28T06:00:00",
          "2023-05-28T07:00:00",
          "2023-05-28T08:00:00",
          "2023-05-28T09:00:00",
          "2023-05-28T10:00:00",
          "2023-05-28T11:00:00",
          "2023-05-28T12:00:00",
          "2023-05-28T13:00:00",
          "2023-05-28T14:00:00",
          "2023-05-28T17:00:00",
          "2023-05-28T18:00:00",
          "2023-05-28T19:00:00",
          "2023-05-28T20:00:00",
          "2023-05-28T21:00:00",
          "2023-05-28T22:00:00",
          "2023-05-28T23:00:00",
          "2023-05-29T00:00:00",
          "2023-05-29T01:00:00",
          "2023-05-29T02:00:00",
          "2023-05-29T03:00:00",
          "2023-05-29T04:00:00",
          "2023-05-29T05:00:00",
          "2023-05-29T06:00:00",
          "2023-05-29T07:00:00",
          "2023-05-29T08:00:00",
          "2023-05-29T09:00:00",
          "2023-05-29T10:00:00",
          "2023-05-29T11:00:00",
          "2023-05-29T12:00:00",
          "2023-05-29T13:00:00",
          "2023-05-29T14:00:00",
          "2023-05-29T15:00:00",
          "2023-05-29T16:00:00",
          "2023-05-29T17:00:00",
          "2023-05-29T18:00:00",
          "2023-05-29T19:00:00",
          "2023-05-29T20:00:00",
          "2023-05-29T21:00:00",
          "2023-05-29T22:00:00",
          "2023-05-29T23:00:00",
          "2023-05-30T00:00:00",
          "2023-05-30T01:00:00",
          "2023-05-30T02:00:00",
          "2023-05-30T03:00:00",
          "2023-05-30T04:00:00",
          "2023-05-30T05:00:00",
          "2023-05-30T06:00:00",
          "2023-05-30T07:00:00",
          "2023-05-30T08:00:00",
          "2023-05-30T09:00:00",
          "2023-05-30T10:00:00",
          "2023-05-30T11:00:00",
          "2023-05-30T12:00:00",
          "2023-05-30T13:00:00"
         ],
         "xaxis": "x2",
         "y": [
          0,
          0,
          0,
          0,
          0,
          0,
          0.6,
          0,
          0,
          0,
          0,
          0,
          0,
          0,
          0.1,
          0,
          0,
          0,
          0,
          0,
          0,
          0,
          0,
          0,
          0,
          0,
          0,
          0,
          0,
          0,
          0,
          0,
          0,
          0,
          0,
          0,
          0,
          0,
          0,
          0,
          0,
          0.1,
          0,
          0,
          0,
          0,
          0.9,
          0,
          0,
          0,
          0,
          0,
          0,
          0,
          0,
          0.6,
          2.4,
          3.2999999999999994,
          0,
          0,
          0,
          0,
          0,
          0,
          0,
          0,
          0,
          0,
          0,
          0,
          0,
          0,
          0,
          0,
          0,
          0,
          0,
          0,
          0.5,
          0,
          0,
          0,
          0,
          0,
          0,
          8.2,
          0.9,
          0,
          0,
          0.10000000000000002,
          0,
          0,
          0.10000000000000002,
          0.3,
          0.3,
          0,
          0,
          0,
          0.10000000000000002,
          0,
          0,
          0,
          0,
          7,
          0.3,
          0,
          0,
          0,
          0,
          0,
          0,
          0,
          0,
          0,
          0,
          0,
          0,
          0,
          0,
          0,
          0,
          0,
          0,
          0,
          0,
          0,
          4.7,
          1.8,
          0.7,
          0,
          0,
          0,
          0,
          0,
          0,
          0,
          0,
          0,
          0,
          0,
          0,
          0,
          0,
          0,
          0,
          0,
          0
         ],
         "yaxis": "y2"
        }
       ],
       "layout": {
        "template": {
         "data": {
          "bar": [
           {
            "error_x": {
             "color": "#2a3f5f"
            },
            "error_y": {
             "color": "#2a3f5f"
            },
            "marker": {
             "line": {
              "color": "#E5ECF6",
              "width": 0.5
             },
             "pattern": {
              "fillmode": "overlay",
              "size": 10,
              "solidity": 0.2
             }
            },
            "type": "bar"
           }
          ],
          "barpolar": [
           {
            "marker": {
             "line": {
              "color": "#E5ECF6",
              "width": 0.5
             },
             "pattern": {
              "fillmode": "overlay",
              "size": 10,
              "solidity": 0.2
             }
            },
            "type": "barpolar"
           }
          ],
          "carpet": [
           {
            "aaxis": {
             "endlinecolor": "#2a3f5f",
             "gridcolor": "white",
             "linecolor": "white",
             "minorgridcolor": "white",
             "startlinecolor": "#2a3f5f"
            },
            "baxis": {
             "endlinecolor": "#2a3f5f",
             "gridcolor": "white",
             "linecolor": "white",
             "minorgridcolor": "white",
             "startlinecolor": "#2a3f5f"
            },
            "type": "carpet"
           }
          ],
          "choropleth": [
           {
            "colorbar": {
             "outlinewidth": 0,
             "ticks": ""
            },
            "type": "choropleth"
           }
          ],
          "contour": [
           {
            "colorbar": {
             "outlinewidth": 0,
             "ticks": ""
            },
            "colorscale": [
             [
              0,
              "#0d0887"
             ],
             [
              0.1111111111111111,
              "#46039f"
             ],
             [
              0.2222222222222222,
              "#7201a8"
             ],
             [
              0.3333333333333333,
              "#9c179e"
             ],
             [
              0.4444444444444444,
              "#bd3786"
             ],
             [
              0.5555555555555556,
              "#d8576b"
             ],
             [
              0.6666666666666666,
              "#ed7953"
             ],
             [
              0.7777777777777778,
              "#fb9f3a"
             ],
             [
              0.8888888888888888,
              "#fdca26"
             ],
             [
              1,
              "#f0f921"
             ]
            ],
            "type": "contour"
           }
          ],
          "contourcarpet": [
           {
            "colorbar": {
             "outlinewidth": 0,
             "ticks": ""
            },
            "type": "contourcarpet"
           }
          ],
          "heatmap": [
           {
            "colorbar": {
             "outlinewidth": 0,
             "ticks": ""
            },
            "colorscale": [
             [
              0,
              "#0d0887"
             ],
             [
              0.1111111111111111,
              "#46039f"
             ],
             [
              0.2222222222222222,
              "#7201a8"
             ],
             [
              0.3333333333333333,
              "#9c179e"
             ],
             [
              0.4444444444444444,
              "#bd3786"
             ],
             [
              0.5555555555555556,
              "#d8576b"
             ],
             [
              0.6666666666666666,
              "#ed7953"
             ],
             [
              0.7777777777777778,
              "#fb9f3a"
             ],
             [
              0.8888888888888888,
              "#fdca26"
             ],
             [
              1,
              "#f0f921"
             ]
            ],
            "type": "heatmap"
           }
          ],
          "heatmapgl": [
           {
            "colorbar": {
             "outlinewidth": 0,
             "ticks": ""
            },
            "colorscale": [
             [
              0,
              "#0d0887"
             ],
             [
              0.1111111111111111,
              "#46039f"
             ],
             [
              0.2222222222222222,
              "#7201a8"
             ],
             [
              0.3333333333333333,
              "#9c179e"
             ],
             [
              0.4444444444444444,
              "#bd3786"
             ],
             [
              0.5555555555555556,
              "#d8576b"
             ],
             [
              0.6666666666666666,
              "#ed7953"
             ],
             [
              0.7777777777777778,
              "#fb9f3a"
             ],
             [
              0.8888888888888888,
              "#fdca26"
             ],
             [
              1,
              "#f0f921"
             ]
            ],
            "type": "heatmapgl"
           }
          ],
          "histogram": [
           {
            "marker": {
             "pattern": {
              "fillmode": "overlay",
              "size": 10,
              "solidity": 0.2
             }
            },
            "type": "histogram"
           }
          ],
          "histogram2d": [
           {
            "colorbar": {
             "outlinewidth": 0,
             "ticks": ""
            },
            "colorscale": [
             [
              0,
              "#0d0887"
             ],
             [
              0.1111111111111111,
              "#46039f"
             ],
             [
              0.2222222222222222,
              "#7201a8"
             ],
             [
              0.3333333333333333,
              "#9c179e"
             ],
             [
              0.4444444444444444,
              "#bd3786"
             ],
             [
              0.5555555555555556,
              "#d8576b"
             ],
             [
              0.6666666666666666,
              "#ed7953"
             ],
             [
              0.7777777777777778,
              "#fb9f3a"
             ],
             [
              0.8888888888888888,
              "#fdca26"
             ],
             [
              1,
              "#f0f921"
             ]
            ],
            "type": "histogram2d"
           }
          ],
          "histogram2dcontour": [
           {
            "colorbar": {
             "outlinewidth": 0,
             "ticks": ""
            },
            "colorscale": [
             [
              0,
              "#0d0887"
             ],
             [
              0.1111111111111111,
              "#46039f"
             ],
             [
              0.2222222222222222,
              "#7201a8"
             ],
             [
              0.3333333333333333,
              "#9c179e"
             ],
             [
              0.4444444444444444,
              "#bd3786"
             ],
             [
              0.5555555555555556,
              "#d8576b"
             ],
             [
              0.6666666666666666,
              "#ed7953"
             ],
             [
              0.7777777777777778,
              "#fb9f3a"
             ],
             [
              0.8888888888888888,
              "#fdca26"
             ],
             [
              1,
              "#f0f921"
             ]
            ],
            "type": "histogram2dcontour"
           }
          ],
          "mesh3d": [
           {
            "colorbar": {
             "outlinewidth": 0,
             "ticks": ""
            },
            "type": "mesh3d"
           }
          ],
          "parcoords": [
           {
            "line": {
             "colorbar": {
              "outlinewidth": 0,
              "ticks": ""
             }
            },
            "type": "parcoords"
           }
          ],
          "pie": [
           {
            "automargin": true,
            "type": "pie"
           }
          ],
          "scatter": [
           {
            "fillpattern": {
             "fillmode": "overlay",
             "size": 10,
             "solidity": 0.2
            },
            "type": "scatter"
           }
          ],
          "scatter3d": [
           {
            "line": {
             "colorbar": {
              "outlinewidth": 0,
              "ticks": ""
             }
            },
            "marker": {
             "colorbar": {
              "outlinewidth": 0,
              "ticks": ""
             }
            },
            "type": "scatter3d"
           }
          ],
          "scattercarpet": [
           {
            "marker": {
             "colorbar": {
              "outlinewidth": 0,
              "ticks": ""
             }
            },
            "type": "scattercarpet"
           }
          ],
          "scattergeo": [
           {
            "marker": {
             "colorbar": {
              "outlinewidth": 0,
              "ticks": ""
             }
            },
            "type": "scattergeo"
           }
          ],
          "scattergl": [
           {
            "marker": {
             "colorbar": {
              "outlinewidth": 0,
              "ticks": ""
             }
            },
            "type": "scattergl"
           }
          ],
          "scattermapbox": [
           {
            "marker": {
             "colorbar": {
              "outlinewidth": 0,
              "ticks": ""
             }
            },
            "type": "scattermapbox"
           }
          ],
          "scatterpolar": [
           {
            "marker": {
             "colorbar": {
              "outlinewidth": 0,
              "ticks": ""
             }
            },
            "type": "scatterpolar"
           }
          ],
          "scatterpolargl": [
           {
            "marker": {
             "colorbar": {
              "outlinewidth": 0,
              "ticks": ""
             }
            },
            "type": "scatterpolargl"
           }
          ],
          "scatterternary": [
           {
            "marker": {
             "colorbar": {
              "outlinewidth": 0,
              "ticks": ""
             }
            },
            "type": "scatterternary"
           }
          ],
          "surface": [
           {
            "colorbar": {
             "outlinewidth": 0,
             "ticks": ""
            },
            "colorscale": [
             [
              0,
              "#0d0887"
             ],
             [
              0.1111111111111111,
              "#46039f"
             ],
             [
              0.2222222222222222,
              "#7201a8"
             ],
             [
              0.3333333333333333,
              "#9c179e"
             ],
             [
              0.4444444444444444,
              "#bd3786"
             ],
             [
              0.5555555555555556,
              "#d8576b"
             ],
             [
              0.6666666666666666,
              "#ed7953"
             ],
             [
              0.7777777777777778,
              "#fb9f3a"
             ],
             [
              0.8888888888888888,
              "#fdca26"
             ],
             [
              1,
              "#f0f921"
             ]
            ],
            "type": "surface"
           }
          ],
          "table": [
           {
            "cells": {
             "fill": {
              "color": "#EBF0F8"
             },
             "line": {
              "color": "white"
             }
            },
            "header": {
             "fill": {
              "color": "#C8D4E3"
             },
             "line": {
              "color": "white"
             }
            },
            "type": "table"
           }
          ]
         },
         "layout": {
          "annotationdefaults": {
           "arrowcolor": "#2a3f5f",
           "arrowhead": 0,
           "arrowwidth": 1
          },
          "autotypenumbers": "strict",
          "coloraxis": {
           "colorbar": {
            "outlinewidth": 0,
            "ticks": ""
           }
          },
          "colorscale": {
           "diverging": [
            [
             0,
             "#8e0152"
            ],
            [
             0.1,
             "#c51b7d"
            ],
            [
             0.2,
             "#de77ae"
            ],
            [
             0.3,
             "#f1b6da"
            ],
            [
             0.4,
             "#fde0ef"
            ],
            [
             0.5,
             "#f7f7f7"
            ],
            [
             0.6,
             "#e6f5d0"
            ],
            [
             0.7,
             "#b8e186"
            ],
            [
             0.8,
             "#7fbc41"
            ],
            [
             0.9,
             "#4d9221"
            ],
            [
             1,
             "#276419"
            ]
           ],
           "sequential": [
            [
             0,
             "#0d0887"
            ],
            [
             0.1111111111111111,
             "#46039f"
            ],
            [
             0.2222222222222222,
             "#7201a8"
            ],
            [
             0.3333333333333333,
             "#9c179e"
            ],
            [
             0.4444444444444444,
             "#bd3786"
            ],
            [
             0.5555555555555556,
             "#d8576b"
            ],
            [
             0.6666666666666666,
             "#ed7953"
            ],
            [
             0.7777777777777778,
             "#fb9f3a"
            ],
            [
             0.8888888888888888,
             "#fdca26"
            ],
            [
             1,
             "#f0f921"
            ]
           ],
           "sequentialminus": [
            [
             0,
             "#0d0887"
            ],
            [
             0.1111111111111111,
             "#46039f"
            ],
            [
             0.2222222222222222,
             "#7201a8"
            ],
            [
             0.3333333333333333,
             "#9c179e"
            ],
            [
             0.4444444444444444,
             "#bd3786"
            ],
            [
             0.5555555555555556,
             "#d8576b"
            ],
            [
             0.6666666666666666,
             "#ed7953"
            ],
            [
             0.7777777777777778,
             "#fb9f3a"
            ],
            [
             0.8888888888888888,
             "#fdca26"
            ],
            [
             1,
             "#f0f921"
            ]
           ]
          },
          "colorway": [
           "#636efa",
           "#EF553B",
           "#00cc96",
           "#ab63fa",
           "#FFA15A",
           "#19d3f3",
           "#FF6692",
           "#B6E880",
           "#FF97FF",
           "#FECB52"
          ],
          "font": {
           "color": "#2a3f5f"
          },
          "geo": {
           "bgcolor": "white",
           "lakecolor": "white",
           "landcolor": "#E5ECF6",
           "showlakes": true,
           "showland": true,
           "subunitcolor": "white"
          },
          "hoverlabel": {
           "align": "left"
          },
          "hovermode": "closest",
          "mapbox": {
           "style": "light"
          },
          "paper_bgcolor": "white",
          "plot_bgcolor": "#E5ECF6",
          "polar": {
           "angularaxis": {
            "gridcolor": "white",
            "linecolor": "white",
            "ticks": ""
           },
           "bgcolor": "#E5ECF6",
           "radialaxis": {
            "gridcolor": "white",
            "linecolor": "white",
            "ticks": ""
           }
          },
          "scene": {
           "xaxis": {
            "backgroundcolor": "#E5ECF6",
            "gridcolor": "white",
            "gridwidth": 2,
            "linecolor": "white",
            "showbackground": true,
            "ticks": "",
            "zerolinecolor": "white"
           },
           "yaxis": {
            "backgroundcolor": "#E5ECF6",
            "gridcolor": "white",
            "gridwidth": 2,
            "linecolor": "white",
            "showbackground": true,
            "ticks": "",
            "zerolinecolor": "white"
           },
           "zaxis": {
            "backgroundcolor": "#E5ECF6",
            "gridcolor": "white",
            "gridwidth": 2,
            "linecolor": "white",
            "showbackground": true,
            "ticks": "",
            "zerolinecolor": "white"
           }
          },
          "shapedefaults": {
           "line": {
            "color": "#2a3f5f"
           }
          },
          "ternary": {
           "aaxis": {
            "gridcolor": "white",
            "linecolor": "white",
            "ticks": ""
           },
           "baxis": {
            "gridcolor": "white",
            "linecolor": "white",
            "ticks": ""
           },
           "bgcolor": "#E5ECF6",
           "caxis": {
            "gridcolor": "white",
            "linecolor": "white",
            "ticks": ""
           }
          },
          "title": {
           "x": 0.05
          },
          "xaxis": {
           "automargin": true,
           "gridcolor": "white",
           "linecolor": "white",
           "ticks": "",
           "title": {
            "standoff": 15
           },
           "zerolinecolor": "white",
           "zerolinewidth": 2
          },
          "yaxis": {
           "automargin": true,
           "gridcolor": "white",
           "linecolor": "white",
           "ticks": "",
           "title": {
            "standoff": 15
           },
           "zerolinecolor": "white",
           "zerolinewidth": 2
          }
         }
        },
        "title": {
         "text": "Evolución de Temperatura Predecida promedia/real y Precipitación de Lluvia(real)"
        },
        "xaxis": {
         "anchor": "y",
         "domain": [
          0,
          1
         ],
         "matches": "x2",
         "showticklabels": false,
         "tickangle": -45,
         "title": {
          "text": "Fecha y Hora"
         }
        },
        "xaxis2": {
         "anchor": "y2",
         "domain": [
          0,
          1
         ]
        },
        "yaxis": {
         "anchor": "x",
         "domain": [
          0.525,
          1
         ],
         "title": {
          "text": "Temperatura (Cº)"
         }
        },
        "yaxis2": {
         "anchor": "x2",
         "domain": [
          0,
          0.475
         ],
         "title": {
          "text": "Precipitación"
         }
        }
       }
      },
      "text/html": [
       "<div>                            <div id=\"89c3dc71-ff99-4faf-ad15-2184db22ec50\" class=\"plotly-graph-div\" style=\"height:525px; width:100%;\"></div>            <script type=\"text/javascript\">                require([\"plotly\"], function(Plotly) {                    window.PLOTLYENV=window.PLOTLYENV || {};                                    if (document.getElementById(\"89c3dc71-ff99-4faf-ad15-2184db22ec50\")) {                    Plotly.newPlot(                        \"89c3dc71-ff99-4faf-ad15-2184db22ec50\",                        [{\"mode\":\"lines+markers\",\"name\":\"Temperatura registrada real\",\"x\":[\"2023-05-22T15:00:00\",\"2023-05-22T16:00:00\",\"2023-05-22T17:00:00\",\"2023-05-22T18:00:00\",\"2023-05-22T19:00:00\",\"2023-05-22T20:00:00\",\"2023-05-22T21:00:00\",\"2023-05-22T22:00:00\",\"2023-05-22T23:00:00\",\"2023-05-23T00:00:00\",\"2023-05-23T01:00:00\",\"2023-05-23T02:00:00\",\"2023-05-23T03:00:00\",\"2023-05-23T04:00:00\",\"2023-05-23T05:00:00\",\"2023-05-23T06:00:00\",\"2023-05-23T07:00:00\",\"2023-05-23T08:00:00\",\"2023-05-23T09:00:00\",\"2023-05-23T10:00:00\",\"2023-05-23T11:00:00\",\"2023-05-23T12:00:00\",\"2023-05-23T13:00:00\",\"2023-05-23T14:00:00\",\"2023-05-24T16:00:00\",\"2023-05-24T17:00:00\",\"2023-05-24T18:00:00\",\"2023-05-24T19:00:00\",\"2023-05-24T20:00:00\",\"2023-05-24T21:00:00\",\"2023-05-24T22:00:00\",\"2023-05-24T23:00:00\",\"2023-05-25T00:00:00\",\"2023-05-25T01:00:00\",\"2023-05-25T02:00:00\",\"2023-05-25T03:00:00\",\"2023-05-25T04:00:00\",\"2023-05-25T05:00:00\",\"2023-05-25T06:00:00\",\"2023-05-25T07:00:00\",\"2023-05-25T08:00:00\",\"2023-05-25T09:00:00\",\"2023-05-25T10:00:00\",\"2023-05-25T11:00:00\",\"2023-05-25T12:00:00\",\"2023-05-25T13:00:00\",\"2023-05-25T14:00:00\",\"2023-05-25T15:00:00\",\"2023-05-25T16:00:00\",\"2023-05-25T17:00:00\",\"2023-05-25T18:00:00\",\"2023-05-25T19:00:00\",\"2023-05-25T20:00:00\",\"2023-05-25T21:00:00\",\"2023-05-25T22:00:00\",\"2023-05-26T16:00:00\",\"2023-05-26T17:00:00\",\"2023-05-26T18:00:00\",\"2023-05-26T19:00:00\",\"2023-05-26T20:00:00\",\"2023-05-26T21:00:00\",\"2023-05-26T22:00:00\",\"2023-05-26T23:00:00\",\"2023-05-27T00:00:00\",\"2023-05-27T01:00:00\",\"2023-05-27T02:00:00\",\"2023-05-27T03:00:00\",\"2023-05-27T04:00:00\",\"2023-05-27T05:00:00\",\"2023-05-27T06:00:00\",\"2023-05-27T07:00:00\",\"2023-05-27T08:00:00\",\"2023-05-27T09:00:00\",\"2023-05-27T10:00:00\",\"2023-05-27T11:00:00\",\"2023-05-27T12:00:00\",\"2023-05-27T13:00:00\",\"2023-05-27T14:00:00\",\"2023-05-27T15:00:00\",\"2023-05-27T16:00:00\",\"2023-05-27T17:00:00\",\"2023-05-27T18:00:00\",\"2023-05-27T19:00:00\",\"2023-05-27T20:00:00\",\"2023-05-27T21:00:00\",\"2023-05-27T22:00:00\",\"2023-05-27T23:00:00\",\"2023-05-28T00:00:00\",\"2023-05-28T01:00:00\",\"2023-05-28T02:00:00\",\"2023-05-28T03:00:00\",\"2023-05-28T04:00:00\",\"2023-05-28T05:00:00\",\"2023-05-28T06:00:00\",\"2023-05-28T07:00:00\",\"2023-05-28T08:00:00\",\"2023-05-28T09:00:00\",\"2023-05-28T10:00:00\",\"2023-05-28T11:00:00\",\"2023-05-28T12:00:00\",\"2023-05-28T13:00:00\",\"2023-05-28T14:00:00\",\"2023-05-28T17:00:00\",\"2023-05-28T18:00:00\",\"2023-05-28T19:00:00\",\"2023-05-28T20:00:00\",\"2023-05-28T21:00:00\",\"2023-05-28T22:00:00\",\"2023-05-28T23:00:00\",\"2023-05-29T00:00:00\",\"2023-05-29T01:00:00\",\"2023-05-29T02:00:00\",\"2023-05-29T03:00:00\",\"2023-05-29T04:00:00\",\"2023-05-29T05:00:00\",\"2023-05-29T06:00:00\",\"2023-05-29T07:00:00\",\"2023-05-29T08:00:00\",\"2023-05-29T09:00:00\",\"2023-05-29T10:00:00\",\"2023-05-29T11:00:00\",\"2023-05-29T12:00:00\",\"2023-05-29T13:00:00\",\"2023-05-29T14:00:00\",\"2023-05-29T15:00:00\",\"2023-05-29T16:00:00\",\"2023-05-29T17:00:00\",\"2023-05-29T18:00:00\",\"2023-05-29T19:00:00\",\"2023-05-29T20:00:00\",\"2023-05-29T21:00:00\",\"2023-05-29T22:00:00\",\"2023-05-29T23:00:00\",\"2023-05-30T00:00:00\",\"2023-05-30T01:00:00\",\"2023-05-30T02:00:00\",\"2023-05-30T03:00:00\",\"2023-05-30T04:00:00\",\"2023-05-30T05:00:00\",\"2023-05-30T06:00:00\",\"2023-05-30T07:00:00\",\"2023-05-30T08:00:00\",\"2023-05-30T09:00:00\",\"2023-05-30T10:00:00\",\"2023-05-30T11:00:00\",\"2023-05-30T12:00:00\",\"2023-05-30T13:00:00\"],\"y\":[22.3,21.8,20.4,20.1,19.4,18.6,15.5,14.7,14.7,14.9,15.8,15.5,15.1,14.9,14.0,14.4,15.2,16.1,18.0,19.9,22.3,22.4,24.0,24.4,21.5,19.1,19.3,19.4,18.7,18.4,17.6,16.7,16.1,15.5,14.8,14.9,14.8,14.5,14.4,15.2,17.3,18.9,20.3,21.3,22.9,25.1,18.2,21.5,20.2,20.1,20.3,19.2,17.1,15.800000000000002,15.1,17.2,16.9,16.1,16.1,16.2,15.5,15.300000000000002,15.0,14.800000000000002,14.6,14.199999999999998,14.0,13.6,13.5,13.6,14.9,16.1,17.1,19.1,19.7,19.9,21.399999999999995,21.0,18.3,18.6,18.8,18.9,18.5,17.0,16.8,13.6,13.4,13.4,13.5,13.300000000000002,13.300000000000002,13.4,13.4,13.5,13.4,13.6,14.199999999999998,15.199999999999998,15.800000000000002,16.4,16.8,17.2,17.4,14.8,14.2,13.6,13.3,13.1,12.7,12.6,12.9,13.0,12.9,13.0,12.8,12.9,13.6,15.7,16.6,18.7,20.0,21.9,20.9,22.8,22.7,22.2,15.9,14.7,13.6,13.6,13.6,13.6,13.4,13.1,12.9,12.8,12.8,12.5,12.6,13.0,13.6,16.0,17.9,19.9,22.0,20.0,22.7],\"type\":\"scatter\",\"xaxis\":\"x\",\"yaxis\":\"y\"},{\"mode\":\"markers+lines\",\"name\":\"Temperatura predecida\",\"x\":[\"2023-05-26 05:00\",\"2023-05-26 10:00\",\"2023-05-26 11:00\",\"2023-05-26 12:00\",\"2023-05-26 16:00\",\"2023-05-26 18:00\",\"2023-05-26 19:00\",\"2023-05-26 22:00\",\"2023-05-26 23:00\",\"2023-05-27 00:00\",\"2023-05-27 01:00\",\"2023-05-27 04:00\",\"2023-05-27 07:00\",\"2023-05-27 13:00\",\"2023-05-27 14:00\",\"2023-05-27 15:00\",\"2023-05-27 16:00\",\"2023-05-27 17:00\",\"2023-05-27 18:00\",\"2023-05-27 21:00\",\"2023-05-28 00:00\",\"2023-05-28 03:00\",\"2023-05-28 07:00\",\"2023-05-28 09:00\",\"2023-05-28 13:00\",\"2023-05-28 15:00\",\"2023-05-28 17:00\",\"2023-05-28 18:00\",\"2023-05-28 19:00\",\"2023-05-28 20:00\",\"2023-05-28 21:00\",\"2023-05-29 00:00\",\"2023-05-29 04:00\",\"2023-05-29 05:00\",\"2023-05-29 06:00\",\"2023-05-29 07:00\",\"2023-05-29 08:00\",\"2023-05-29 09:00\",\"2023-05-29 10:00\",\"2023-05-29 13:00\",\"2023-05-29 14:00\",\"2023-05-29 16:00\",\"2023-05-29 17:00\",\"2023-05-29 18:00\",\"2023-05-29 21:00\",\"2023-05-29 22:00\",\"2023-05-30 01:00\",\"2023-05-30 03:00\",\"2023-05-30 04:00\",\"2023-05-30 10:00\",\"2023-05-30 12:00\",\"2023-05-30 13:00\",\"2023-05-30 14:00\",\"2023-05-30 15:00\",\"2023-05-30 17:00\",\"2023-05-30 18:00\",\"2023-05-31 03:00\",\"2023-05-31 04:00\",\"2023-05-31 05:00\",\"2023-05-31 07:00\",\"2023-05-31 13:00\",\"2023-05-31 14:00\",\"2023-05-31 19:00\",\"2023-05-31 20:00\",\"2023-05-31 21:00\",\"2023-06-01 00:00\",\"2023-06-01 01:00\",\"2023-06-01 03:00\",\"2023-06-01 04:00\",\"2023-06-01 05:00\"],\"y\":[17.38888888888889,15.0,14.0,21.0,15.461538461538462,18.727272727272727,14.0,15.0,13.461538461538462,18.805555555555557,15.0,20.0,18.0,19.0,19.384615384615383,16.0,15.0,15.805555555555555,16.0,19.53846153846154,17.0,13.0,17.923076923076923,13.0,16.0,13.0,19.0,19.0,14.0,15.0,12.0,16.0,14.272727272727273,12.88888888888889,13.272727272727273,15.0,18.0,18.11111111111111,19.0,19.0,18.0,17.61111111111111,14.272727272727273,16.0,13.461538461538462,15.0,19.0,18.923076923076923,13.461538461538462,20.0,14.0,14.0,20.0,13.73076923076923,13.272727272727273,15.0,21.0,18.194444444444443,17.11111111111111,17.384615384615383,18.46153846153846,19.0,15.0,20.272727272727273,15.0,14.0,16.923076923076923,15.0,18.0,18.88888888888889],\"type\":\"scatter\",\"xaxis\":\"x\",\"yaxis\":\"y\"},{\"mode\":\"markers+lines\",\"name\":\"Precipitaci\\u00f3n de lluvia\",\"x\":[\"2023-05-22T15:00:00\",\"2023-05-22T16:00:00\",\"2023-05-22T17:00:00\",\"2023-05-22T18:00:00\",\"2023-05-22T19:00:00\",\"2023-05-22T20:00:00\",\"2023-05-22T21:00:00\",\"2023-05-22T22:00:00\",\"2023-05-22T23:00:00\",\"2023-05-23T00:00:00\",\"2023-05-23T01:00:00\",\"2023-05-23T02:00:00\",\"2023-05-23T03:00:00\",\"2023-05-23T04:00:00\",\"2023-05-23T05:00:00\",\"2023-05-23T06:00:00\",\"2023-05-23T07:00:00\",\"2023-05-23T08:00:00\",\"2023-05-23T09:00:00\",\"2023-05-23T10:00:00\",\"2023-05-23T11:00:00\",\"2023-05-23T12:00:00\",\"2023-05-23T13:00:00\",\"2023-05-23T14:00:00\",\"2023-05-24T16:00:00\",\"2023-05-24T17:00:00\",\"2023-05-24T18:00:00\",\"2023-05-24T19:00:00\",\"2023-05-24T20:00:00\",\"2023-05-24T21:00:00\",\"2023-05-24T22:00:00\",\"2023-05-24T23:00:00\",\"2023-05-25T00:00:00\",\"2023-05-25T01:00:00\",\"2023-05-25T02:00:00\",\"2023-05-25T03:00:00\",\"2023-05-25T04:00:00\",\"2023-05-25T05:00:00\",\"2023-05-25T06:00:00\",\"2023-05-25T07:00:00\",\"2023-05-25T08:00:00\",\"2023-05-25T09:00:00\",\"2023-05-25T10:00:00\",\"2023-05-25T11:00:00\",\"2023-05-25T12:00:00\",\"2023-05-25T13:00:00\",\"2023-05-25T14:00:00\",\"2023-05-25T15:00:00\",\"2023-05-25T16:00:00\",\"2023-05-25T17:00:00\",\"2023-05-25T18:00:00\",\"2023-05-25T19:00:00\",\"2023-05-25T20:00:00\",\"2023-05-25T21:00:00\",\"2023-05-25T22:00:00\",\"2023-05-26T16:00:00\",\"2023-05-26T17:00:00\",\"2023-05-26T18:00:00\",\"2023-05-26T19:00:00\",\"2023-05-26T20:00:00\",\"2023-05-26T21:00:00\",\"2023-05-26T22:00:00\",\"2023-05-26T23:00:00\",\"2023-05-27T00:00:00\",\"2023-05-27T01:00:00\",\"2023-05-27T02:00:00\",\"2023-05-27T03:00:00\",\"2023-05-27T04:00:00\",\"2023-05-27T05:00:00\",\"2023-05-27T06:00:00\",\"2023-05-27T07:00:00\",\"2023-05-27T08:00:00\",\"2023-05-27T09:00:00\",\"2023-05-27T10:00:00\",\"2023-05-27T11:00:00\",\"2023-05-27T12:00:00\",\"2023-05-27T13:00:00\",\"2023-05-27T14:00:00\",\"2023-05-27T15:00:00\",\"2023-05-27T16:00:00\",\"2023-05-27T17:00:00\",\"2023-05-27T18:00:00\",\"2023-05-27T19:00:00\",\"2023-05-27T20:00:00\",\"2023-05-27T21:00:00\",\"2023-05-27T22:00:00\",\"2023-05-27T23:00:00\",\"2023-05-28T00:00:00\",\"2023-05-28T01:00:00\",\"2023-05-28T02:00:00\",\"2023-05-28T03:00:00\",\"2023-05-28T04:00:00\",\"2023-05-28T05:00:00\",\"2023-05-28T06:00:00\",\"2023-05-28T07:00:00\",\"2023-05-28T08:00:00\",\"2023-05-28T09:00:00\",\"2023-05-28T10:00:00\",\"2023-05-28T11:00:00\",\"2023-05-28T12:00:00\",\"2023-05-28T13:00:00\",\"2023-05-28T14:00:00\",\"2023-05-28T17:00:00\",\"2023-05-28T18:00:00\",\"2023-05-28T19:00:00\",\"2023-05-28T20:00:00\",\"2023-05-28T21:00:00\",\"2023-05-28T22:00:00\",\"2023-05-28T23:00:00\",\"2023-05-29T00:00:00\",\"2023-05-29T01:00:00\",\"2023-05-29T02:00:00\",\"2023-05-29T03:00:00\",\"2023-05-29T04:00:00\",\"2023-05-29T05:00:00\",\"2023-05-29T06:00:00\",\"2023-05-29T07:00:00\",\"2023-05-29T08:00:00\",\"2023-05-29T09:00:00\",\"2023-05-29T10:00:00\",\"2023-05-29T11:00:00\",\"2023-05-29T12:00:00\",\"2023-05-29T13:00:00\",\"2023-05-29T14:00:00\",\"2023-05-29T15:00:00\",\"2023-05-29T16:00:00\",\"2023-05-29T17:00:00\",\"2023-05-29T18:00:00\",\"2023-05-29T19:00:00\",\"2023-05-29T20:00:00\",\"2023-05-29T21:00:00\",\"2023-05-29T22:00:00\",\"2023-05-29T23:00:00\",\"2023-05-30T00:00:00\",\"2023-05-30T01:00:00\",\"2023-05-30T02:00:00\",\"2023-05-30T03:00:00\",\"2023-05-30T04:00:00\",\"2023-05-30T05:00:00\",\"2023-05-30T06:00:00\",\"2023-05-30T07:00:00\",\"2023-05-30T08:00:00\",\"2023-05-30T09:00:00\",\"2023-05-30T10:00:00\",\"2023-05-30T11:00:00\",\"2023-05-30T12:00:00\",\"2023-05-30T13:00:00\"],\"y\":[0.0,0.0,0.0,0.0,0.0,0.0,0.6,0.0,0.0,0.0,0.0,0.0,0.0,0.0,0.1,0.0,0.0,0.0,0.0,0.0,0.0,0.0,0.0,0.0,0.0,0.0,0.0,0.0,0.0,0.0,0.0,0.0,0.0,0.0,0.0,0.0,0.0,0.0,0.0,0.0,0.0,0.1,0.0,0.0,0.0,0.0,0.9,0.0,0.0,0.0,0.0,0.0,0.0,0.0,0.0,0.6,2.4,3.2999999999999994,0.0,0.0,0.0,0.0,0.0,0.0,0.0,0.0,0.0,0.0,0.0,0.0,0.0,0.0,0.0,0.0,0.0,0.0,0.0,0.0,0.5,0.0,0.0,0.0,0.0,0.0,0.0,8.2,0.9,0.0,0.0,0.10000000000000002,0.0,0.0,0.10000000000000002,0.3,0.3,0.0,0.0,0.0,0.10000000000000002,0.0,0.0,0.0,0.0,7.0,0.3,0.0,0.0,0.0,0.0,0.0,0.0,0.0,0.0,0.0,0.0,0.0,0.0,0.0,0.0,0.0,0.0,0.0,0.0,0.0,0.0,0.0,4.7,1.8,0.7,0.0,0.0,0.0,0.0,0.0,0.0,0.0,0.0,0.0,0.0,0.0,0.0,0.0,0.0,0.0,0.0,0.0,0.0],\"type\":\"scatter\",\"xaxis\":\"x2\",\"yaxis\":\"y2\"}],                        {\"template\":{\"data\":{\"histogram2dcontour\":[{\"type\":\"histogram2dcontour\",\"colorbar\":{\"outlinewidth\":0,\"ticks\":\"\"},\"colorscale\":[[0.0,\"#0d0887\"],[0.1111111111111111,\"#46039f\"],[0.2222222222222222,\"#7201a8\"],[0.3333333333333333,\"#9c179e\"],[0.4444444444444444,\"#bd3786\"],[0.5555555555555556,\"#d8576b\"],[0.6666666666666666,\"#ed7953\"],[0.7777777777777778,\"#fb9f3a\"],[0.8888888888888888,\"#fdca26\"],[1.0,\"#f0f921\"]]}],\"choropleth\":[{\"type\":\"choropleth\",\"colorbar\":{\"outlinewidth\":0,\"ticks\":\"\"}}],\"histogram2d\":[{\"type\":\"histogram2d\",\"colorbar\":{\"outlinewidth\":0,\"ticks\":\"\"},\"colorscale\":[[0.0,\"#0d0887\"],[0.1111111111111111,\"#46039f\"],[0.2222222222222222,\"#7201a8\"],[0.3333333333333333,\"#9c179e\"],[0.4444444444444444,\"#bd3786\"],[0.5555555555555556,\"#d8576b\"],[0.6666666666666666,\"#ed7953\"],[0.7777777777777778,\"#fb9f3a\"],[0.8888888888888888,\"#fdca26\"],[1.0,\"#f0f921\"]]}],\"heatmap\":[{\"type\":\"heatmap\",\"colorbar\":{\"outlinewidth\":0,\"ticks\":\"\"},\"colorscale\":[[0.0,\"#0d0887\"],[0.1111111111111111,\"#46039f\"],[0.2222222222222222,\"#7201a8\"],[0.3333333333333333,\"#9c179e\"],[0.4444444444444444,\"#bd3786\"],[0.5555555555555556,\"#d8576b\"],[0.6666666666666666,\"#ed7953\"],[0.7777777777777778,\"#fb9f3a\"],[0.8888888888888888,\"#fdca26\"],[1.0,\"#f0f921\"]]}],\"heatmapgl\":[{\"type\":\"heatmapgl\",\"colorbar\":{\"outlinewidth\":0,\"ticks\":\"\"},\"colorscale\":[[0.0,\"#0d0887\"],[0.1111111111111111,\"#46039f\"],[0.2222222222222222,\"#7201a8\"],[0.3333333333333333,\"#9c179e\"],[0.4444444444444444,\"#bd3786\"],[0.5555555555555556,\"#d8576b\"],[0.6666666666666666,\"#ed7953\"],[0.7777777777777778,\"#fb9f3a\"],[0.8888888888888888,\"#fdca26\"],[1.0,\"#f0f921\"]]}],\"contourcarpet\":[{\"type\":\"contourcarpet\",\"colorbar\":{\"outlinewidth\":0,\"ticks\":\"\"}}],\"contour\":[{\"type\":\"contour\",\"colorbar\":{\"outlinewidth\":0,\"ticks\":\"\"},\"colorscale\":[[0.0,\"#0d0887\"],[0.1111111111111111,\"#46039f\"],[0.2222222222222222,\"#7201a8\"],[0.3333333333333333,\"#9c179e\"],[0.4444444444444444,\"#bd3786\"],[0.5555555555555556,\"#d8576b\"],[0.6666666666666666,\"#ed7953\"],[0.7777777777777778,\"#fb9f3a\"],[0.8888888888888888,\"#fdca26\"],[1.0,\"#f0f921\"]]}],\"surface\":[{\"type\":\"surface\",\"colorbar\":{\"outlinewidth\":0,\"ticks\":\"\"},\"colorscale\":[[0.0,\"#0d0887\"],[0.1111111111111111,\"#46039f\"],[0.2222222222222222,\"#7201a8\"],[0.3333333333333333,\"#9c179e\"],[0.4444444444444444,\"#bd3786\"],[0.5555555555555556,\"#d8576b\"],[0.6666666666666666,\"#ed7953\"],[0.7777777777777778,\"#fb9f3a\"],[0.8888888888888888,\"#fdca26\"],[1.0,\"#f0f921\"]]}],\"mesh3d\":[{\"type\":\"mesh3d\",\"colorbar\":{\"outlinewidth\":0,\"ticks\":\"\"}}],\"scatter\":[{\"fillpattern\":{\"fillmode\":\"overlay\",\"size\":10,\"solidity\":0.2},\"type\":\"scatter\"}],\"parcoords\":[{\"type\":\"parcoords\",\"line\":{\"colorbar\":{\"outlinewidth\":0,\"ticks\":\"\"}}}],\"scatterpolargl\":[{\"type\":\"scatterpolargl\",\"marker\":{\"colorbar\":{\"outlinewidth\":0,\"ticks\":\"\"}}}],\"bar\":[{\"error_x\":{\"color\":\"#2a3f5f\"},\"error_y\":{\"color\":\"#2a3f5f\"},\"marker\":{\"line\":{\"color\":\"#E5ECF6\",\"width\":0.5},\"pattern\":{\"fillmode\":\"overlay\",\"size\":10,\"solidity\":0.2}},\"type\":\"bar\"}],\"scattergeo\":[{\"type\":\"scattergeo\",\"marker\":{\"colorbar\":{\"outlinewidth\":0,\"ticks\":\"\"}}}],\"scatterpolar\":[{\"type\":\"scatterpolar\",\"marker\":{\"colorbar\":{\"outlinewidth\":0,\"ticks\":\"\"}}}],\"histogram\":[{\"marker\":{\"pattern\":{\"fillmode\":\"overlay\",\"size\":10,\"solidity\":0.2}},\"type\":\"histogram\"}],\"scattergl\":[{\"type\":\"scattergl\",\"marker\":{\"colorbar\":{\"outlinewidth\":0,\"ticks\":\"\"}}}],\"scatter3d\":[{\"type\":\"scatter3d\",\"line\":{\"colorbar\":{\"outlinewidth\":0,\"ticks\":\"\"}},\"marker\":{\"colorbar\":{\"outlinewidth\":0,\"ticks\":\"\"}}}],\"scattermapbox\":[{\"type\":\"scattermapbox\",\"marker\":{\"colorbar\":{\"outlinewidth\":0,\"ticks\":\"\"}}}],\"scatterternary\":[{\"type\":\"scatterternary\",\"marker\":{\"colorbar\":{\"outlinewidth\":0,\"ticks\":\"\"}}}],\"scattercarpet\":[{\"type\":\"scattercarpet\",\"marker\":{\"colorbar\":{\"outlinewidth\":0,\"ticks\":\"\"}}}],\"carpet\":[{\"aaxis\":{\"endlinecolor\":\"#2a3f5f\",\"gridcolor\":\"white\",\"linecolor\":\"white\",\"minorgridcolor\":\"white\",\"startlinecolor\":\"#2a3f5f\"},\"baxis\":{\"endlinecolor\":\"#2a3f5f\",\"gridcolor\":\"white\",\"linecolor\":\"white\",\"minorgridcolor\":\"white\",\"startlinecolor\":\"#2a3f5f\"},\"type\":\"carpet\"}],\"table\":[{\"cells\":{\"fill\":{\"color\":\"#EBF0F8\"},\"line\":{\"color\":\"white\"}},\"header\":{\"fill\":{\"color\":\"#C8D4E3\"},\"line\":{\"color\":\"white\"}},\"type\":\"table\"}],\"barpolar\":[{\"marker\":{\"line\":{\"color\":\"#E5ECF6\",\"width\":0.5},\"pattern\":{\"fillmode\":\"overlay\",\"size\":10,\"solidity\":0.2}},\"type\":\"barpolar\"}],\"pie\":[{\"automargin\":true,\"type\":\"pie\"}]},\"layout\":{\"autotypenumbers\":\"strict\",\"colorway\":[\"#636efa\",\"#EF553B\",\"#00cc96\",\"#ab63fa\",\"#FFA15A\",\"#19d3f3\",\"#FF6692\",\"#B6E880\",\"#FF97FF\",\"#FECB52\"],\"font\":{\"color\":\"#2a3f5f\"},\"hovermode\":\"closest\",\"hoverlabel\":{\"align\":\"left\"},\"paper_bgcolor\":\"white\",\"plot_bgcolor\":\"#E5ECF6\",\"polar\":{\"bgcolor\":\"#E5ECF6\",\"angularaxis\":{\"gridcolor\":\"white\",\"linecolor\":\"white\",\"ticks\":\"\"},\"radialaxis\":{\"gridcolor\":\"white\",\"linecolor\":\"white\",\"ticks\":\"\"}},\"ternary\":{\"bgcolor\":\"#E5ECF6\",\"aaxis\":{\"gridcolor\":\"white\",\"linecolor\":\"white\",\"ticks\":\"\"},\"baxis\":{\"gridcolor\":\"white\",\"linecolor\":\"white\",\"ticks\":\"\"},\"caxis\":{\"gridcolor\":\"white\",\"linecolor\":\"white\",\"ticks\":\"\"}},\"coloraxis\":{\"colorbar\":{\"outlinewidth\":0,\"ticks\":\"\"}},\"colorscale\":{\"sequential\":[[0.0,\"#0d0887\"],[0.1111111111111111,\"#46039f\"],[0.2222222222222222,\"#7201a8\"],[0.3333333333333333,\"#9c179e\"],[0.4444444444444444,\"#bd3786\"],[0.5555555555555556,\"#d8576b\"],[0.6666666666666666,\"#ed7953\"],[0.7777777777777778,\"#fb9f3a\"],[0.8888888888888888,\"#fdca26\"],[1.0,\"#f0f921\"]],\"sequentialminus\":[[0.0,\"#0d0887\"],[0.1111111111111111,\"#46039f\"],[0.2222222222222222,\"#7201a8\"],[0.3333333333333333,\"#9c179e\"],[0.4444444444444444,\"#bd3786\"],[0.5555555555555556,\"#d8576b\"],[0.6666666666666666,\"#ed7953\"],[0.7777777777777778,\"#fb9f3a\"],[0.8888888888888888,\"#fdca26\"],[1.0,\"#f0f921\"]],\"diverging\":[[0,\"#8e0152\"],[0.1,\"#c51b7d\"],[0.2,\"#de77ae\"],[0.3,\"#f1b6da\"],[0.4,\"#fde0ef\"],[0.5,\"#f7f7f7\"],[0.6,\"#e6f5d0\"],[0.7,\"#b8e186\"],[0.8,\"#7fbc41\"],[0.9,\"#4d9221\"],[1,\"#276419\"]]},\"xaxis\":{\"gridcolor\":\"white\",\"linecolor\":\"white\",\"ticks\":\"\",\"title\":{\"standoff\":15},\"zerolinecolor\":\"white\",\"automargin\":true,\"zerolinewidth\":2},\"yaxis\":{\"gridcolor\":\"white\",\"linecolor\":\"white\",\"ticks\":\"\",\"title\":{\"standoff\":15},\"zerolinecolor\":\"white\",\"automargin\":true,\"zerolinewidth\":2},\"scene\":{\"xaxis\":{\"backgroundcolor\":\"#E5ECF6\",\"gridcolor\":\"white\",\"linecolor\":\"white\",\"showbackground\":true,\"ticks\":\"\",\"zerolinecolor\":\"white\",\"gridwidth\":2},\"yaxis\":{\"backgroundcolor\":\"#E5ECF6\",\"gridcolor\":\"white\",\"linecolor\":\"white\",\"showbackground\":true,\"ticks\":\"\",\"zerolinecolor\":\"white\",\"gridwidth\":2},\"zaxis\":{\"backgroundcolor\":\"#E5ECF6\",\"gridcolor\":\"white\",\"linecolor\":\"white\",\"showbackground\":true,\"ticks\":\"\",\"zerolinecolor\":\"white\",\"gridwidth\":2}},\"shapedefaults\":{\"line\":{\"color\":\"#2a3f5f\"}},\"annotationdefaults\":{\"arrowcolor\":\"#2a3f5f\",\"arrowhead\":0,\"arrowwidth\":1},\"geo\":{\"bgcolor\":\"white\",\"landcolor\":\"#E5ECF6\",\"subunitcolor\":\"white\",\"showland\":true,\"showlakes\":true,\"lakecolor\":\"white\"},\"title\":{\"x\":0.05},\"mapbox\":{\"style\":\"light\"}}},\"xaxis\":{\"anchor\":\"y\",\"domain\":[0.0,1.0],\"matches\":\"x2\",\"showticklabels\":false,\"title\":{\"text\":\"Fecha y Hora\"},\"tickangle\":-45},\"yaxis\":{\"anchor\":\"x\",\"domain\":[0.525,1.0],\"title\":{\"text\":\"Temperatura (C\\u00ba)\"}},\"xaxis2\":{\"anchor\":\"y2\",\"domain\":[0.0,1.0]},\"yaxis2\":{\"anchor\":\"x2\",\"domain\":[0.0,0.475],\"title\":{\"text\":\"Precipitaci\\u00f3n\"}},\"title\":{\"text\":\"Evoluci\\u00f3n de Temperatura Predecida promedia/real y Precipitaci\\u00f3n de Lluvia(real)\"}},                        {\"responsive\": true}                    ).then(function(){\n",
       "                            \n",
       "var gd = document.getElementById('89c3dc71-ff99-4faf-ad15-2184db22ec50');\n",
       "var x = new MutationObserver(function (mutations, observer) {{\n",
       "        var display = window.getComputedStyle(gd).display;\n",
       "        if (!display || display === 'none') {{\n",
       "            console.log([gd, 'removed!']);\n",
       "            Plotly.purge(gd);\n",
       "            observer.disconnect();\n",
       "        }}\n",
       "}});\n",
       "\n",
       "// Listen for the removal of the full notebook cells\n",
       "var notebookContainer = gd.closest('#notebook-container');\n",
       "if (notebookContainer) {{\n",
       "    x.observe(notebookContainer, {childList: true});\n",
       "}}\n",
       "\n",
       "// Listen for the clearing of the current output cell\n",
       "var outputEl = gd.closest('.output');\n",
       "if (outputEl) {{\n",
       "    x.observe(outputEl, {childList: true});\n",
       "}}\n",
       "\n",
       "                        })                };                });            </script>        </div>"
      ]
     },
     "metadata": {},
     "output_type": "display_data"
    }
   ],
   "source": [
    "# Crear subtramas\n",
    "fig = sp.make_subplots(rows=2, cols=1, shared_xaxes=True, vertical_spacing=0.05)\n",
    "\n",
    "# Agregar los datos de la temperatura registrada real en la primera subtrama\n",
    "fig.add_trace(\n",
    "    go.Scatter(\n",
    "        x=df_avg.index,\n",
    "        y=df_avg['ta'],\n",
    "        mode='lines+markers',\n",
    "        name='Temperatura registrada real'\n",
    "    ),\n",
    "    row=1, col=1\n",
    ")\n",
    "\n",
    "# Aumentar muestrar dedicadas a la cantidad de fechas y horas\n",
    "num_muestras = 70  # Número deseado de muestras\n",
    "indices_muestra = random.sample(range(len(fechas_horas)), num_muestras)\n",
    "fechas_horas_muestra = sorted([fechas_horas[i] for i in indices_muestra])\n",
    "promedios_temperatura_muestra = [promedios_temperatura[i] for i in indices_muestra]\n",
    "\n",
    "# Obtener las fechas y horas para la muestra\n",
    "fechas_muestra, horas_muestra = zip(*fechas_horas_muestra)\n",
    "# Agregar los datos de la evolución de temperatura promedio por fecha y hora en la primera subtrama\n",
    "fig.add_trace(\n",
    "    go.Scatter(\n",
    "        x=[f'{fecha} {hora}' for fecha, hora in zip(fechas_muestra, horas_muestra)],\n",
    "        y=promedios_temperatura_muestra,\n",
    "        mode='markers+lines',\n",
    "        name='Temperatura predecida'\n",
    "    ),\n",
    "    row=1, col=1\n",
    ")\n",
    "\n",
    "# Agregar los datos de la precipitación de lluvia en la segunda subtrama\n",
    "fig.add_trace(\n",
    "    go.Scatter(\n",
    "        x=df_avg.index,\n",
    "        y=df_avg['prec'],\n",
    "        mode='markers+lines',\n",
    "        name='Precipitación de lluvia'\n",
    "    ),\n",
    "    row=2, col=1\n",
    ")\n",
    "\n",
    "# Configurar etiquetas y título del gráfico\n",
    "fig.update_layout(\n",
    "    xaxis_title='Fecha y Hora',\n",
    "    title='Evolución de Temperatura Predecida promedia/real y Precipitación de Lluvia(real)'\n",
    ")\n",
    "\n",
    "# Configurar las etiquetas de los ejes y la leyenda en cada subtrama\n",
    "fig.update_yaxes(title_text='Temperatura (Cº)', row=1, col=1)\n",
    "fig.update_yaxes(title_text='Precipitación', row=2, col=1)\n",
    "\n",
    "# Rotar las etiquetas del eje x para mejorar la legibilidad\n",
    "fig.update_layout(xaxis_tickangle=-45)\n",
    "\n",
    "# Mostrar el gráfico\n",
    "fig.show()"
   ]
  },
  {
   "attachments": {},
   "cell_type": "markdown",
   "id": "43580f5d",
   "metadata": {},
   "source": [
    "#### CONCLUSIONES:\n",
    "Podemos apreciar que la precipitación actua durante el periodo de tiempo registrado en los valores de temperatura mas bajos actuando sobre si misma como datos en los que mayor precipitación de lluvia real ha sido registrada."
   ]
  },
  {
   "cell_type": "code",
   "execution_count": null,
   "id": "32175680",
   "metadata": {},
   "outputs": [],
   "source": []
  },
  {
   "cell_type": "code",
   "execution_count": null,
   "id": "5732c675",
   "metadata": {},
   "outputs": [],
   "source": []
  }
 ],
 "metadata": {
  "kernelspec": {
   "display_name": "Python 3 (ipykernel)",
   "language": "python",
   "name": "python3"
  },
  "language_info": {
   "codemirror_mode": {
    "name": "ipython",
    "version": 3
   },
   "file_extension": ".py",
   "mimetype": "text/x-python",
   "name": "python",
   "nbconvert_exporter": "python",
   "pygments_lexer": "ipython3",
   "version": "3.9.13"
  }
 },
 "nbformat": 4,
 "nbformat_minor": 5
}
